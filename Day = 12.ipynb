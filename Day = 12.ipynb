{
 "cells": [
  {
   "cell_type": "markdown",
   "id": "e51015e9-2bf6-4293-af88-fd651ff7a8a5",
   "metadata": {},
   "source": [
    "# Dictionaries"
   ]
  },
  {
   "cell_type": "code",
   "execution_count": 1,
   "id": "9e83d876-85d8-49ed-a9d7-b47b21af6859",
   "metadata": {},
   "outputs": [
    {
     "data": {
      "text/plain": [
       "dict"
      ]
     },
     "execution_count": 1,
     "metadata": {},
     "output_type": "execute_result"
    }
   ],
   "source": [
    "dic = {}\n",
    "type(dic)"
   ]
  },
  {
   "cell_type": "code",
   "execution_count": 2,
   "id": "fe165557-c768-4537-a4eb-61bfa409cc64",
   "metadata": {},
   "outputs": [
    {
     "data": {
      "text/plain": [
       "{'Name': ['Asif', 'Khadija', 'Robin'],\n",
       " 'City': ['Noakhali', 'Chittagong', 'comilla'],\n",
       " 'Grade': [3, 3.5, 4]}"
      ]
     },
     "execution_count": 2,
     "metadata": {},
     "output_type": "execute_result"
    }
   ],
   "source": [
    "dict = {'Name': ['Asif', 'Khadija', 'Robin'],\n",
    "        'City': ['Noakhali', 'Chittagong', 'comilla'],\n",
    "        'Grade': [3,3.5,4]\n",
    "       }\n",
    "dict"
   ]
  },
  {
   "cell_type": "code",
   "execution_count": 3,
   "id": "efde6c3b-348c-4580-8057-5d84b93d62fd",
   "metadata": {},
   "outputs": [
    {
     "data": {
      "text/plain": [
       "dict_keys(['Name', 'City', 'Grade'])"
      ]
     },
     "execution_count": 3,
     "metadata": {},
     "output_type": "execute_result"
    }
   ],
   "source": [
    "dict.keys()"
   ]
  },
  {
   "cell_type": "code",
   "execution_count": 4,
   "id": "f9edf771-3b3a-4baa-9a90-33a3d3c760e4",
   "metadata": {},
   "outputs": [
    {
     "data": {
      "text/plain": [
       "dict_values([['Asif', 'Khadija', 'Robin'], ['Noakhali', 'Chittagong', 'comilla'], [3, 3.5, 4]])"
      ]
     },
     "execution_count": 4,
     "metadata": {},
     "output_type": "execute_result"
    }
   ],
   "source": [
    "dict.values()"
   ]
  },
  {
   "cell_type": "code",
   "execution_count": null,
   "id": "5cc6811f-d90e-47ff-bb1a-15fff2477059",
   "metadata": {},
   "outputs": [],
   "source": []
  },
  {
   "cell_type": "markdown",
   "id": "b7beaf8e-4dfa-44a8-8a29-1d4d032b9bbb",
   "metadata": {},
   "source": [
    "# copy"
   ]
  },
  {
   "cell_type": "code",
   "execution_count": 5,
   "id": "011e6107-3156-4cca-900f-09a0a9eb300a",
   "metadata": {},
   "outputs": [
    {
     "data": {
      "text/plain": [
       "{'Name': ['Asif', 'Khadija', 'Robin'],\n",
       " 'City': ['Noakhali', 'Chittagong', 'comilla'],\n",
       " 'Grade': [3, 3.5, 4]}"
      ]
     },
     "execution_count": 5,
     "metadata": {},
     "output_type": "execute_result"
    }
   ],
   "source": [
    "Dict2 = dict.copy()\n",
    "Dict2"
   ]
  },
  {
   "cell_type": "code",
   "execution_count": 6,
   "id": "c9fea531-5143-4ae4-aa83-66d66c3d37f9",
   "metadata": {},
   "outputs": [
    {
     "data": {
      "text/plain": [
       "{'Name': ['Asif', 'Khadija', 'Robin'],\n",
       " 'City': ['Noakhali', 'Chittagong', 'comilla'],\n",
       " 'Grade': [3, 3.5, 4],\n",
       " 'Deft': ['CST', 'CT', 'MT']}"
      ]
     },
     "execution_count": 6,
     "metadata": {},
     "output_type": "execute_result"
    }
   ],
   "source": [
    "Dict2['Deft'] = ['CST', 'CT', 'MT']\n",
    "Dict2"
   ]
  },
  {
   "cell_type": "code",
   "execution_count": 7,
   "id": "1eac0ce3-b3ba-4fd3-b31b-fe5bc6b73c39",
   "metadata": {},
   "outputs": [
    {
     "data": {
      "text/plain": [
       "{'Name': ['Asif', 'Khadija', 'Robin'],\n",
       " 'City': ['Noakhali', 'Chittagong', 'comilla'],\n",
       " 'Grade': [3, 3.5, 4],\n",
       " 'Deft': ['CMT', 'CT', 'MT']}"
      ]
     },
     "execution_count": 7,
     "metadata": {},
     "output_type": "execute_result"
    }
   ],
   "source": [
    "Dict2['Deft'] = ['CMT', 'CT', 'MT']\n",
    "Dict2"
   ]
  },
  {
   "cell_type": "code",
   "execution_count": 8,
   "id": "e99f9c60-3ccf-4488-bf05-677944ef6030",
   "metadata": {},
   "outputs": [
    {
     "data": {
      "text/plain": [
       "{'Name': ['Asif', 'Khadija', 'Robin'],\n",
       " 'City': ['Noakhali', 'Chittagong', 'comilla'],\n",
       " 'Grade': [3, 3.5, 4],\n",
       " 'Deft': ['cst', 'ai', 'ml']}"
      ]
     },
     "execution_count": 8,
     "metadata": {},
     "output_type": "execute_result"
    }
   ],
   "source": [
    "Dict2.update({'Deft':['cst', 'ai', 'ml']})\n",
    "Dict2"
   ]
  },
  {
   "cell_type": "code",
   "execution_count": 9,
   "id": "8e26938d-367b-4dcd-8243-e686237d49f9",
   "metadata": {},
   "outputs": [
    {
     "data": {
      "text/plain": [
       "('Deft', ['cst', 'ai', 'ml'])"
      ]
     },
     "execution_count": 9,
     "metadata": {},
     "output_type": "execute_result"
    }
   ],
   "source": [
    "Dict2.popitem()"
   ]
  },
  {
   "cell_type": "code",
   "execution_count": 10,
   "id": "0924fde6-b8f8-468c-8057-2e3f77a85a46",
   "metadata": {},
   "outputs": [
    {
     "data": {
      "text/plain": [
       "{'Name': ['Asif', 'Khadija', 'Robin'],\n",
       " 'City': ['Noakhali', 'Chittagong', 'comilla'],\n",
       " 'Grade': [3, 3.5, 4]}"
      ]
     },
     "execution_count": 10,
     "metadata": {},
     "output_type": "execute_result"
    }
   ],
   "source": [
    "Dict2"
   ]
  },
  {
   "cell_type": "code",
   "execution_count": 11,
   "id": "0069c8a9-55d0-498a-9461-efbecc009230",
   "metadata": {},
   "outputs": [
    {
     "data": {
      "text/plain": [
       "['Noakhali', 'Chittagong', 'comilla']"
      ]
     },
     "execution_count": 11,
     "metadata": {},
     "output_type": "execute_result"
    }
   ],
   "source": [
    "Dict2.pop('City')"
   ]
  },
  {
   "cell_type": "code",
   "execution_count": 12,
   "id": "e09bc4db-bf29-4be2-beba-e0d63063edaf",
   "metadata": {},
   "outputs": [
    {
     "data": {
      "text/plain": [
       "{'Name': ['Asif', 'Khadija', 'Robin'], 'Grade': [3, 3.5, 4]}"
      ]
     },
     "execution_count": 12,
     "metadata": {},
     "output_type": "execute_result"
    }
   ],
   "source": [
    "Dict2"
   ]
  },
  {
   "cell_type": "code",
   "execution_count": 13,
   "id": "42292d65-bf7b-4ab1-9bda-c636d759ede6",
   "metadata": {},
   "outputs": [
    {
     "data": {
      "text/plain": [
       "{'Grade': [3, 3.5, 4]}"
      ]
     },
     "execution_count": 13,
     "metadata": {},
     "output_type": "execute_result"
    }
   ],
   "source": [
    "del Dict2['Name']\n",
    "Dict2"
   ]
  },
  {
   "cell_type": "code",
   "execution_count": 17,
   "id": "228c5619-140f-4d9d-8cbb-5bb597bd90d5",
   "metadata": {},
   "outputs": [
    {
     "name": "stdout",
     "output_type": "stream",
     "text": [
      "['Asif', 'Khadija', 'Robin']\n",
      "['Noakhali', 'Chittagong', 'comilla']\n",
      "[3, 3.5, 4]\n"
     ]
    }
   ],
   "source": [
    "#print all items (value)\n",
    "\n",
    "for x in dict:\n",
    "    print(dict[x])"
   ]
  },
  {
   "cell_type": "code",
   "execution_count": 18,
   "id": "a75f7d57-0a8f-4ab8-b3a1-f1d7438a15d1",
   "metadata": {},
   "outputs": [
    {
     "name": "stdout",
     "output_type": "stream",
     "text": [
      "Name\n",
      "City\n",
      "Grade\n"
     ]
    }
   ],
   "source": [
    "#view keye\n",
    "for i in dict:\n",
    "    print(i)"
   ]
  },
  {
   "cell_type": "code",
   "execution_count": 21,
   "id": "921efb36-30ed-4978-a188-12113ad5855b",
   "metadata": {},
   "outputs": [
    {
     "data": {
      "text/plain": [
       "['Name', 'City', 'Grade']"
      ]
     },
     "execution_count": 21,
     "metadata": {},
     "output_type": "execute_result"
    }
   ],
   "source": [
    "l1 = list(dict.keys())\n",
    "l1"
   ]
  },
  {
   "cell_type": "code",
   "execution_count": 22,
   "id": "50e3f368-965c-4d01-86ff-ba29338c9dd0",
   "metadata": {},
   "outputs": [
    {
     "data": {
      "text/plain": [
       "[['Asif', 'Khadija', 'Robin'],\n",
       " ['Noakhali', 'Chittagong', 'comilla'],\n",
       " [3, 3.5, 4]]"
      ]
     },
     "execution_count": 22,
     "metadata": {},
     "output_type": "execute_result"
    }
   ],
   "source": [
    "l2 = list(dict.values())\n",
    "l2"
   ]
  },
  {
   "cell_type": "code",
   "execution_count": 25,
   "id": "271cfa0c-333a-4d32-9485-56f7e956c559",
   "metadata": {},
   "outputs": [
    {
     "data": {
      "text/plain": [
       "list"
      ]
     },
     "execution_count": 25,
     "metadata": {},
     "output_type": "execute_result"
    }
   ],
   "source": [
    "type(l2)"
   ]
  },
  {
   "cell_type": "code",
   "execution_count": null,
   "id": "9c0c9814-bced-4e7e-921e-6000aa8469a8",
   "metadata": {},
   "outputs": [],
   "source": []
  },
  {
   "cell_type": "markdown",
   "id": "8a47b552-3535-4bf0-bbdb-cf13cec013e6",
   "metadata": {},
   "source": [
    "# dict from user input"
   ]
  },
  {
   "cell_type": "code",
   "execution_count": 29,
   "id": "a574a9e4-c483-4e31-a0df-3c42e6c3f7bf",
   "metadata": {},
   "outputs": [
    {
     "name": "stdin",
     "output_type": "stream",
     "text": [
      "Enter the Dict total index: 3\n",
      "enter dict key Name\n",
      "enter dict value Asif, khadija\n",
      "enter dict key Deft\n",
      "enter dict value CST, Data Science\n",
      "enter dict key Phone\n",
      "enter dict value 01312531960, 01318502711\n"
     ]
    },
    {
     "name": "stdout",
     "output_type": "stream",
     "text": [
      "{'Name': 'Asif, khadija', 'Deft': 'CST, Data Science', 'Phone': '01312531960, 01318502711'}\n"
     ]
    }
   ],
   "source": [
    "Dict = {}\n",
    "index = int(input('Enter the Dict total index:'))\n",
    "\n",
    "for i in range(index):\n",
    "    key = input('enter dict key')\n",
    "    value = input('enter dict value')\n",
    "    Dict[key] = value\n",
    "print(Dict)"
   ]
  },
  {
   "cell_type": "code",
   "execution_count": 30,
   "id": "f253abb2-cfa9-4412-9c71-093455ec8e0d",
   "metadata": {},
   "outputs": [
    {
     "data": {
      "text/plain": [
       "{'Name': 'Asif, khadija',\n",
       " 'Deft': 'CST, Data Science',\n",
       " 'Phone': '01312531960, 01318502711'}"
      ]
     },
     "execution_count": 30,
     "metadata": {},
     "output_type": "execute_result"
    }
   ],
   "source": [
    "Dict"
   ]
  },
  {
   "cell_type": "code",
   "execution_count": 32,
   "id": "448339c9-b72b-4802-a8db-da537af61d63",
   "metadata": {},
   "outputs": [
    {
     "data": {
      "text/plain": [
       "dict"
      ]
     },
     "execution_count": 32,
     "metadata": {},
     "output_type": "execute_result"
    }
   ],
   "source": [
    "type(Dict)"
   ]
  },
  {
   "cell_type": "code",
   "execution_count": null,
   "id": "ef356215-73a6-4dee-ac5c-d415541f463b",
   "metadata": {},
   "outputs": [],
   "source": []
  },
  {
   "cell_type": "raw",
   "id": "68a7c959-e43a-4911-88da-108253d94ef3",
   "metadata": {},
   "source": [
    "Asif Antaj Robin\n",
    "+88 01312531960\n",
    "asifantajrobin@gmail.com\n",
    "https://www.facebook.com/profile.php?id=100082193912347"
   ]
  }
 ],
 "metadata": {
  "kernelspec": {
   "display_name": "Python 3 (ipykernel)",
   "language": "python",
   "name": "python3"
  },
  "language_info": {
   "codemirror_mode": {
    "name": "ipython",
    "version": 3
   },
   "file_extension": ".py",
   "mimetype": "text/x-python",
   "name": "python",
   "nbconvert_exporter": "python",
   "pygments_lexer": "ipython3",
   "version": "3.11.7"
  }
 },
 "nbformat": 4,
 "nbformat_minor": 5
}

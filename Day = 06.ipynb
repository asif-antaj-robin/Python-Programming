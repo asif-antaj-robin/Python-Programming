{
 "cells": [
  {
   "cell_type": "markdown",
   "id": "2bdfd634-3677-49cd-9dee-c73840e7d84c",
   "metadata": {},
   "source": [
    "# Loop"
   ]
  },
  {
   "cell_type": "code",
   "execution_count": 1,
   "id": "1fbef5f7-d055-4c82-8dad-08ac8c5cd2ea",
   "metadata": {},
   "outputs": [],
   "source": [
    "# For Loop\n",
    "# While Loop\n",
    "# Nested Loop"
   ]
  },
  {
   "cell_type": "markdown",
   "id": "fd627316-0d30-4986-b288-61cfe12533b7",
   "metadata": {},
   "source": [
    "# For Loop"
   ]
  },
  {
   "cell_type": "code",
   "execution_count": 2,
   "id": "4abfabbd-fe1e-4c86-8efc-7f51565c3f17",
   "metadata": {},
   "outputs": [
    {
     "name": "stdout",
     "output_type": "stream",
     "text": [
      "0\n",
      "1\n",
      "2\n",
      "3\n",
      "4\n"
     ]
    }
   ],
   "source": [
    "for i in range(5): #n-1\n",
    "    print(i)"
   ]
  },
  {
   "cell_type": "code",
   "execution_count": 3,
   "id": "68a59d48-0870-42fe-b931-5f6c45ab9e8d",
   "metadata": {},
   "outputs": [
    {
     "data": {
      "text/plain": [
       "range(0, 10)"
      ]
     },
     "execution_count": 3,
     "metadata": {},
     "output_type": "execute_result"
    }
   ],
   "source": [
    "range(10) #n-1"
   ]
  },
  {
   "cell_type": "code",
   "execution_count": 4,
   "id": "91efc5bf-4016-443c-bc4b-5366bf95e8f8",
   "metadata": {},
   "outputs": [
    {
     "data": {
      "text/plain": [
       "'P'"
      ]
     },
     "execution_count": 4,
     "metadata": {},
     "output_type": "execute_result"
    }
   ],
   "source": [
    "Data = \"Python\"\n",
    "Data[0]"
   ]
  },
  {
   "cell_type": "code",
   "execution_count": 5,
   "id": "49cb3c26-6dac-47f7-a737-543f6a857da2",
   "metadata": {},
   "outputs": [
    {
     "name": "stdout",
     "output_type": "stream",
     "text": [
      "P\n",
      "y\n",
      "t\n",
      "h\n",
      "o\n",
      "n\n"
     ]
    }
   ],
   "source": [
    "for i in Data:\n",
    "    print(i)"
   ]
  },
  {
   "cell_type": "code",
   "execution_count": 6,
   "id": "13a455b2-d131-422b-8949-22abd05ced12",
   "metadata": {},
   "outputs": [
    {
     "name": "stdout",
     "output_type": "stream",
     "text": [
      "P\n",
      "y\n",
      "t\n",
      "h\n",
      "o\n",
      "n\n"
     ]
    }
   ],
   "source": [
    "for x in range(len(Data)):\n",
    "    print(Data[x])"
   ]
  },
  {
   "cell_type": "code",
   "execution_count": 7,
   "id": "d7388d92-16ff-4103-969b-57dfd0e97975",
   "metadata": {},
   "outputs": [
    {
     "data": {
      "text/plain": [
       "6"
      ]
     },
     "execution_count": 7,
     "metadata": {},
     "output_type": "execute_result"
    }
   ],
   "source": [
    "len(Data)"
   ]
  },
  {
   "cell_type": "code",
   "execution_count": 8,
   "id": "ae82482a-d2e2-4167-9ee2-346b414e9032",
   "metadata": {},
   "outputs": [
    {
     "name": "stdout",
     "output_type": "stream",
     "text": [
      "P\n",
      "y\n",
      "t\n",
      "h\n",
      "o\n",
      "n\n"
     ]
    }
   ],
   "source": [
    "for x in range(6):\n",
    "    print(Data[x])"
   ]
  },
  {
   "cell_type": "code",
   "execution_count": 9,
   "id": "d4f6feb6-1531-4034-8629-0656e47afae8",
   "metadata": {},
   "outputs": [
    {
     "name": "stdout",
     "output_type": "stream",
     "text": [
      "i\n",
      " \n",
      "l\n",
      "o\n",
      "v\n",
      "e\n",
      " \n",
      "d\n",
      "a\n",
      "t\n",
      "a\n",
      " \n",
      "s\n",
      "c\n",
      "i\n",
      "e\n",
      "n\n",
      "c\n",
      "e\n"
     ]
    }
   ],
   "source": [
    "Data = \"i love data science\"\n",
    "for i in range(len(Data)):\n",
    "    print(Data[i])"
   ]
  },
  {
   "cell_type": "code",
   "execution_count": 10,
   "id": "722a5dec-fa73-4ab2-93d0-bd86fa7e89d1",
   "metadata": {},
   "outputs": [
    {
     "name": "stdout",
     "output_type": "stream",
     "text": [
      "i\n",
      "love\n",
      "data\n",
      "science\n"
     ]
    }
   ],
   "source": [
    "Data = \"i love data science\"\n",
    "Data = Data.split()\n",
    "\n",
    "for i in range(len(Data)):\n",
    "    print(Data[i])"
   ]
  },
  {
   "cell_type": "code",
   "execution_count": 11,
   "id": "171316df-a7bc-48a6-9a2b-ef89dbe5762c",
   "metadata": {},
   "outputs": [
    {
     "name": "stdout",
     "output_type": "stream",
     "text": [
      "301\n"
     ]
    }
   ],
   "source": [
    "Number = [2,3,4,55,60,77,100]\n",
    "total = 0\n",
    "for i in Number:\n",
    "    total = total+i\n",
    "print(total)"
   ]
  },
  {
   "cell_type": "code",
   "execution_count": 12,
   "id": "4c65ddab-6079-4fba-80dd-ef81fe5734b0",
   "metadata": {},
   "outputs": [
    {
     "name": "stdout",
     "output_type": "stream",
     "text": [
      "5050\n"
     ]
    }
   ],
   "source": [
    "index = 0\n",
    "for i in range(1, 101): #n-1\n",
    "    index += i\n",
    "print(index)"
   ]
  },
  {
   "cell_type": "code",
   "execution_count": 13,
   "id": "2dcec6cb-c392-4558-aa47-aa713ea85581",
   "metadata": {},
   "outputs": [
    {
     "name": "stdout",
     "output_type": "stream",
     "text": [
      "Data Science 0\n",
      "Data Science 1\n",
      "Data Science 2\n",
      "Data Science 3\n",
      "Data Science 4\n"
     ]
    }
   ],
   "source": [
    "for i in range(5):\n",
    "    print('Data Science',i)"
   ]
  },
  {
   "cell_type": "code",
   "execution_count": 14,
   "id": "5316a20c-081b-4018-a6fe-b65bde8caa64",
   "metadata": {},
   "outputs": [
    {
     "name": "stdout",
     "output_type": "stream",
     "text": [
      "Data Science 5\n",
      "Data Science 7\n",
      "Data Science 9\n"
     ]
    }
   ],
   "source": [
    "for i in range(5,10,2): # i = i+2\n",
    "    print('Data Science',i)"
   ]
  },
  {
   "cell_type": "code",
   "execution_count": 15,
   "id": "0db95038-dc37-4fce-b665-9acbdacdbb8f",
   "metadata": {},
   "outputs": [
    {
     "name": "stdout",
     "output_type": "stream",
     "text": [
      "Data Science 100\n",
      "Data Science 90\n",
      "Data Science 80\n",
      "Data Science 70\n",
      "Data Science 60\n"
     ]
    }
   ],
   "source": [
    "for i in range(100,50,-10): # i = i+2\n",
    "    print('Data Science',i)"
   ]
  },
  {
   "cell_type": "code",
   "execution_count": null,
   "id": "c0cd5fa3-d9f5-4de1-9d47-d14582bf3df3",
   "metadata": {},
   "outputs": [],
   "source": []
  },
  {
   "cell_type": "markdown",
   "id": "4c57eec5-e812-4214-8ed4-38483247b187",
   "metadata": {},
   "source": [
    "# While Loop"
   ]
  },
  {
   "cell_type": "code",
   "execution_count": 16,
   "id": "36b32bf5-78ba-42ea-82d4-ff4f2d8340da",
   "metadata": {},
   "outputs": [
    {
     "name": "stdout",
     "output_type": "stream",
     "text": [
      "0\n",
      "1\n",
      "2\n",
      "3\n",
      "4\n",
      "5\n",
      "6\n",
      "7\n",
      "8\n",
      "9\n",
      "10\n"
     ]
    }
   ],
   "source": [
    "i = 0\n",
    "while (i<=10):\n",
    "    print(i)\n",
    "    i +=1 # i = i+1"
   ]
  },
  {
   "cell_type": "code",
   "execution_count": 17,
   "id": "cc2f9f75-6cd7-477c-81d0-865cb1c6eed8",
   "metadata": {},
   "outputs": [
    {
     "name": "stdout",
     "output_type": "stream",
     "text": [
      "0 Asif Antaj Robin\n",
      "2 Asif Antaj Robin\n",
      "4 Asif Antaj Robin\n",
      "6 Asif Antaj Robin\n",
      "8 Asif Antaj Robin\n",
      "10 Asif Antaj Robin\n"
     ]
    }
   ],
   "source": [
    "i = 0\n",
    "while (i<=10):\n",
    "    print(i, \"Asif Antaj Robin\")\n",
    "    i +=2 "
   ]
  },
  {
   "cell_type": "code",
   "execution_count": 18,
   "id": "95790c5e-377e-40fe-ac13-2c6ec9983cb0",
   "metadata": {},
   "outputs": [
    {
     "data": {
      "text/plain": [
       "'P'"
      ]
     },
     "execution_count": 18,
     "metadata": {},
     "output_type": "execute_result"
    }
   ],
   "source": [
    "Data = \"Python\"\n",
    "Data[0]"
   ]
  },
  {
   "cell_type": "code",
   "execution_count": 19,
   "id": "407b4e05-d66b-4b9d-98e2-fea35e88d062",
   "metadata": {},
   "outputs": [
    {
     "name": "stdout",
     "output_type": "stream",
     "text": [
      "i\n",
      " \n",
      "l\n",
      "o\n",
      "v\n",
      "e\n",
      " \n",
      "d\n",
      "a\n",
      "t\n",
      "a\n",
      " \n",
      "s\n",
      "c\n",
      "i\n",
      "e\n",
      "n\n",
      "c\n",
      "e\n",
      " \n",
      "s\n",
      "o\n",
      " \n",
      "m\n",
      "u\n",
      "c\n",
      "h\n"
     ]
    }
   ],
   "source": [
    "Data = 'i love data science so much'\n",
    "index = 0\n",
    "while index<len(Data):\n",
    "    print(Data[index])\n",
    "    index += 1"
   ]
  },
  {
   "cell_type": "code",
   "execution_count": 20,
   "id": "aa29d9c3-bb50-4b3d-a841-2ffef3d72a12",
   "metadata": {},
   "outputs": [
    {
     "name": "stdout",
     "output_type": "stream",
     "text": [
      "i\n",
      "love\n",
      "data\n",
      "science\n",
      "so\n",
      "much\n"
     ]
    }
   ],
   "source": [
    "Data = 'i love data science so much'\n",
    "Data = Data.split()\n",
    "index = 0\n",
    "while index<len(Data):\n",
    "    print(Data[index])\n",
    "    index += 1"
   ]
  },
  {
   "cell_type": "code",
   "execution_count": 21,
   "id": "ef02d156-f3b1-405b-b3da-3d003e6815d7",
   "metadata": {},
   "outputs": [
    {
     "name": "stdout",
     "output_type": "stream",
     "text": [
      "H\n",
      "i\n",
      " \n",
      "i\n",
      "'\n",
      "m\n",
      " \n",
      "R\n",
      "o\n",
      "b\n",
      "i\n",
      "n\n"
     ]
    }
   ],
   "source": [
    "l = \"Hi i'm Robin\"\n",
    "index = 0\n",
    "\n",
    "while index < len(l):\n",
    "    print(l[index])\n",
    "    index += 1"
   ]
  },
  {
   "cell_type": "code",
   "execution_count": 22,
   "id": "0e307663-6dc3-4a49-803d-782330c6854c",
   "metadata": {},
   "outputs": [
    {
     "name": "stdout",
     "output_type": "stream",
     "text": [
      "Hi\n",
      "i'm\n",
      "Robin\n"
     ]
    }
   ],
   "source": [
    "l = \"Hi i'm Robin\"\n",
    "l = l.split()\n",
    "index = 0\n",
    "\n",
    "while index < len(l):\n",
    "    print(l[index])\n",
    "    index += 1"
   ]
  },
  {
   "cell_type": "code",
   "execution_count": 23,
   "id": "0d430686-3929-4563-a552-a6699e903b23",
   "metadata": {},
   "outputs": [
    {
     "name": "stdout",
     "output_type": "stream",
     "text": [
      "301\n"
     ]
    }
   ],
   "source": [
    "n = [2,3,4,55,60,77,100]\n",
    "index = 0\n",
    "total = 0\n",
    "\n",
    "while index<len(n):\n",
    "    total = total+n[index]\n",
    "    #print(total)\n",
    "    index += 1\n",
    "print(total)"
   ]
  },
  {
   "cell_type": "code",
   "execution_count": null,
   "id": "65632241-d961-48ed-a444-7fd9244db109",
   "metadata": {},
   "outputs": [],
   "source": []
  },
  {
   "cell_type": "markdown",
   "id": "f8da88e3-2bff-4b72-b081-be8a5f1f6e73",
   "metadata": {},
   "source": [
    "# Nested Loop"
   ]
  },
  {
   "cell_type": "code",
   "execution_count": 24,
   "id": "0efeea22-f88a-41ca-a0c1-fea2b40c31e7",
   "metadata": {},
   "outputs": [
    {
     "name": "stdout",
     "output_type": "stream",
     "text": [
      "# \n",
      "# # \n",
      "# # # \n",
      "# # # # \n"
     ]
    }
   ],
   "source": [
    "rows = 4\n",
    "for i in range(1, rows+1):\n",
    "    for x in range(1, i+1):\n",
    "        print(\"#\", end = \" \")\n",
    "    print()"
   ]
  },
  {
   "cell_type": "code",
   "execution_count": 25,
   "id": "06ae55e2-528f-4875-ac2b-e880afa99a86",
   "metadata": {},
   "outputs": [
    {
     "name": "stdout",
     "output_type": "stream",
     "text": [
      "1 2 3 4 \n",
      "\n",
      "1 2 3 4 \n",
      "\n",
      "1 2 3 4 \n",
      "\n",
      "1 2 3 4 \n",
      "\n"
     ]
    }
   ],
   "source": [
    "number = [1,2,3,4]\n",
    "\n",
    "for ele in number:\n",
    "    index = 0\n",
    "    while index<len(number):\n",
    "        print(number[index], end = \" \")\n",
    "        index = index+1\n",
    "    print('\\n')"
   ]
  },
  {
   "cell_type": "code",
   "execution_count": 26,
   "id": "03013c8c-e007-4186-b789-57e5d1956c86",
   "metadata": {},
   "outputs": [
    {
     "name": "stdout",
     "output_type": "stream",
     "text": [
      "A\n",
      "As\n",
      "Asi\n",
      "Asif\n",
      "Asif \n",
      "Asif A\n",
      "Asif An\n",
      "Asif Ant\n",
      "Asif Anta\n",
      "Asif Antaj\n",
      "Asif Antaj \n",
      "Asif Antaj R\n",
      "Asif Antaj Ro\n",
      "Asif Antaj Rob\n",
      "Asif Antaj Robi\n",
      "Asif Antaj Robin\n"
     ]
    }
   ],
   "source": [
    "string = \"Asif Antaj Robin\"\n",
    "x = 0\n",
    "\n",
    "for i in string:\n",
    "    x = x+1   # x=+1\n",
    "    print(string[0:x])\n"
   ]
  },
  {
   "cell_type": "code",
   "execution_count": null,
   "id": "354fc81d-154c-4217-8ab9-455d286a31e0",
   "metadata": {},
   "outputs": [],
   "source": []
  },
  {
   "cell_type": "raw",
   "id": "e0f8e73b-092d-46ed-844e-8e1fca33ae15",
   "metadata": {},
   "source": [
    "Asif Antaj Robin\n",
    "+88 01312531960\n",
    "asifantajrobin@gmail.com\n",
    "https://www.facebook.com/profile.php?id=100082193912347"
   ]
  }
 ],
 "metadata": {
  "kernelspec": {
   "display_name": "Python 3 (ipykernel)",
   "language": "python",
   "name": "python3"
  },
  "language_info": {
   "codemirror_mode": {
    "name": "ipython",
    "version": 3
   },
   "file_extension": ".py",
   "mimetype": "text/x-python",
   "name": "python",
   "nbconvert_exporter": "python",
   "pygments_lexer": "ipython3",
   "version": "3.11.7"
  }
 },
 "nbformat": 4,
 "nbformat_minor": 5
}

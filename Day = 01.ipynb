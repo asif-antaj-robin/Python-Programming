{
 "cells": [
  {
   "cell_type": "markdown",
   "id": "261dd992-9d43-4be5-aca7-d22863277bb0",
   "metadata": {},
   "source": [
    "# Variables"
   ]
  },
  {
   "cell_type": "raw",
   "id": "33d6c96a-37bb-4137-b82f-0647d381c820",
   "metadata": {},
   "source": [
    "camleCaseVar\n",
    "PascalCaseVar\n",
    "snake_case_var"
   ]
  },
  {
   "cell_type": "code",
   "execution_count": 1,
   "id": "d69b39e7-7b38-4d4b-b7d8-96664ba5c492",
   "metadata": {},
   "outputs": [],
   "source": [
    "#Run = Shift+Enter\n",
    "#Run = Ctrl+Enter"
   ]
  },
  {
   "cell_type": "code",
   "execution_count": 2,
   "id": "9af0a936-f5c4-48d4-ad97-11ac07abcd49",
   "metadata": {},
   "outputs": [],
   "source": [
    "myName = 'Asif Antaj Robin' #camleCaseVar\n",
    "MyName = 'Asif Antaj Robin' #PascalCaseVar\n",
    "my_name = 'Asif Antaj Robin' #snake_case_var"
   ]
  },
  {
   "cell_type": "code",
   "execution_count": 3,
   "id": "61793750-084e-4762-b373-a654be53ce73",
   "metadata": {},
   "outputs": [
    {
     "data": {
      "text/plain": [
       "'Hello World'"
      ]
     },
     "execution_count": 3,
     "metadata": {},
     "output_type": "execute_result"
    }
   ],
   "source": [
    "var = 'Hello World'\n",
    "var"
   ]
  },
  {
   "cell_type": "code",
   "execution_count": 4,
   "id": "e13c9f00-58b5-44c8-b5b5-5d60c28d4a04",
   "metadata": {},
   "outputs": [
    {
     "data": {
      "text/plain": [
       "'asif antaj robin'"
      ]
     },
     "execution_count": 4,
     "metadata": {},
     "output_type": "execute_result"
    }
   ],
   "source": [
    "name = 'Asif Antaj Robin'\n",
    "x = 'asif antaj robin'\n",
    "x"
   ]
  },
  {
   "cell_type": "code",
   "execution_count": 5,
   "id": "88dbc9c9-3039-4b2d-9038-10a1d2f329d3",
   "metadata": {},
   "outputs": [
    {
     "data": {
      "text/plain": [
       "'data science'"
      ]
     },
     "execution_count": 5,
     "metadata": {},
     "output_type": "execute_result"
    }
   ],
   "source": [
    "'data science' "
   ]
  },
  {
   "cell_type": "code",
   "execution_count": null,
   "id": "49188269-ad10-414a-b598-b09d4c73695e",
   "metadata": {},
   "outputs": [],
   "source": []
  },
  {
   "cell_type": "markdown",
   "id": "bc07c7e7-6ec4-4dd4-84f3-a0becb5fbacb",
   "metadata": {},
   "source": [
    "# Input/Output ()"
   ]
  },
  {
   "cell_type": "code",
   "execution_count": 6,
   "id": "de6a4403-a392-4d42-a6c6-235db319e95a",
   "metadata": {},
   "outputs": [],
   "source": [
    "#input()\n",
    "#print()"
   ]
  },
  {
   "cell_type": "code",
   "execution_count": 7,
   "id": "2cbde6f4-655c-485c-ad11-df099e800e76",
   "metadata": {},
   "outputs": [
    {
     "name": "stdin",
     "output_type": "stream",
     "text": [
      " Asif Antaj Robin\n"
     ]
    }
   ],
   "source": [
    "Name = input()"
   ]
  },
  {
   "cell_type": "code",
   "execution_count": 15,
   "id": "5f5695e4-cde5-4943-92bc-f712df0a209b",
   "metadata": {},
   "outputs": [
    {
     "name": "stdin",
     "output_type": "stream",
     "text": [
      "Enter your 1st num:  100\n",
      "Enter your 2nd num:  1000\n"
     ]
    }
   ],
   "source": [
    "x  = int(input('Enter your 1st num: '))\n",
    "y  = int(input('Enter your 2nd num: '))"
   ]
  },
  {
   "cell_type": "code",
   "execution_count": 16,
   "id": "e872721e-d9f9-4c2a-96ab-84432399c30a",
   "metadata": {},
   "outputs": [
    {
     "name": "stdin",
     "output_type": "stream",
     "text": [
      "Enter your 1st num:  10.5\n",
      "Enter your 2nd num:  50\n"
     ]
    }
   ],
   "source": [
    "x  = float(input('Enter your 1st num: '))\n",
    "y  = float(input('Enter your 2nd num: '))"
   ]
  },
  {
   "cell_type": "code",
   "execution_count": null,
   "id": "1345597d-3817-45ce-8841-3673f35d4508",
   "metadata": {},
   "outputs": [],
   "source": []
  },
  {
   "cell_type": "code",
   "execution_count": 8,
   "id": "4ddd5996-5307-42dc-8e76-ad87af8a740a",
   "metadata": {},
   "outputs": [
    {
     "name": "stdout",
     "output_type": "stream",
     "text": [
      "Hello World & Welcome to 20 Days of Python."
     ]
    }
   ],
   "source": [
    "print('Hello World', 'Welcome to 20 Days of Python', sep=' & ', end='.') #shift+tab"
   ]
  },
  {
   "cell_type": "code",
   "execution_count": 9,
   "id": "345b6bfe-fba2-4988-9145-8fcdcbe81cf8",
   "metadata": {},
   "outputs": [],
   "source": [
    "x,y,z = 10, 100, 1000"
   ]
  },
  {
   "cell_type": "code",
   "execution_count": 10,
   "id": "b813c6f1-6206-451a-9aad-d31cca5f1fe3",
   "metadata": {},
   "outputs": [
    {
     "name": "stdout",
     "output_type": "stream",
     "text": [
      "Hello World\n",
      "My Sentence is Hello World\n"
     ]
    }
   ],
   "source": [
    "var = 'Hello World'\n",
    "print(var)\n",
    "\n",
    "print('My Sentence is '+var)"
   ]
  },
  {
   "cell_type": "code",
   "execution_count": null,
   "id": "b26ab18c-7f08-45e0-9fe6-e99776768fd3",
   "metadata": {},
   "outputs": [],
   "source": []
  },
  {
   "cell_type": "markdown",
   "id": "a6af8e21-d605-4f88-9650-8e9a84365307",
   "metadata": {},
   "source": [
    "# lacal & global"
   ]
  },
  {
   "cell_type": "code",
   "execution_count": 11,
   "id": "4610acfb-9af2-463e-9f04-6a6207b94e8f",
   "metadata": {},
   "outputs": [
    {
     "name": "stdout",
     "output_type": "stream",
     "text": [
      "My Num is :  500\n"
     ]
    }
   ],
   "source": [
    "x = 1000 #global\n",
    "\n",
    "def func1():\n",
    "    x = 500 #local\n",
    "    print('My Num is : ',x)\n",
    "func1()"
   ]
  },
  {
   "cell_type": "code",
   "execution_count": 12,
   "id": "5af7532a-44ee-496b-95d1-30689f8e2af8",
   "metadata": {},
   "outputs": [
    {
     "name": "stdout",
     "output_type": "stream",
     "text": [
      "My Num is :  500\n",
      "My Num is :  1000\n"
     ]
    }
   ],
   "source": [
    "x = 1000 #global\n",
    "\n",
    "def func1():\n",
    "    x = 500 #local\n",
    "    print('My Num is : ',x)\n",
    "func1()\n",
    "print('My Num is : ',x)"
   ]
  },
  {
   "cell_type": "code",
   "execution_count": 13,
   "id": "20ad5f5f-bb12-4ebc-9903-b8833d2a7542",
   "metadata": {},
   "outputs": [
    {
     "name": "stdout",
     "output_type": "stream",
     "text": [
      "My Num is :  500\n",
      "My Num is :  500\n"
     ]
    }
   ],
   "source": [
    "def func1():\n",
    "    global a\n",
    "    a = 500 #local\n",
    "    print('My Num is : ',a)\n",
    "func1()\n",
    "print('My Num is : ',a)"
   ]
  },
  {
   "cell_type": "code",
   "execution_count": null,
   "id": "8e3c2344-ec75-40f5-b457-704c23d366b7",
   "metadata": {},
   "outputs": [],
   "source": []
  },
  {
   "cell_type": "raw",
   "id": "212e4c9f-dd23-4c1a-95e8-c20c7d0aa8dc",
   "metadata": {},
   "source": [
    "Asif Antaj Robin\n",
    "+88 01312531960\n",
    "asifantajrobin@gmail.com\n",
    "https://www.facebook.com/profile.php?id=100082193912347"
   ]
  }
 ],
 "metadata": {
  "kernelspec": {
   "display_name": "Python 3 (ipykernel)",
   "language": "python",
   "name": "python3"
  },
  "language_info": {
   "codemirror_mode": {
    "name": "ipython",
    "version": 3
   },
   "file_extension": ".py",
   "mimetype": "text/x-python",
   "name": "python",
   "nbconvert_exporter": "python",
   "pygments_lexer": "ipython3",
   "version": "3.11.7"
  }
 },
 "nbformat": 4,
 "nbformat_minor": 5
}

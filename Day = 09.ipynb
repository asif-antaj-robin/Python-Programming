{
 "cells": [
  {
   "cell_type": "markdown",
   "id": "45251bc8-46f7-4d5b-b4dd-0ce4e27f563c",
   "metadata": {},
   "source": [
    "# Tuple in Python"
   ]
  },
  {
   "cell_type": "code",
   "execution_count": 1,
   "id": "42eae03e-f375-45a0-b5d4-6e75391dea77",
   "metadata": {},
   "outputs": [
    {
     "data": {
      "text/plain": [
       "()"
      ]
     },
     "execution_count": 1,
     "metadata": {},
     "output_type": "execute_result"
    }
   ],
   "source": [
    "tup1 = ()\n",
    "tup1"
   ]
  },
  {
   "cell_type": "code",
   "execution_count": 2,
   "id": "8db8800a-335b-4cb1-8af9-a6342f25bbd9",
   "metadata": {},
   "outputs": [
    {
     "data": {
      "text/plain": [
       "tuple"
      ]
     },
     "execution_count": 2,
     "metadata": {},
     "output_type": "execute_result"
    }
   ],
   "source": [
    "type(tup1)"
   ]
  },
  {
   "cell_type": "code",
   "execution_count": 3,
   "id": "b5a3b679-2f52-4b73-9fc7-b526e6ef3cbf",
   "metadata": {},
   "outputs": [
    {
     "data": {
      "text/plain": [
       "True"
      ]
     },
     "execution_count": 3,
     "metadata": {},
     "output_type": "execute_result"
    }
   ],
   "source": [
    "tup2 = ('Data','Python','Ai',1,2,3,4,6,[10,20,100],True)\n",
    "tup2[-1]"
   ]
  },
  {
   "cell_type": "code",
   "execution_count": 4,
   "id": "72c8eb60-0b2c-4a10-ab91-b6f3b0a3b40e",
   "metadata": {},
   "outputs": [
    {
     "data": {
      "text/plain": [
       "('Data', 'Python', 'Ai', 1, 2)"
      ]
     },
     "execution_count": 4,
     "metadata": {},
     "output_type": "execute_result"
    }
   ],
   "source": [
    "tup2[0:5]"
   ]
  },
  {
   "cell_type": "code",
   "execution_count": 5,
   "id": "c2b84d45-5f15-429f-bc17-95b3fa217224",
   "metadata": {},
   "outputs": [
    {
     "data": {
      "text/plain": [
       "str"
      ]
     },
     "execution_count": 5,
     "metadata": {},
     "output_type": "execute_result"
    }
   ],
   "source": [
    "tup3 = ('Asif Antaj Robin')\n",
    "type(tup3)"
   ]
  },
  {
   "cell_type": "code",
   "execution_count": 6,
   "id": "7f8e9ffd-5e5c-4647-951c-cbf99cda3694",
   "metadata": {},
   "outputs": [
    {
     "data": {
      "text/plain": [
       "tuple"
      ]
     },
     "execution_count": 6,
     "metadata": {},
     "output_type": "execute_result"
    }
   ],
   "source": [
    "tup4 = ('Asif Antaj Robin',)\n",
    "type(tup4)"
   ]
  },
  {
   "cell_type": "code",
   "execution_count": 8,
   "id": "58eb781d-f41f-4982-898f-80c660ecb57a",
   "metadata": {},
   "outputs": [
    {
     "data": {
      "text/plain": [
       "'Asif Antaj Robin'"
      ]
     },
     "execution_count": 8,
     "metadata": {},
     "output_type": "execute_result"
    }
   ],
   "source": [
    "tup4[0]"
   ]
  },
  {
   "cell_type": "code",
   "execution_count": 11,
   "id": "41c3c3d5-4487-4f75-be54-8a89ae124aeb",
   "metadata": {},
   "outputs": [
    {
     "data": {
      "text/plain": [
       "['Asif Antaj Robin', 'Khadija Begum']"
      ]
     },
     "execution_count": 11,
     "metadata": {},
     "output_type": "execute_result"
    }
   ],
   "source": [
    "li = list(tup4)\n",
    "li.append('Khadija Begum')\n",
    "li"
   ]
  },
  {
   "cell_type": "code",
   "execution_count": 12,
   "id": "c2ba9efc-1c8b-43c8-b094-87cd6f47a11a",
   "metadata": {},
   "outputs": [
    {
     "data": {
      "text/plain": [
       "('Asif Antaj Robin', 'Khadija Begum')"
      ]
     },
     "execution_count": 12,
     "metadata": {},
     "output_type": "execute_result"
    }
   ],
   "source": [
    "tup4 = tuple(li)\n",
    "tup4"
   ]
  },
  {
   "cell_type": "code",
   "execution_count": 13,
   "id": "2131ca5f-886c-43c8-b388-5f813917fbcd",
   "metadata": {},
   "outputs": [
    {
     "data": {
      "text/plain": [
       "tuple"
      ]
     },
     "execution_count": 13,
     "metadata": {},
     "output_type": "execute_result"
    }
   ],
   "source": [
    "type(tup4)"
   ]
  },
  {
   "cell_type": "code",
   "execution_count": 16,
   "id": "08dfc144-2fde-4430-b5d8-6ece99edbadb",
   "metadata": {},
   "outputs": [
    {
     "data": {
      "text/plain": [
       "tuple"
      ]
     },
     "execution_count": 16,
     "metadata": {},
     "output_type": "execute_result"
    }
   ],
   "source": [
    "tup5 = tuple([1,2,3,3,4])\n",
    "type(tup5)"
   ]
  },
  {
   "cell_type": "code",
   "execution_count": 17,
   "id": "22b3cba6-130d-4b07-b283-9d3243190ed9",
   "metadata": {},
   "outputs": [
    {
     "data": {
      "text/plain": [
       "(1, 2, 3, 3, 4)"
      ]
     },
     "execution_count": 17,
     "metadata": {},
     "output_type": "execute_result"
    }
   ],
   "source": [
    "tup5"
   ]
  },
  {
   "cell_type": "code",
   "execution_count": 18,
   "id": "171769dc-b81d-4fff-8dcb-9bd1917a271e",
   "metadata": {},
   "outputs": [
    {
     "data": {
      "text/plain": [
       "('Asif Antaj Robin', 'Khadija Begum', 1, 2, 3, 3, 4)"
      ]
     },
     "execution_count": 18,
     "metadata": {},
     "output_type": "execute_result"
    }
   ],
   "source": [
    "tup4+tup5"
   ]
  },
  {
   "cell_type": "code",
   "execution_count": 21,
   "id": "00c94749-3d1d-40e4-80fa-863e1c70c117",
   "metadata": {},
   "outputs": [
    {
     "data": {
      "text/plain": [
       "str"
      ]
     },
     "execution_count": 21,
     "metadata": {},
     "output_type": "execute_result"
    }
   ],
   "source": [
    "tup6 = \"Asif Antaj Robin\"\n",
    "type(tup6)"
   ]
  },
  {
   "cell_type": "code",
   "execution_count": 22,
   "id": "b2e4ec12-3167-4b97-9e0b-2e067b31162b",
   "metadata": {},
   "outputs": [
    {
     "data": {
      "text/plain": [
       "tuple"
      ]
     },
     "execution_count": 22,
     "metadata": {},
     "output_type": "execute_result"
    }
   ],
   "source": [
    "tup6 = \"Asif Antaj Robin\",\n",
    "type(tup6)"
   ]
  },
  {
   "cell_type": "code",
   "execution_count": 23,
   "id": "bf216997-8f4b-490f-86ef-fc177d60812b",
   "metadata": {},
   "outputs": [
    {
     "data": {
      "text/plain": [
       "tuple"
      ]
     },
     "execution_count": 23,
     "metadata": {},
     "output_type": "execute_result"
    }
   ],
   "source": [
    "tup6 = \"Asif Antaj Robin\", \"Khadija Begum\"\n",
    "type(tup6)"
   ]
  },
  {
   "cell_type": "code",
   "execution_count": 24,
   "id": "8d250f27-79c6-48f4-8d49-1f12794060bf",
   "metadata": {},
   "outputs": [
    {
     "data": {
      "text/plain": [
       "('Asif Antaj Robin', 'Khadija Begum')"
      ]
     },
     "execution_count": 24,
     "metadata": {},
     "output_type": "execute_result"
    }
   ],
   "source": [
    "tup6"
   ]
  },
  {
   "cell_type": "code",
   "execution_count": 25,
   "id": "e55fbbb1-e34c-4c41-8d9e-99f57a2618ad",
   "metadata": {},
   "outputs": [
    {
     "data": {
      "text/plain": [
       "('Asif Antaj Robin', 'Khadija Begum', 'Asif Antaj Robin', 'Khadija Begum')"
      ]
     },
     "execution_count": 25,
     "metadata": {},
     "output_type": "execute_result"
    }
   ],
   "source": [
    "tup7 = tup6*2\n",
    "tup7"
   ]
  },
  {
   "cell_type": "code",
   "execution_count": null,
   "id": "320ba997-8130-4609-8bd4-9c503665e75f",
   "metadata": {},
   "outputs": [],
   "source": []
  },
  {
   "cell_type": "markdown",
   "id": "0e7f9e1a-5efa-4058-854f-3a645d2fafd4",
   "metadata": {},
   "source": [
    "# Tuple Methods"
   ]
  },
  {
   "cell_type": "code",
   "execution_count": 28,
   "id": "945dea2d-d7fc-4cc9-8e6d-2d74239e2e3c",
   "metadata": {},
   "outputs": [
    {
     "data": {
      "text/plain": [
       "('Asif Antaj Robin', 'Khadija Begum', 'Asif Antaj Robin', 'Khadija Begum')"
      ]
     },
     "execution_count": 28,
     "metadata": {},
     "output_type": "execute_result"
    }
   ],
   "source": [
    "tup7"
   ]
  },
  {
   "cell_type": "code",
   "execution_count": 29,
   "id": "2ae21a99-43ea-400b-a995-d534e55b04de",
   "metadata": {},
   "outputs": [
    {
     "data": {
      "text/plain": [
       "2"
      ]
     },
     "execution_count": 29,
     "metadata": {},
     "output_type": "execute_result"
    }
   ],
   "source": [
    "tup7.count(\"Asif Antaj Robin\")"
   ]
  },
  {
   "cell_type": "code",
   "execution_count": 31,
   "id": "ef4b6b41-ab1f-44e7-87ae-a376c5bf6665",
   "metadata": {},
   "outputs": [
    {
     "data": {
      "text/plain": [
       "0"
      ]
     },
     "execution_count": 31,
     "metadata": {},
     "output_type": "execute_result"
    }
   ],
   "source": [
    "tup7.index(\"Asif Antaj Robin\")"
   ]
  },
  {
   "cell_type": "code",
   "execution_count": 32,
   "id": "5e5362dd-e64e-4882-9dd9-2eb28ed1a12e",
   "metadata": {},
   "outputs": [
    {
     "data": {
      "text/plain": [
       "True"
      ]
     },
     "execution_count": 32,
     "metadata": {},
     "output_type": "execute_result"
    }
   ],
   "source": [
    "\"Khadija Begum\" in tup7"
   ]
  },
  {
   "cell_type": "code",
   "execution_count": 34,
   "id": "36c5747d-2fd0-4807-bc9d-bbed4e6516a7",
   "metadata": {},
   "outputs": [
    {
     "ename": "NameError",
     "evalue": "name 'tup7' is not defined",
     "output_type": "error",
     "traceback": [
      "\u001b[1;31m---------------------------------------------------------------------------\u001b[0m",
      "\u001b[1;31mNameError\u001b[0m                                 Traceback (most recent call last)",
      "Cell \u001b[1;32mIn[34], line 1\u001b[0m\n\u001b[1;32m----> 1\u001b[0m \u001b[38;5;28;01mdel\u001b[39;00m tup7\n\u001b[0;32m      2\u001b[0m tup7\n",
      "\u001b[1;31mNameError\u001b[0m: name 'tup7' is not defined"
     ]
    }
   ],
   "source": [
    "del tup7\n",
    "tup7"
   ]
  },
  {
   "cell_type": "code",
   "execution_count": null,
   "id": "ab54744f-5736-4043-aa2b-dbb2d82390f1",
   "metadata": {},
   "outputs": [],
   "source": []
  },
  {
   "cell_type": "raw",
   "id": "3e8703e3-d834-4b11-8c8c-f3d57583bee9",
   "metadata": {},
   "source": [
    "Asif Antaj Robin\n",
    "+88 01312531960\n",
    "asifantajrobin@gmail.com\n",
    "https://www.facebook.com/profile.php?id=100082193912347"
   ]
  }
 ],
 "metadata": {
  "kernelspec": {
   "display_name": "Python 3 (ipykernel)",
   "language": "python",
   "name": "python3"
  },
  "language_info": {
   "codemirror_mode": {
    "name": "ipython",
    "version": 3
   },
   "file_extension": ".py",
   "mimetype": "text/x-python",
   "name": "python",
   "nbconvert_exporter": "python",
   "pygments_lexer": "ipython3",
   "version": "3.11.7"
  }
 },
 "nbformat": 4,
 "nbformat_minor": 5
}

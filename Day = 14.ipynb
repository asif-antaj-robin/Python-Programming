{
 "cells": [
  {
   "cell_type": "markdown",
   "id": "3c66a79c-8f14-4fe2-b32f-a4286ebe7356",
   "metadata": {},
   "source": [
    "# Python Break Statement"
   ]
  },
  {
   "cell_type": "code",
   "execution_count": 17,
   "id": "f83776dd-c5dc-426a-b22f-f64ff360c92a",
   "metadata": {},
   "outputs": [],
   "source": [
    "# for loop"
   ]
  },
  {
   "cell_type": "code",
   "execution_count": 1,
   "id": "593538d1-3dc7-4383-bd40-19fc8be0cbd3",
   "metadata": {},
   "outputs": [
    {
     "name": "stdout",
     "output_type": "stream",
     "text": [
      "1\n",
      "2\n",
      "3\n",
      "4\n",
      "5\n",
      "6\n",
      "7\n",
      "8\n",
      "9\n",
      "10\n"
     ]
    }
   ],
   "source": [
    "for i in range(1,100):\n",
    "    if i == 11:\n",
    "        break\n",
    "    print(i)"
   ]
  },
  {
   "cell_type": "code",
   "execution_count": 3,
   "id": "111e47b5-de78-474e-b23a-39e1944839fc",
   "metadata": {},
   "outputs": [
    {
     "name": "stdout",
     "output_type": "stream",
     "text": [
      "3* 1  =  3\n",
      "3* 2  =  6\n",
      "3* 3  =  9\n",
      "3* 4  =  12\n",
      "3* 5  =  15\n",
      "3* 6  =  18\n",
      "3* 7  =  21\n",
      "3* 8  =  24\n",
      "3* 9  =  27\n",
      "3* 10  =  30\n"
     ]
    }
   ],
   "source": [
    "for i in range(1,100):\n",
    "    if i == 11:\n",
    "        break\n",
    "    print(\"3*\", i, \" = \", i*3)"
   ]
  },
  {
   "cell_type": "code",
   "execution_count": 7,
   "id": "86b9aa95-aa6e-4127-a985-aefbd13aa187",
   "metadata": {},
   "outputs": [
    {
     "name": "stdout",
     "output_type": "stream",
     "text": [
      "I\n",
      "love\n",
      "Data\n",
      "Science\n"
     ]
    }
   ],
   "source": [
    "Data = 'I love Data Science and machine learning'\n",
    "\n",
    "for i in Data.split():\n",
    "    if i == 'and':\n",
    "        break\n",
    "    print(i)"
   ]
  },
  {
   "cell_type": "code",
   "execution_count": null,
   "id": "b01c61fd-c275-4ff1-8b66-6aab1b55ed52",
   "metadata": {},
   "outputs": [],
   "source": []
  },
  {
   "cell_type": "code",
   "execution_count": 16,
   "id": "1238f5e9-e694-484d-9063-cbfdc18ac4a6",
   "metadata": {},
   "outputs": [],
   "source": [
    "# whule loop"
   ]
  },
  {
   "cell_type": "code",
   "execution_count": 10,
   "id": "ae8e7c4d-78aa-4f31-b556-949109ad0069",
   "metadata": {},
   "outputs": [
    {
     "name": "stdout",
     "output_type": "stream",
     "text": [
      "1\n",
      "2\n",
      "3\n",
      "4\n",
      "5\n",
      "6\n",
      "7\n",
      "8\n",
      "9\n",
      "10\n"
     ]
    }
   ],
   "source": [
    "i = 1\n",
    "while i<100:\n",
    "    if i == 11:\n",
    "        break\n",
    "    print(i)\n",
    "    i+=1"
   ]
  },
  {
   "cell_type": "code",
   "execution_count": 14,
   "id": "bac0c544-d16b-4223-a95f-7f2eb7e9371e",
   "metadata": {},
   "outputs": [
    {
     "name": "stdout",
     "output_type": "stream",
     "text": [
      "I\n",
      "love\n",
      "Data\n",
      "Science\n"
     ]
    }
   ],
   "source": [
    "Data = 'I love Data Science and machine learning'\n",
    "\n",
    "words = Data.split()\n",
    "i = 0\n",
    "\n",
    "while i < len(words):\n",
    "    if words[i] == 'and':\n",
    "        break\n",
    "    print(words[i])\n",
    "    i += 1"
   ]
  },
  {
   "cell_type": "code",
   "execution_count": 15,
   "id": "ea558803-e63f-4374-8107-393ae03f26fa",
   "metadata": {},
   "outputs": [
    {
     "name": "stdout",
     "output_type": "stream",
     "text": [
      "0\n",
      "1\n",
      "2\n",
      "3\n",
      "4\n",
      "5\n",
      "6\n",
      "7\n",
      "8\n",
      "9\n"
     ]
    }
   ],
   "source": [
    "i = 0\n",
    "while i<len(range(11)):\n",
    "    if i == 10:\n",
    "        break\n",
    "    print(i)\n",
    "    i+=1"
   ]
  },
  {
   "cell_type": "code",
   "execution_count": null,
   "id": "845b4b6c-6b8a-455c-b9c8-af0fdb1a7003",
   "metadata": {},
   "outputs": [],
   "source": []
  },
  {
   "cell_type": "markdown",
   "id": "79fd03f4-fcc9-4226-8f17-ba2d4f7997df",
   "metadata": {},
   "source": [
    "# Python Continue Statement"
   ]
  },
  {
   "cell_type": "code",
   "execution_count": 18,
   "id": "1bc2bfc4-0e43-4e35-85d9-5e8842a65886",
   "metadata": {},
   "outputs": [
    {
     "name": "stdout",
     "output_type": "stream",
     "text": [
      "I\n",
      "love\n",
      "Data\n",
      "Science\n",
      "machine\n",
      "learning\n"
     ]
    }
   ],
   "source": [
    "Data = 'I love Data Science and machine learning'\n",
    "#Data = Data.split()\n",
    "for i in Data.split():\n",
    "    if i == 'and':\n",
    "        continue\n",
    "    print(i)"
   ]
  },
  {
   "cell_type": "code",
   "execution_count": 19,
   "id": "5d1a8170-764d-480b-a514-1f018049144b",
   "metadata": {},
   "outputs": [
    {
     "data": {
      "text/plain": [
       "[2, 4, 6, 8, 10, 12, 14]"
      ]
     },
     "execution_count": 19,
     "metadata": {},
     "output_type": "execute_result"
    }
   ],
   "source": [
    "x = range(1,16)\n",
    "[i for i in x if i%2==0]"
   ]
  },
  {
   "cell_type": "code",
   "execution_count": 20,
   "id": "9bddc534-1fbd-47b0-836f-82f3eb822fdb",
   "metadata": {},
   "outputs": [
    {
     "name": "stdout",
     "output_type": "stream",
     "text": [
      "1\n",
      "3\n",
      "5\n",
      "7\n",
      "9\n",
      "11\n",
      "13\n",
      "15\n"
     ]
    }
   ],
   "source": [
    "for i in range(1,16):\n",
    "    if i%2==0:\n",
    "        continue\n",
    "    print(i)"
   ]
  },
  {
   "cell_type": "code",
   "execution_count": 21,
   "id": "7dc65636-2618-4183-afb1-291a809cedd5",
   "metadata": {},
   "outputs": [
    {
     "name": "stdout",
     "output_type": "stream",
     "text": [
      "2\n",
      "4\n",
      "6\n",
      "8\n",
      "10\n",
      "12\n",
      "14\n"
     ]
    }
   ],
   "source": [
    "for i in range(1,16):\n",
    "    if i%2==1:\n",
    "        continue\n",
    "    print(i)"
   ]
  },
  {
   "cell_type": "code",
   "execution_count": null,
   "id": "a970d470-e01f-4121-99d7-75a81a60cd97",
   "metadata": {},
   "outputs": [],
   "source": []
  },
  {
   "cell_type": "markdown",
   "id": "e0427170-625d-4217-8a1f-9f0412854e07",
   "metadata": {},
   "source": [
    "# python Func() / Return statement"
   ]
  },
  {
   "cell_type": "code",
   "execution_count": 1,
   "id": "a61b97c9-8554-4263-abae-499961cf6eac",
   "metadata": {},
   "outputs": [
    {
     "name": "stdout",
     "output_type": "stream",
     "text": [
      "Data Science!\n"
     ]
    }
   ],
   "source": [
    "def dept():\n",
    "    print('Data Science!')\n",
    "dept()"
   ]
  },
  {
   "cell_type": "markdown",
   "id": "2b9ee3e2-13b0-4032-828f-682eff237abf",
   "metadata": {},
   "source": [
    "def dept_with_names(name):\n",
    "    print(f'My Subject is a {name}')\n",
    "dept_with_names('Python Data Science and Machine learning')"
   ]
  },
  {
   "cell_type": "code",
   "execution_count": 3,
   "id": "3d73976b-643a-4f2a-8301-ea284ecd39db",
   "metadata": {},
   "outputs": [
    {
     "name": "stdout",
     "output_type": "stream",
     "text": [
      "Asif Antaj Robin\n"
     ]
    },
    {
     "data": {
      "text/plain": [
       "1"
      ]
     },
     "execution_count": 3,
     "metadata": {},
     "output_type": "execute_result"
    }
   ],
   "source": [
    "def Name():\n",
    "    print('Asif Antaj Robin')\n",
    "    return 1\n",
    "Name()"
   ]
  },
  {
   "cell_type": "code",
   "execution_count": null,
   "id": "a48d2aee-50de-45eb-bf4b-78860353f42e",
   "metadata": {},
   "outputs": [],
   "source": []
  },
  {
   "cell_type": "markdown",
   "id": "0a808aea-0848-4323-884f-42fde814c189",
   "metadata": {},
   "source": [
    "# More about return"
   ]
  },
  {
   "cell_type": "code",
   "execution_count": 9,
   "id": "9165f3c3-56aa-4796-b91a-ae4f9acc9c09",
   "metadata": {},
   "outputs": [
    {
     "name": "stdin",
     "output_type": "stream",
     "text": [
      " 10\n",
      " 100\n",
      " 50\n",
      " 500\n"
     ]
    },
    {
     "data": {
      "text/plain": [
       "(10, 100)"
      ]
     },
     "execution_count": 9,
     "metadata": {},
     "output_type": "execute_result"
    }
   ],
   "source": [
    "def user_input():\n",
    "    x1 = int(input())\n",
    "    x2 = int(input())\n",
    "    y1 = int(input())\n",
    "    y2 = int(input())\n",
    "    \n",
    "    return x1, x2\n",
    "user_input()"
   ]
  },
  {
   "cell_type": "code",
   "execution_count": 10,
   "id": "055adcb0-065f-43a4-b83f-82c1edbcf792",
   "metadata": {},
   "outputs": [
    {
     "name": "stdin",
     "output_type": "stream",
     "text": [
      " 10\n",
      " 100\n",
      " 100\n",
      " 1000\n"
     ]
    },
    {
     "data": {
      "text/plain": [
       "(10, 100, 100, 1000)"
      ]
     },
     "execution_count": 10,
     "metadata": {},
     "output_type": "execute_result"
    }
   ],
   "source": [
    "def user_input():\n",
    "    x1 = int(input())\n",
    "    x2 = int(input())\n",
    "    y1 = int(input())\n",
    "    y2 = int(input())\n",
    "    \n",
    "    return x1, y1, x2, y2\n",
    "user_input()"
   ]
  },
  {
   "cell_type": "code",
   "execution_count": 11,
   "id": "6d2312b8-0585-45bf-b359-291395ba9f3f",
   "metadata": {},
   "outputs": [
    {
     "name": "stdin",
     "output_type": "stream",
     "text": [
      " 10\n",
      " 50\n",
      " 100\n",
      " 150\n"
     ]
    },
    {
     "data": {
      "text/plain": [
       "((10, 100), (50, 150))"
      ]
     },
     "execution_count": 11,
     "metadata": {},
     "output_type": "execute_result"
    }
   ],
   "source": [
    "def user_input():\n",
    "    x1 = int(input())\n",
    "    x2 = int(input())\n",
    "    y1 = int(input())\n",
    "    y2 = int(input())\n",
    "    \n",
    "    return (x1, y1), (x2, y2)\n",
    "user_input()"
   ]
  },
  {
   "cell_type": "code",
   "execution_count": 14,
   "id": "74d2aa25-c979-4bf1-b375-8ce765316a01",
   "metadata": {},
   "outputs": [
    {
     "name": "stdin",
     "output_type": "stream",
     "text": [
      " 10\n",
      " 50\n",
      " 100\n",
      " 150\n"
     ]
    }
   ],
   "source": [
    "y1, y2 = user_input()"
   ]
  },
  {
   "cell_type": "code",
   "execution_count": 15,
   "id": "85ee8cef-c624-4eb8-b668-a418b55af431",
   "metadata": {},
   "outputs": [
    {
     "data": {
      "text/plain": [
       "((10, 100), (50, 150))"
      ]
     },
     "execution_count": 15,
     "metadata": {},
     "output_type": "execute_result"
    }
   ],
   "source": [
    "y1, y2"
   ]
  },
  {
   "cell_type": "code",
   "execution_count": 19,
   "id": "dff5297d-a546-40d1-9404-81436762fe0b",
   "metadata": {},
   "outputs": [
    {
     "data": {
      "text/plain": [
       "(9, 27)"
      ]
     },
     "execution_count": 19,
     "metadata": {},
     "output_type": "execute_result"
    }
   ],
   "source": [
    "def sq_and_cube(x):\n",
    "    sq = x**2\n",
    "    cube = x**3\n",
    "    return sq, cube\n",
    "\n",
    "sq_and_cube(3)"
   ]
  },
  {
   "cell_type": "code",
   "execution_count": null,
   "id": "9c018385-0105-453b-8e17-d0a419bbd1ca",
   "metadata": {},
   "outputs": [],
   "source": []
  },
  {
   "cell_type": "code",
   "execution_count": 27,
   "id": "cdf795ae-c1ae-4585-9186-150c38971d0f",
   "metadata": {},
   "outputs": [
    {
     "name": "stdin",
     "output_type": "stream",
     "text": [
      "Enter x value =  10\n",
      "Enter y value =  50\n"
     ]
    },
    {
     "name": "stdout",
     "output_type": "stream",
     "text": [
      "Result is : 500\n"
     ]
    }
   ],
   "source": [
    "def mulp():\n",
    "    x = int(input('Enter x value = '))\n",
    "    y = int(input('Enter y value = '))\n",
    "    result = (x*y)\n",
    "    print(\"Result is :\", result)\n",
    "mulp()"
   ]
  },
  {
   "cell_type": "code",
   "execution_count": 28,
   "id": "28c38168-ea21-48c2-a98d-a097efde9eba",
   "metadata": {},
   "outputs": [
    {
     "name": "stdin",
     "output_type": "stream",
     "text": [
      "Enter x value =  10\n",
      "Enter y value =  50\n"
     ]
    },
    {
     "name": "stdout",
     "output_type": "stream",
     "text": [
      "Result is : 500\n"
     ]
    }
   ],
   "source": [
    "def mulp1():\n",
    "    var = mulp()\n",
    "    a = int(input(\"Enter a value : \"))\n",
    "    total = var*a\n",
    "    print(\"Final Result :\", total)\n",
    "mulp()"
   ]
  },
  {
   "cell_type": "code",
   "execution_count": null,
   "id": "ea474d65-c477-4116-b93e-12a0eed3c509",
   "metadata": {},
   "outputs": [],
   "source": []
  },
  {
   "cell_type": "markdown",
   "id": "824e053b-aab4-4e59-a435-f66fc742fe3c",
   "metadata": {},
   "source": [
    "# separately"
   ]
  },
  {
   "cell_type": "code",
   "execution_count": 30,
   "id": "b8ee95bb-988d-486b-8075-7f4c069c4931",
   "metadata": {},
   "outputs": [
    {
     "name": "stdin",
     "output_type": "stream",
     "text": [
      "x =  10\n",
      "y =  50\n"
     ]
    },
    {
     "name": "stdout",
     "output_type": "stream",
     "text": [
      "result  500\n"
     ]
    },
    {
     "data": {
      "text/plain": [
       "500"
      ]
     },
     "execution_count": 30,
     "metadata": {},
     "output_type": "execute_result"
    }
   ],
   "source": [
    "def mulp1():\n",
    "    x = int(input('x = '))\n",
    "    y = int(input('y = '))\n",
    "    result = x*y\n",
    "    print('result ', result)\n",
    "    return result\n",
    "mulp1()"
   ]
  },
  {
   "cell_type": "code",
   "execution_count": 35,
   "id": "ff83d14a-b3f5-48f3-8630-8b6a1d6fa6cf",
   "metadata": {},
   "outputs": [
    {
     "name": "stdin",
     "output_type": "stream",
     "text": [
      "x =  10\n",
      "y =  50\n"
     ]
    },
    {
     "name": "stdout",
     "output_type": "stream",
     "text": [
      "result  500\n"
     ]
    },
    {
     "name": "stdin",
     "output_type": "stream",
     "text": [
      "a =  100\n"
     ]
    },
    {
     "name": "stdout",
     "output_type": "stream",
     "text": [
      "final result =  50000\n"
     ]
    }
   ],
   "source": [
    "def mulp2():\n",
    "    var = mulp1()\n",
    "    a = int(input('a = '))\n",
    "    total = var*a\n",
    "    print('final result = ', total)\n",
    "mulp2()"
   ]
  },
  {
   "cell_type": "code",
   "execution_count": null,
   "id": "a71869df-e604-424d-ac37-79e6987d0778",
   "metadata": {},
   "outputs": [],
   "source": []
  }
 ],
 "metadata": {
  "kernelspec": {
   "display_name": "Python 3 (ipykernel)",
   "language": "python",
   "name": "python3"
  },
  "language_info": {
   "codemirror_mode": {
    "name": "ipython",
    "version": 3
   },
   "file_extension": ".py",
   "mimetype": "text/x-python",
   "name": "python",
   "nbconvert_exporter": "python",
   "pygments_lexer": "ipython3",
   "version": "3.11.7"
  }
 },
 "nbformat": 4,
 "nbformat_minor": 5
}

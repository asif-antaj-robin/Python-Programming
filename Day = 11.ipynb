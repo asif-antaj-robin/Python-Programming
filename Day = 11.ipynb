{
 "cells": [
  {
   "cell_type": "markdown",
   "id": "f2265533-f051-405a-9ef1-85bd342ee2ac",
   "metadata": {},
   "source": [
    "# Array in Python"
   ]
  },
  {
   "cell_type": "code",
   "execution_count": 1,
   "id": "e7a27e4a-9490-4d65-ac91-efa00db4b616",
   "metadata": {},
   "outputs": [],
   "source": [
    "import array as ar"
   ]
  },
  {
   "cell_type": "code",
   "execution_count": 2,
   "id": "432bddaf-16f8-4f4b-ab5d-ad6141aa8662",
   "metadata": {},
   "outputs": [
    {
     "data": {
      "text/plain": [
       "array('i', [1, 2, 3, 5, 10])"
      ]
     },
     "execution_count": 2,
     "metadata": {},
     "output_type": "execute_result"
    }
   ],
   "source": [
    "ar1 = ar.array('i',[1,2,3,5,10])\n",
    "ar1"
   ]
  },
  {
   "cell_type": "code",
   "execution_count": 3,
   "id": "96a296ef-cd21-4af4-a985-39b6e60ddc85",
   "metadata": {},
   "outputs": [
    {
     "data": {
      "text/plain": [
       "array('f', [1.0, 2.0, 3.0, 5.0, 10.0])"
      ]
     },
     "execution_count": 3,
     "metadata": {},
     "output_type": "execute_result"
    }
   ],
   "source": [
    "ar1 = ar.array('f',[1,2,3,5,10])\n",
    "ar1"
   ]
  },
  {
   "cell_type": "code",
   "execution_count": 4,
   "id": "be89c095-a0d2-4027-bccc-bace2ad879a8",
   "metadata": {},
   "outputs": [
    {
     "data": {
      "text/plain": [
       "array('f', [15.0, 2.0, 3.0, 5.0, 10.0])"
      ]
     },
     "execution_count": 4,
     "metadata": {},
     "output_type": "execute_result"
    }
   ],
   "source": [
    "ar1[0] = 15\n",
    "ar1"
   ]
  },
  {
   "cell_type": "code",
   "execution_count": 5,
   "id": "6358bea7-7cd4-4991-bd19-8b936a202b1e",
   "metadata": {},
   "outputs": [
    {
     "data": {
      "text/plain": [
       "array('f', [15.0, 2.0, 3.0])"
      ]
     },
     "execution_count": 5,
     "metadata": {},
     "output_type": "execute_result"
    }
   ],
   "source": [
    "ar1[0:3]"
   ]
  },
  {
   "cell_type": "code",
   "execution_count": 6,
   "id": "eadae12e-2130-4321-aed1-fd430e0470fc",
   "metadata": {},
   "outputs": [
    {
     "data": {
      "text/plain": [
       "array('f', [15.0, 2.0, 3.0, 5.0, 10.0, 20.0])"
      ]
     },
     "execution_count": 6,
     "metadata": {},
     "output_type": "execute_result"
    }
   ],
   "source": [
    "ar1.append(20)\n",
    "ar1"
   ]
  },
  {
   "cell_type": "code",
   "execution_count": 7,
   "id": "d37961cb-0d26-4d9e-a814-11121f0a9a40",
   "metadata": {},
   "outputs": [
    {
     "data": {
      "text/plain": [
       "6"
      ]
     },
     "execution_count": 7,
     "metadata": {},
     "output_type": "execute_result"
    }
   ],
   "source": [
    "len(ar1)"
   ]
  },
  {
   "cell_type": "code",
   "execution_count": 8,
   "id": "50e0e592-14ef-4f1c-8fff-911c049c18f8",
   "metadata": {},
   "outputs": [
    {
     "data": {
      "text/plain": [
       "array('f', [15.0, 2.0, 3.0, 5.0, 10.0])"
      ]
     },
     "execution_count": 8,
     "metadata": {},
     "output_type": "execute_result"
    }
   ],
   "source": [
    "del ar1[-1]\n",
    "ar1"
   ]
  },
  {
   "cell_type": "code",
   "execution_count": 9,
   "id": "ca18a2c0-fcdd-4dd0-9e26-09fe06d0f4a0",
   "metadata": {},
   "outputs": [
    {
     "data": {
      "text/plain": [
       "array('f', [10.0, 5.0, 3.0, 2.0, 15.0])"
      ]
     },
     "execution_count": 9,
     "metadata": {},
     "output_type": "execute_result"
    }
   ],
   "source": [
    "ar1.reverse()\n",
    "ar1"
   ]
  },
  {
   "cell_type": "code",
   "execution_count": 10,
   "id": "25e30042-74c0-4160-805a-5773d2bb97b9",
   "metadata": {},
   "outputs": [
    {
     "data": {
      "text/plain": [
       "1"
      ]
     },
     "execution_count": 10,
     "metadata": {},
     "output_type": "execute_result"
    }
   ],
   "source": [
    "ar1.count(5)"
   ]
  },
  {
   "cell_type": "code",
   "execution_count": 11,
   "id": "d13414d2-996f-40f1-b14e-8ec07ae6a787",
   "metadata": {},
   "outputs": [
    {
     "data": {
      "text/plain": [
       "0"
      ]
     },
     "execution_count": 11,
     "metadata": {},
     "output_type": "execute_result"
    }
   ],
   "source": [
    "ar1.index(10)"
   ]
  },
  {
   "cell_type": "code",
   "execution_count": 12,
   "id": "3428b690-7fa1-4d5c-89ec-8a3f1b1c1aff",
   "metadata": {},
   "outputs": [
    {
     "data": {
      "text/plain": [
       "array('f', [10.0, 5.0, 3.0, 15.0])"
      ]
     },
     "execution_count": 12,
     "metadata": {},
     "output_type": "execute_result"
    }
   ],
   "source": [
    "ar1.pop(3) #pop(3) is index number\n",
    "ar1"
   ]
  },
  {
   "cell_type": "code",
   "execution_count": 13,
   "id": "f9ef0ba7-6875-43fc-a76f-e8d2aa100a43",
   "metadata": {},
   "outputs": [
    {
     "data": {
      "text/plain": [
       "array('f', [10.0, 5.0, 15.0])"
      ]
     },
     "execution_count": 13,
     "metadata": {},
     "output_type": "execute_result"
    }
   ],
   "source": [
    "ar1.remove(3)\n",
    "ar1"
   ]
  },
  {
   "cell_type": "code",
   "execution_count": null,
   "id": "22bb215d-097f-4112-9411-50a9847f1e95",
   "metadata": {},
   "outputs": [],
   "source": []
  },
  {
   "cell_type": "markdown",
   "id": "27b8bccc-b98c-4a72-96ee-dba94d2f2653",
   "metadata": {},
   "source": [
    "# input array from user"
   ]
  },
  {
   "cell_type": "code",
   "execution_count": 17,
   "id": "3822c0c2-6071-4197-b88c-d784db1939ca",
   "metadata": {},
   "outputs": [
    {
     "name": "stdin",
     "output_type": "stream",
     "text": [
      "Enter the total array index : 10\n",
      " 20\n",
      " 30\n",
      " 40\n",
      " 50\n",
      " 60\n",
      " 70\n",
      " 80\n",
      " 90\n",
      " 100\n",
      " 500\n"
     ]
    },
    {
     "name": "stdout",
     "output_type": "stream",
     "text": [
      "array('f', [20.0, 30.0, 40.0, 50.0, 60.0, 70.0, 80.0, 90.0, 100.0, 500.0])\n"
     ]
    }
   ],
   "source": [
    "import array as ar\n",
    "array1 = ar.array('f', [])\n",
    "\n",
    "items = int(input(\"Enter the total array index :\"))\n",
    "for i in range(items):\n",
    "    new = float(input())\n",
    "    array1.append(new)\n",
    "print(array1)"
   ]
  },
  {
   "cell_type": "code",
   "execution_count": 18,
   "id": "5b903444-56fd-46b0-96bd-b967ee549e6c",
   "metadata": {},
   "outputs": [
    {
     "data": {
      "text/plain": [
       "array('f', [20.0, 30.0, 40.0, 50.0, 60.0, 70.0, 80.0, 90.0, 100.0, 500.0])"
      ]
     },
     "execution_count": 18,
     "metadata": {},
     "output_type": "execute_result"
    }
   ],
   "source": [
    "array1"
   ]
  },
  {
   "cell_type": "code",
   "execution_count": 19,
   "id": "615b09d4-dfe4-4730-a832-a6ec3d65d8db",
   "metadata": {},
   "outputs": [
    {
     "data": {
      "text/plain": [
       "array.array"
      ]
     },
     "execution_count": 19,
     "metadata": {},
     "output_type": "execute_result"
    }
   ],
   "source": [
    "type(array1)"
   ]
  },
  {
   "cell_type": "code",
   "execution_count": null,
   "id": "b705b34f-dac4-4023-b839-585e0eacf8dc",
   "metadata": {},
   "outputs": [],
   "source": []
  },
  {
   "cell_type": "raw",
   "id": "c680a90c-4aa8-484d-9f54-eb1c83b8124e",
   "metadata": {},
   "source": [
    "Asif Antaj Robin\n",
    "+88 01312531960\n",
    "asifantajrobin@gmail.com\n",
    "https://www.facebook.com/profile.php?id=100082193912347"
   ]
  }
 ],
 "metadata": {
  "kernelspec": {
   "display_name": "Python 3 (ipykernel)",
   "language": "python",
   "name": "python3"
  },
  "language_info": {
   "codemirror_mode": {
    "name": "ipython",
    "version": 3
   },
   "file_extension": ".py",
   "mimetype": "text/x-python",
   "name": "python",
   "nbconvert_exporter": "python",
   "pygments_lexer": "ipython3",
   "version": "3.11.7"
  }
 },
 "nbformat": 4,
 "nbformat_minor": 5
}

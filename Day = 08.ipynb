{
 "cells": [
  {
   "cell_type": "markdown",
   "id": "22ae0393-e0b8-47d6-885e-59a3ca744829",
   "metadata": {},
   "source": [
    "# List Comprehension: Elegant Way to Create Lists"
   ]
  },
  {
   "cell_type": "code",
   "execution_count": 1,
   "id": "206880b3-1e02-40f9-a277-1420834cbda1",
   "metadata": {},
   "outputs": [
    {
     "data": {
      "text/plain": [
       "[0, 1, 2, 3, 4, 5, 6, 7, 8, 9]"
      ]
     },
     "execution_count": 1,
     "metadata": {},
     "output_type": "execute_result"
    }
   ],
   "source": [
    "list1 = [] #empty list\n",
    "\n",
    "for x in range(10):\n",
    "    list1.append(x)\n",
    "list1"
   ]
  },
  {
   "cell_type": "code",
   "execution_count": 2,
   "id": "c00acd31-0773-4175-814f-41957729a417",
   "metadata": {},
   "outputs": [
    {
     "data": {
      "text/plain": [
       "[0, 1, 2, 3, 4, 5, 6, 7, 8, 9]"
      ]
     },
     "execution_count": 2,
     "metadata": {},
     "output_type": "execute_result"
    }
   ],
   "source": [
    "list2 = [ x for x in range(10) ]\n",
    "list2"
   ]
  },
  {
   "cell_type": "code",
   "execution_count": 5,
   "id": "6bd0cbee-0e77-48b2-94d2-7d6cea116bf2",
   "metadata": {},
   "outputs": [
    {
     "data": {
      "text/plain": [
       "[0, 2, 4, 6, 8]"
      ]
     },
     "execution_count": 5,
     "metadata": {},
     "output_type": "execute_result"
    }
   ],
   "source": [
    "List3 = [] #empty list\n",
    "\n",
    "for i in  range(10):\n",
    "    if i%2 == 0: #even\n",
    "        List3.append(i)\n",
    "List3\n"
   ]
  },
  {
   "cell_type": "code",
   "execution_count": 6,
   "id": "e80d2154-29d8-470b-859c-3e836250b225",
   "metadata": {},
   "outputs": [
    {
     "data": {
      "text/plain": [
       "1"
      ]
     },
     "execution_count": 6,
     "metadata": {},
     "output_type": "execute_result"
    }
   ],
   "source": [
    "10%3"
   ]
  },
  {
   "cell_type": "code",
   "execution_count": 7,
   "id": "04ad6b7d-4e3a-47f2-99fb-bfaa9127e7de",
   "metadata": {},
   "outputs": [
    {
     "data": {
      "text/plain": [
       "[1, 3, 5, 7, 9]"
      ]
     },
     "execution_count": 7,
     "metadata": {},
     "output_type": "execute_result"
    }
   ],
   "source": [
    "List3 = [] #empty list\n",
    "\n",
    "for i in  range(10):\n",
    "    if i%2 == 1: #odd\n",
    "        List3.append(i)\n",
    "List3\n"
   ]
  },
  {
   "cell_type": "code",
   "execution_count": 8,
   "id": "574eb225-7f71-467f-a8fc-3e202a2d3c5e",
   "metadata": {},
   "outputs": [
    {
     "data": {
      "text/plain": [
       "[0, 2, 4, 6, 8]"
      ]
     },
     "execution_count": 8,
     "metadata": {},
     "output_type": "execute_result"
    }
   ],
   "source": [
    "List4 = [x for x in range(10) if x%2 == 0] #even\n",
    "List4"
   ]
  },
  {
   "cell_type": "code",
   "execution_count": 9,
   "id": "f9e80e0a-b382-43bc-8c48-575dde91c38f",
   "metadata": {},
   "outputs": [
    {
     "data": {
      "text/plain": [
       "[1, 3, 5, 7, 9]"
      ]
     },
     "execution_count": 9,
     "metadata": {},
     "output_type": "execute_result"
    }
   ],
   "source": [
    "list4 = [ x for x in range(10) if x%2 ==1 ] #odd\n",
    "list4"
   ]
  },
  {
   "cell_type": "code",
   "execution_count": 11,
   "id": "9f8ae5f5-e71a-4a19-aa60-ae2692390090",
   "metadata": {},
   "outputs": [
    {
     "data": {
      "text/plain": [
       "['ai', 'ds', 1, 2, 5, 6, 9]"
      ]
     },
     "execution_count": 11,
     "metadata": {},
     "output_type": "execute_result"
    }
   ],
   "source": [
    "list5 = ['ai','ds',1,2,5,6,9]\n",
    "list6 = [x for x in list5]\n",
    "list6"
   ]
  },
  {
   "cell_type": "code",
   "execution_count": 13,
   "id": "2158958c-ca7d-41f8-8faa-b4e17504a224",
   "metadata": {},
   "outputs": [
    {
     "data": {
      "text/plain": [
       "['ai', 1, 2, 5, 6, 9]"
      ]
     },
     "execution_count": 13,
     "metadata": {},
     "output_type": "execute_result"
    }
   ],
   "source": [
    "list7 = [x for x in list5 if x != 'ds']\n",
    "list7"
   ]
  },
  {
   "cell_type": "code",
   "execution_count": 15,
   "id": "6669680f-c99c-4d60-850c-a03ee737d2a9",
   "metadata": {},
   "outputs": [
    {
     "data": {
      "text/plain": [
       "[1, 3, 9, 27, 81, 243, 729, 2187, 6561, 19683]"
      ]
     },
     "execution_count": 15,
     "metadata": {},
     "output_type": "execute_result"
    }
   ],
   "source": [
    "List8 = [3**x for x in range(10)] #list 3**9\n",
    "List8"
   ]
  },
  {
   "cell_type": "code",
   "execution_count": 16,
   "id": "4c1cb722-79e3-48c4-add8-79be15d4a4b7",
   "metadata": {},
   "outputs": [
    {
     "data": {
      "text/plain": [
       "False"
      ]
     },
     "execution_count": 16,
     "metadata": {},
     "output_type": "execute_result"
    }
   ],
   "source": [
    "30 in List8"
   ]
  },
  {
   "cell_type": "code",
   "execution_count": 17,
   "id": "30ffbc13-068a-4a67-ba62-026413fdd31f",
   "metadata": {},
   "outputs": [
    {
     "data": {
      "text/plain": [
       "False"
      ]
     },
     "execution_count": 17,
     "metadata": {},
     "output_type": "execute_result"
    }
   ],
   "source": [
    "list5 is list6"
   ]
  },
  {
   "cell_type": "code",
   "execution_count": null,
   "id": "2adad95c-b9d2-49b6-9812-23b611f50bac",
   "metadata": {},
   "outputs": [],
   "source": []
  },
  {
   "cell_type": "markdown",
   "id": "972bad8b-35e0-4f73-ad73-00e0389a431b",
   "metadata": {},
   "source": [
    "# input list from user"
   ]
  },
  {
   "cell_type": "code",
   "execution_count": 3,
   "id": "7f976c60-ed4e-4087-8c44-4d1c7f249e77",
   "metadata": {},
   "outputs": [
    {
     "name": "stdin",
     "output_type": "stream",
     "text": [
      "Enter the list total index : 3\n",
      " Asif Antaj Robin\n"
     ]
    },
    {
     "name": "stdout",
     "output_type": "stream",
     "text": [
      "['Asif Antaj Robin']\n"
     ]
    },
    {
     "name": "stdin",
     "output_type": "stream",
     "text": [
      " Khadija Begum\n"
     ]
    },
    {
     "name": "stdout",
     "output_type": "stream",
     "text": [
      "['Asif Antaj Robin', 'Khadija Begum']\n"
     ]
    },
    {
     "name": "stdin",
     "output_type": "stream",
     "text": [
      " Afrin Jahan Rupa\n"
     ]
    },
    {
     "name": "stdout",
     "output_type": "stream",
     "text": [
      "['Asif Antaj Robin', 'Khadija Begum', 'Afrin Jahan Rupa']\n"
     ]
    }
   ],
   "source": [
    "List1 = []\n",
    "List_index = int(input(\"Enter the list total index :\"))\n",
    "\n",
    "for i in range(List_index):\n",
    "    new = input()\n",
    "    List1.append(new)\n",
    "    print(List1) # final"
   ]
  },
  {
   "cell_type": "code",
   "execution_count": 4,
   "id": "a4eabd03-a807-425c-8447-c81f4d2f8170",
   "metadata": {},
   "outputs": [
    {
     "data": {
      "text/plain": [
       "['Asif Antaj Robin', 'Khadija Begum', 'Afrin Jahan Rupa']"
      ]
     },
     "execution_count": 4,
     "metadata": {},
     "output_type": "execute_result"
    }
   ],
   "source": [
    "List1"
   ]
  },
  {
   "cell_type": "code",
   "execution_count": 5,
   "id": "1618a977-18f5-4bc0-968b-601f47eb2d38",
   "metadata": {},
   "outputs": [
    {
     "name": "stdin",
     "output_type": "stream",
     "text": [
      "Enter the list total index : 7\n",
      " MD Arif Uddin\n",
      " Amina Khatun Rubia\n",
      " Afrin Jahan Rupa\n",
      " Asif Antaj Robin\n",
      " Khadija Begum\n",
      " Afifa Jahan Rafa\n",
      " Atif Antaj Rayhan\n"
     ]
    },
    {
     "name": "stdout",
     "output_type": "stream",
     "text": [
      "['MD Arif Uddin', 'Amina Khatun Rubia', 'Afrin Jahan Rupa', 'Asif Antaj Robin', 'Khadija Begum', 'Afifa Jahan Rafa', 'Atif Antaj Rayhan']\n"
     ]
    }
   ],
   "source": [
    "List1 = []\n",
    "List_index = int(input(\"Enter the list total index :\"))\n",
    "\n",
    "for i in range(List_index):\n",
    "    new = input()\n",
    "    List1.append(new)\n",
    "print(List1) # final"
   ]
  },
  {
   "cell_type": "code",
   "execution_count": 6,
   "id": "ebf53500-8be9-4fe8-9c49-bd71dfcde17c",
   "metadata": {},
   "outputs": [
    {
     "data": {
      "text/plain": [
       "['MD Arif Uddin',\n",
       " 'Amina Khatun Rubia',\n",
       " 'Afrin Jahan Rupa',\n",
       " 'Asif Antaj Robin',\n",
       " 'Khadija Begum',\n",
       " 'Afifa Jahan Rafa',\n",
       " 'Atif Antaj Rayhan']"
      ]
     },
     "execution_count": 6,
     "metadata": {},
     "output_type": "execute_result"
    }
   ],
   "source": [
    "List1"
   ]
  },
  {
   "cell_type": "code",
   "execution_count": null,
   "id": "8268bdfd-940a-4935-8397-1262a2b7bebf",
   "metadata": {},
   "outputs": [],
   "source": []
  },
  {
   "cell_type": "raw",
   "id": "becabff2-741d-4848-a102-eebff637bd3d",
   "metadata": {},
   "source": [
    "Asif Antaj Robin\n",
    "+88 01312531960\n",
    "asifantajrobin@gmail.com\n",
    "https://www.facebook.com/profile.php?id=100082193912347"
   ]
  }
 ],
 "metadata": {
  "kernelspec": {
   "display_name": "Python 3 (ipykernel)",
   "language": "python",
   "name": "python3"
  },
  "language_info": {
   "codemirror_mode": {
    "name": "ipython",
    "version": 3
   },
   "file_extension": ".py",
   "mimetype": "text/x-python",
   "name": "python",
   "nbconvert_exporter": "python",
   "pygments_lexer": "ipython3",
   "version": "3.11.7"
  }
 },
 "nbformat": 4,
 "nbformat_minor": 5
}

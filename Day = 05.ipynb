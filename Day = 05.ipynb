{
 "cells": [
  {
   "cell_type": "markdown",
   "id": "852defd8-bf44-4534-be20-98a0803084be",
   "metadata": {},
   "source": [
    "# If Else Statements in Python"
   ]
  },
  {
   "cell_type": "code",
   "execution_count": 1,
   "id": "94082f08-23cb-4d58-b0c7-fbcd8038527b",
   "metadata": {},
   "outputs": [
    {
     "name": "stdin",
     "output_type": "stream",
     "text": [
      "Enter the x value : 50\n",
      "Enter the y value : 70\n"
     ]
    },
    {
     "name": "stdout",
     "output_type": "stream",
     "text": [
      "y is greater than x\n"
     ]
    }
   ],
   "source": [
    "x = float(input(\"Enter the x value :\"))\n",
    "y = float(input(\"Enter the y value :\"))\n",
    "\n",
    "if x>y:\n",
    "    print('x is greater than y')\n",
    "if y>x:\n",
    "    print('y is greater than x')   \n",
    "else:\n",
    "    print('The result is not correct!')"
   ]
  },
  {
   "cell_type": "code",
   "execution_count": 2,
   "id": "548374f2-f63c-4702-9c12-126b5c1bc0d2",
   "metadata": {},
   "outputs": [
    {
     "name": "stdin",
     "output_type": "stream",
     "text": [
      "Enter the x value : 50\n",
      "Enter the y value : 50\n"
     ]
    },
    {
     "name": "stdout",
     "output_type": "stream",
     "text": [
      "Equal Equal\n"
     ]
    }
   ],
   "source": [
    "x = float(input(\"Enter the x value :\"))\n",
    "y = float(input(\"Enter the y value :\"))\n",
    "\n",
    "if x>y:\n",
    "    print('x is greater than y')\n",
    "elif y>x:\n",
    "    print('y is greater than x')\n",
    "elif x == y:\n",
    "        print('Equal Equal')\n",
    "else:\n",
    "     print('The result is not correct!')"
   ]
  },
  {
   "cell_type": "code",
   "execution_count": 3,
   "id": "6ecbc437-0127-440e-ac7e-b983cee8937d",
   "metadata": {},
   "outputs": [
    {
     "data": {
      "text/plain": [
       "1"
      ]
     },
     "execution_count": 3,
     "metadata": {},
     "output_type": "execute_result"
    }
   ],
   "source": [
    "10%3"
   ]
  },
  {
   "cell_type": "code",
   "execution_count": 4,
   "id": "ae9e0f2d-25a6-4cc9-8cca-c761639aca3a",
   "metadata": {},
   "outputs": [
    {
     "name": "stdin",
     "output_type": "stream",
     "text": [
      "Enter any number :  50\n"
     ]
    },
    {
     "name": "stdout",
     "output_type": "stream",
     "text": [
      "50.0  Divisible by 5 and 2\n"
     ]
    }
   ],
   "source": [
    "num = float(input('Enter any number : '))\n",
    "\n",
    "if num % 2 == 0:\n",
    "    if num % 5 == 0:\n",
    "        print(num,' Divisible by 5 and 2')\n",
    "    else:\n",
    "        print('Divisible by 5')\n",
    "else:\n",
    "    print('Not Divisible by 5 and 2')"
   ]
  },
  {
   "cell_type": "code",
   "execution_count": 5,
   "id": "09191181-d9e6-4241-8fef-fa17a665ad70",
   "metadata": {},
   "outputs": [
    {
     "name": "stdin",
     "output_type": "stream",
     "text": [
      "Enter your unit value :  150\n"
     ]
    },
    {
     "name": "stdout",
     "output_type": "stream",
     "text": [
      "amount is  250.0\n"
     ]
    }
   ],
   "source": [
    "amount = 0\n",
    "\n",
    "net_units = float(input('Enter your unit value : '))\n",
    "\n",
    "if net_units <= 100:\n",
    "    amonut = 0\n",
    "    \n",
    "elif net_units > 100 and net_units <= 200:\n",
    "    amount = (net_units - 100) * 5\n",
    "    \n",
    "elif net_units>200:\n",
    "    amount = ((net_units - 200) *10) + 500\n",
    "\n",
    "print('amount is ', amount)"
   ]
  },
  {
   "cell_type": "code",
   "execution_count": null,
   "id": "ecc035fe-9e3e-4a68-ae08-8526b88a3b65",
   "metadata": {},
   "outputs": [],
   "source": []
  },
  {
   "cell_type": "markdown",
   "id": "001926d6-990e-4f6d-811d-329f392bd2fc",
   "metadata": {},
   "source": [
    "# Assignment"
   ]
  },
  {
   "cell_type": "code",
   "execution_count": 6,
   "id": "5b829a8c-a116-404c-8317-4d79a9394d70",
   "metadata": {},
   "outputs": [
    {
     "name": "stdin",
     "output_type": "stream",
     "text": [
      "Enter the length :  50\n",
      "Enter the breadth :  30\n"
     ]
    },
    {
     "name": "stdout",
     "output_type": "stream",
     "text": [
      "It is not Square\n"
     ]
    }
   ],
   "source": [
    "# 01. Take values of length and breadth of a rectangle from user and check if it is square or not.\n",
    "\n",
    "length = float(input('Enter the length : '))\n",
    "breadth = float(input('Enter the breadth : '))\n",
    "\n",
    "if breadth == length :\n",
    "    print('Yes, It is Square')\n",
    "else:\n",
    "    print('It is not Square')"
   ]
  },
  {
   "cell_type": "code",
   "execution_count": 7,
   "id": "5c7c9dd2-0d9a-4dd0-8237-b6278c9ee3a7",
   "metadata": {},
   "outputs": [
    {
     "name": "stdin",
     "output_type": "stream",
     "text": [
      "Enter first number:  50\n",
      "Enter second number:  70\n",
      "Enter third number:  30\n"
     ]
    },
    {
     "name": "stdout",
     "output_type": "stream",
     "text": [
      "The largest number is 70.0\n"
     ]
    }
   ],
   "source": [
    "# 02. Take three int values from user and print greatest among them.\n",
    "\n",
    "number_01 = float(input(\"Enter first number: \"))\n",
    "number_02 = float(input(\"Enter second number: \"))\n",
    "number_03 = float(input(\"Enter third number: \"))\n",
    " \n",
    "if (number_01 > number_02) and (number_01 > number_03):\n",
    "    largest = number_01\n",
    "    \n",
    "elif (number_02 > number_01) and (number_02 > number_03):\n",
    "    largest = number_02\n",
    "    \n",
    "else:\n",
    "    largest = number_03\n",
    "\n",
    "print(\"The largest number is\", largest)"
   ]
  },
  {
   "cell_type": "code",
   "execution_count": 8,
   "id": "a452951b-0201-423f-afcd-0728883d57ea",
   "metadata": {},
   "outputs": [
    {
     "name": "stdin",
     "output_type": "stream",
     "text": [
      "Number of classes held :  50\n",
      "Number of classes attended :  39\n"
     ]
    },
    {
     "name": "stdout",
     "output_type": "stream",
     "text": [
      "You are allowed\n"
     ]
    }
   ],
   "source": [
    "# 03. A student will not be allowed to sit in exam if his/her attendence is less than 75%.\n",
    "\n",
    "held = int(input('Number of classes held : '))\n",
    "attended = int(input('Number of classes attended : '))\n",
    "\n",
    "attended_ratio = (attended/held) * 100\n",
    "\n",
    "if attended_ratio >= 75:\n",
    "    print('You are allowed')\n",
    "else:\n",
    "    print('You are not allowed')"
   ]
  },
  {
   "cell_type": "code",
   "execution_count": 10,
   "id": "26fd36f7-3d49-4bd8-a156-e8e8bf1a60af",
   "metadata": {},
   "outputs": [
    {
     "name": "stdin",
     "output_type": "stream",
     "text": [
      "Enter your marks :  20\n"
     ]
    },
    {
     "name": "stdout",
     "output_type": "stream",
     "text": [
      "You are Genius Like me :)\n"
     ]
    }
   ],
   "source": [
    "# 04. A school has following rules for grading system:-\n",
    "\n",
    "# Below 25 – F, 25 to 44 – E, 45 to 49 – D, 50 to 59 – C, 60 to 79 – B, 80 to 89 - A, Above 90 - A+\n",
    "# QUESTION:- Now, Ask user to enter marks and print the corresponding grade.\n",
    "\n",
    "\n",
    "marks = float(input(\"Enter your marks : \"))\n",
    "\n",
    "if marks < 25:\n",
    "    print('You are Genius Like me :)')\n",
    "\n",
    "elif marks>=25 and marks<=44:\n",
    "    print('E Grade, Pass korco mama! You also tene tune Genius!')\n",
    "\n",
    "elif marks>=45 and marks<=49:\n",
    "    print('D Grade')\n",
    "    \n",
    "elif marks>=50 and marks<=59:\n",
    "    print('C Grade')\n",
    "    \n",
    "elif marks>=60 and marks<=79:\n",
    "    print('B Grade')\n",
    "    \n",
    "elif marks>=80 and marks<=89:\n",
    "    print('A Grade')\n",
    "    \n",
    "else:\n",
    "    print('You are a loser!!!')"
   ]
  },
  {
   "cell_type": "code",
   "execution_count": null,
   "id": "62ae772d-f78b-4c0f-89ff-7e659f917ca9",
   "metadata": {},
   "outputs": [],
   "source": []
  },
  {
   "cell_type": "raw",
   "id": "b5fda31b-0348-49da-bcdd-8983c2dd677d",
   "metadata": {},
   "source": [
    "Asif Antaj Robin\n",
    "+88 01312531960\n",
    "asifantajrobin@gmail.com\n",
    "https://www.facebook.com/profile.php?id=100082193912347"
   ]
  }
 ],
 "metadata": {
  "kernelspec": {
   "display_name": "Python 3 (ipykernel)",
   "language": "python",
   "name": "python3"
  },
  "language_info": {
   "codemirror_mode": {
    "name": "ipython",
    "version": 3
   },
   "file_extension": ".py",
   "mimetype": "text/x-python",
   "name": "python",
   "nbconvert_exporter": "python",
   "pygments_lexer": "ipython3",
   "version": "3.11.7"
  }
 },
 "nbformat": 4,
 "nbformat_minor": 5
}

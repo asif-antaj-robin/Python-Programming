{
 "cells": [
  {
   "cell_type": "markdown",
   "id": "ede3154a-f650-4b94-a84b-6e24c998b9d8",
   "metadata": {},
   "source": [
    "# List in Python"
   ]
  },
  {
   "cell_type": "code",
   "execution_count": 1,
   "id": "af7f33e1-81d6-403f-9e80-54fb6da11df3",
   "metadata": {},
   "outputs": [
    {
     "data": {
      "text/plain": [
       "['ai', 'dS', 'CS', 150, 20, True, [3, 4], (1, 2)]"
      ]
     },
     "execution_count": 1,
     "metadata": {},
     "output_type": "execute_result"
    }
   ],
   "source": [
    "list1 = ['ai','dS','CS',150,20,True,[3,4],(1,2)]\n",
    "list1"
   ]
  },
  {
   "cell_type": "code",
   "execution_count": 2,
   "id": "1431021f-185a-495e-844b-488f5ed12dbd",
   "metadata": {},
   "outputs": [
    {
     "data": {
      "text/plain": [
       "list"
      ]
     },
     "execution_count": 2,
     "metadata": {},
     "output_type": "execute_result"
    }
   ],
   "source": [
    "type(list1)"
   ]
  },
  {
   "cell_type": "code",
   "execution_count": 3,
   "id": "0340297a-1bd9-45ad-aa3e-31465898c6df",
   "metadata": {},
   "outputs": [
    {
     "data": {
      "text/plain": [
       "'ai'"
      ]
     },
     "execution_count": 3,
     "metadata": {},
     "output_type": "execute_result"
    }
   ],
   "source": [
    "list1[0] #index"
   ]
  },
  {
   "cell_type": "code",
   "execution_count": 4,
   "id": "a63bba61-6058-4abf-89cd-0e429cc84b66",
   "metadata": {},
   "outputs": [
    {
     "data": {
      "text/plain": [
       "(1, 2)"
      ]
     },
     "execution_count": 4,
     "metadata": {},
     "output_type": "execute_result"
    }
   ],
   "source": [
    "list1[-1]"
   ]
  },
  {
   "cell_type": "code",
   "execution_count": 5,
   "id": "04532ea0-0e0d-487b-b618-07b7ce45a943",
   "metadata": {},
   "outputs": [
    {
     "data": {
      "text/plain": [
       "2"
      ]
     },
     "execution_count": 5,
     "metadata": {},
     "output_type": "execute_result"
    }
   ],
   "source": [
    "list1[-1][1]"
   ]
  },
  {
   "cell_type": "code",
   "execution_count": 6,
   "id": "854d9911-f82d-4a4d-a5e7-c4e82f4e73c4",
   "metadata": {},
   "outputs": [
    {
     "data": {
      "text/plain": [
       "['ai', 'dS']"
      ]
     },
     "execution_count": 6,
     "metadata": {},
     "output_type": "execute_result"
    }
   ],
   "source": [
    "list1[0:2] #n-1"
   ]
  },
  {
   "cell_type": "code",
   "execution_count": 7,
   "id": "2ed20d21-bc88-49d8-bafe-76fedea735b5",
   "metadata": {},
   "outputs": [
    {
     "data": {
      "text/plain": [
       "['ai', 'dS', 'CS']"
      ]
     },
     "execution_count": 7,
     "metadata": {},
     "output_type": "execute_result"
    }
   ],
   "source": [
    "list1[0:3]"
   ]
  },
  {
   "cell_type": "code",
   "execution_count": 8,
   "id": "c32d2d7a-cffa-47aa-b469-fddf8bddc883",
   "metadata": {},
   "outputs": [
    {
     "data": {
      "text/plain": [
       "['AI', 'dS', 'CS', 150, 20, True, [3, 4], (1, 2)]"
      ]
     },
     "execution_count": 8,
     "metadata": {},
     "output_type": "execute_result"
    }
   ],
   "source": [
    "list1[0] = 'AI'\n",
    "list1"
   ]
  },
  {
   "cell_type": "code",
   "execution_count": null,
   "id": "698bd00b-e395-4546-856a-36bb4ec74011",
   "metadata": {},
   "outputs": [],
   "source": []
  },
  {
   "cell_type": "markdown",
   "id": "3a39ae0f-f411-43f6-84e1-0c51cb05f91f",
   "metadata": {},
   "source": [
    "# List Methods"
   ]
  },
  {
   "cell_type": "raw",
   "id": "a30791ef-e3cf-4ea4-a1fe-e3b3726b9bc8",
   "metadata": {},
   "source": [
    "# Copy()\n",
    "# Append()\n",
    "# Extend()\n",
    "# Insert()\n",
    "# index()\n",
    "# Count()\n",
    "# sort()\n",
    "# reverse()  \n",
    "# remove()\n",
    "# Pop()\n",
    "# clear()"
   ]
  },
  {
   "cell_type": "markdown",
   "id": "5405bc36-7e7f-43ff-b8db-00b144e2cf4d",
   "metadata": {},
   "source": [
    "# Copy()"
   ]
  },
  {
   "cell_type": "code",
   "execution_count": 9,
   "id": "218b72f9-baad-470c-826a-b4bd04c06890",
   "metadata": {},
   "outputs": [
    {
     "data": {
      "text/plain": [
       "['ai', 'dS', 'CS', 150, 20, True, [3, 4], (1, 2)]"
      ]
     },
     "execution_count": 9,
     "metadata": {},
     "output_type": "execute_result"
    }
   ],
   "source": [
    "List1 = ['ai','dS','CS',150,20,True,[3,4],(1,2)]\n",
    "List2 = List1\n",
    "List1"
   ]
  },
  {
   "cell_type": "code",
   "execution_count": 10,
   "id": "d06ac7ef-ed35-447a-a388-38534573087e",
   "metadata": {},
   "outputs": [
    {
     "data": {
      "text/plain": [
       "['ai', 'dS', 'CS', 150, 20, True, [3, 4], (1, 2)]"
      ]
     },
     "execution_count": 10,
     "metadata": {},
     "output_type": "execute_result"
    }
   ],
   "source": [
    "List2"
   ]
  },
  {
   "cell_type": "code",
   "execution_count": 11,
   "id": "ad914ce9-895a-4388-8a66-f4bebd85cada",
   "metadata": {},
   "outputs": [
    {
     "data": {
      "text/plain": [
       "['ai', 'dS', 'CS', 150, 20, True, [3, 4], (1, 2)]"
      ]
     },
     "execution_count": 11,
     "metadata": {},
     "output_type": "execute_result"
    }
   ],
   "source": [
    "List3 = List1.copy()\n",
    "List3"
   ]
  },
  {
   "cell_type": "code",
   "execution_count": 12,
   "id": "9a1c31c1-1f0b-42ec-a763-0997cc9966fa",
   "metadata": {},
   "outputs": [
    {
     "data": {
      "text/plain": [
       "['Data Science', 'dS', 'CS', 150, 20, True, [3, 4], (1, 2)]"
      ]
     },
     "execution_count": 12,
     "metadata": {},
     "output_type": "execute_result"
    }
   ],
   "source": [
    "List1[0] = \"Data Science\"\n",
    "List1"
   ]
  },
  {
   "cell_type": "code",
   "execution_count": 13,
   "id": "363f8501-efa3-4dd3-b26e-71557ef08744",
   "metadata": {},
   "outputs": [
    {
     "data": {
      "text/plain": [
       "['Data Science', 'dS', 'CS', 150, 20, True, [3, 4], (1, 2)]"
      ]
     },
     "execution_count": 13,
     "metadata": {},
     "output_type": "execute_result"
    }
   ],
   "source": [
    "List2"
   ]
  },
  {
   "cell_type": "code",
   "execution_count": 14,
   "id": "bf85746a-a656-475a-bc17-35b02757159b",
   "metadata": {},
   "outputs": [
    {
     "data": {
      "text/plain": [
       "['ai', 'dS', 'CS', 150, 20, True, [3, 4], (1, 2)]"
      ]
     },
     "execution_count": 14,
     "metadata": {},
     "output_type": "execute_result"
    }
   ],
   "source": [
    "List3"
   ]
  },
  {
   "cell_type": "code",
   "execution_count": 15,
   "id": "bbf877f2-4586-440f-acfe-7c921636004b",
   "metadata": {},
   "outputs": [
    {
     "data": {
      "text/plain": [
       "['AI', 'dS', 'CS', 150, 20, True, [3, 4], (1, 2)]"
      ]
     },
     "execution_count": 15,
     "metadata": {},
     "output_type": "execute_result"
    }
   ],
   "source": [
    "List3[0] = \"AI\"\n",
    "List3"
   ]
  },
  {
   "cell_type": "code",
   "execution_count": 16,
   "id": "4021f9bb-f480-4ee3-ab14-4e5953de040a",
   "metadata": {},
   "outputs": [
    {
     "data": {
      "text/plain": [
       "['Data Science', 'dS', 'CS', 150, 20, True, [3, 4], (1, 2)]"
      ]
     },
     "execution_count": 16,
     "metadata": {},
     "output_type": "execute_result"
    }
   ],
   "source": [
    "List1"
   ]
  },
  {
   "cell_type": "code",
   "execution_count": null,
   "id": "469fc9c1-f9c7-49dd-8831-8d59bcdf45ad",
   "metadata": {},
   "outputs": [],
   "source": []
  },
  {
   "cell_type": "markdown",
   "id": "81aa1e12-7b75-4187-aa2a-9b1d9df6c187",
   "metadata": {},
   "source": [
    "# Append()"
   ]
  },
  {
   "cell_type": "code",
   "execution_count": 17,
   "id": "338976fc-9eb2-467b-a399-840e9137647c",
   "metadata": {},
   "outputs": [
    {
     "data": {
      "text/plain": [
       "['ai', 'dS', 'CS', 150, 20, True, [3, 4], (1, 2), 'Robin']"
      ]
     },
     "execution_count": 17,
     "metadata": {},
     "output_type": "execute_result"
    }
   ],
   "source": [
    "List1 = ['ai','dS','CS',150,20,True,[3,4],(1,2)]\n",
    "List1.append(\"Robin\")\n",
    "List1"
   ]
  },
  {
   "cell_type": "code",
   "execution_count": 18,
   "id": "cac8df4a-f3d4-4293-aa36-81b74c7e219d",
   "metadata": {},
   "outputs": [
    {
     "data": {
      "text/plain": [
       "['ai', 'dS', 'CS', 150, 20, True, [3, 4], (1, 2), 'Robin', [10, 100, 1000]]"
      ]
     },
     "execution_count": 18,
     "metadata": {},
     "output_type": "execute_result"
    }
   ],
   "source": [
    "l1 = [10, 100, 1000]\n",
    "List1.append(l1)\n",
    "List1"
   ]
  },
  {
   "cell_type": "code",
   "execution_count": 19,
   "id": "e2121982-602b-4f13-b59d-c2b78af62e64",
   "metadata": {},
   "outputs": [
    {
     "data": {
      "text/plain": [
       "['ai',\n",
       " 'dS',\n",
       " 'CS',\n",
       " 150,\n",
       " 20,\n",
       " True,\n",
       " [3, 4],\n",
       " (1, 2),\n",
       " 'Robin',\n",
       " [10, 100, 1000],\n",
       " {1, 2, 3, 4}]"
      ]
     },
     "execution_count": 19,
     "metadata": {},
     "output_type": "execute_result"
    }
   ],
   "source": [
    "List1.append({1,2,3,4})\n",
    "List1"
   ]
  },
  {
   "cell_type": "code",
   "execution_count": 20,
   "id": "5f168190-721b-4372-a692-596f143a9ff4",
   "metadata": {},
   "outputs": [
    {
     "data": {
      "text/plain": [
       "{1, 2, 3, 4}"
      ]
     },
     "execution_count": 20,
     "metadata": {},
     "output_type": "execute_result"
    }
   ],
   "source": [
    "List1[-1]"
   ]
  },
  {
   "cell_type": "code",
   "execution_count": null,
   "id": "db97a53d-ec9d-4c6d-b154-841e1da3e468",
   "metadata": {},
   "outputs": [],
   "source": []
  },
  {
   "cell_type": "markdown",
   "id": "cf43fdb3-aaeb-4b2b-aca7-480fe01dd9a5",
   "metadata": {},
   "source": [
    "# Extend()"
   ]
  },
  {
   "cell_type": "code",
   "execution_count": 21,
   "id": "c844a7fd-962c-4418-891b-5c70daa51c71",
   "metadata": {},
   "outputs": [
    {
     "data": {
      "text/plain": [
       "['ai', 'dS', 'CS', 150, 20, True, [3, 4], (1, 2), 10, 100, 1000]"
      ]
     },
     "execution_count": 21,
     "metadata": {},
     "output_type": "execute_result"
    }
   ],
   "source": [
    "List1 = ['ai','dS','CS',150,20,True,[3,4],(1,2)]\n",
    "l1 = [10, 100, 1000]\n",
    "List1.extend(l1)\n",
    "List1"
   ]
  },
  {
   "cell_type": "code",
   "execution_count": 22,
   "id": "b55f3478-de3f-4eb8-8b9a-0b12e443d1ae",
   "metadata": {},
   "outputs": [
    {
     "data": {
      "text/plain": [
       "1000"
      ]
     },
     "execution_count": 22,
     "metadata": {},
     "output_type": "execute_result"
    }
   ],
   "source": [
    "List1[-1]"
   ]
  },
  {
   "cell_type": "code",
   "execution_count": null,
   "id": "37bda9ed-6eb4-4e33-8c62-a592365fe21d",
   "metadata": {},
   "outputs": [],
   "source": []
  },
  {
   "cell_type": "markdown",
   "id": "f0fe7a1c-0d52-435a-902c-20f65275c548",
   "metadata": {},
   "source": [
    "# Insert()"
   ]
  },
  {
   "cell_type": "code",
   "execution_count": 23,
   "id": "951bc06e-0c56-457a-9107-3b45a32105ba",
   "metadata": {},
   "outputs": [
    {
     "data": {
      "text/plain": [
       "['Computetr Science', 'ai', 'dS', 'CS', 150, 20, True, [3, 4], (1, 2)]"
      ]
     },
     "execution_count": 23,
     "metadata": {},
     "output_type": "execute_result"
    }
   ],
   "source": [
    "List1 = ['ai','dS','CS',150,20,True,[3,4],(1,2)]\n",
    "List1.insert(0, \"Computetr Science\")\n",
    "List1"
   ]
  },
  {
   "cell_type": "code",
   "execution_count": 24,
   "id": "38dcafb4-3d45-42a8-97e5-66e8463cb224",
   "metadata": {},
   "outputs": [
    {
     "data": {
      "text/plain": [
       "9"
      ]
     },
     "execution_count": 24,
     "metadata": {},
     "output_type": "execute_result"
    }
   ],
   "source": [
    "len(List1)"
   ]
  },
  {
   "cell_type": "code",
   "execution_count": 25,
   "id": "7d12e24c-c575-4ed8-8924-7314f4c79db8",
   "metadata": {},
   "outputs": [
    {
     "data": {
      "text/plain": [
       "['Data Science', 'ai', 'dS', 'CS', 150, 20, True, [3, 4], (1, 2)]"
      ]
     },
     "execution_count": 25,
     "metadata": {},
     "output_type": "execute_result"
    }
   ],
   "source": [
    "List1[0] = \"Data Science\"\n",
    "List1"
   ]
  },
  {
   "cell_type": "code",
   "execution_count": 26,
   "id": "01d10d5f-043b-4fff-a38c-007842400a03",
   "metadata": {},
   "outputs": [
    {
     "data": {
      "text/plain": [
       "9"
      ]
     },
     "execution_count": 26,
     "metadata": {},
     "output_type": "execute_result"
    }
   ],
   "source": [
    "len(List1)"
   ]
  },
  {
   "cell_type": "code",
   "execution_count": null,
   "id": "5b2203d6-597e-4b9f-895b-b507781675bb",
   "metadata": {},
   "outputs": [],
   "source": []
  },
  {
   "cell_type": "markdown",
   "id": "5630ab61-78b0-4231-9ae8-ceda122fe82c",
   "metadata": {},
   "source": [
    "# index()"
   ]
  },
  {
   "cell_type": "code",
   "execution_count": 27,
   "id": "01b2a3ba-8c32-470d-b195-16e2ae89120b",
   "metadata": {},
   "outputs": [
    {
     "data": {
      "text/plain": [
       "0"
      ]
     },
     "execution_count": 27,
     "metadata": {},
     "output_type": "execute_result"
    }
   ],
   "source": [
    "List1 = ['Data Science', 'ai', 'dS', 'CS', 150, 20, True, [3, 4], (1, 2)]\n",
    "List1.index(\"Data Science\")"
   ]
  },
  {
   "cell_type": "code",
   "execution_count": 28,
   "id": "72b46ae7-a439-4f56-b1f1-d2ca1f53c8f0",
   "metadata": {},
   "outputs": [
    {
     "data": {
      "text/plain": [
       "5"
      ]
     },
     "execution_count": 28,
     "metadata": {},
     "output_type": "execute_result"
    }
   ],
   "source": [
    "List1.index(20)"
   ]
  },
  {
   "cell_type": "markdown",
   "id": "0f036f10-8750-4d58-9a78-dca0f34ee39c",
   "metadata": {},
   "source": [
    "# Count()"
   ]
  },
  {
   "cell_type": "code",
   "execution_count": 29,
   "id": "680a02f7-a5ec-4e59-80fc-b5f79a4ef6be",
   "metadata": {},
   "outputs": [
    {
     "data": {
      "text/plain": [
       "1"
      ]
     },
     "execution_count": 29,
     "metadata": {},
     "output_type": "execute_result"
    }
   ],
   "source": [
    "List1 = ['Data Science', 'ai', 'ai', 'dS', 'CS', 150, 20, True, {1, 2, 3, 4}, [3, 4], (1, 2)]\n",
    "List1.count({1, 2, 3, 4})"
   ]
  },
  {
   "cell_type": "code",
   "execution_count": 30,
   "id": "ae1a67c2-a2de-4184-b107-3fd9cb95b619",
   "metadata": {},
   "outputs": [
    {
     "data": {
      "text/plain": [
       "2"
      ]
     },
     "execution_count": 30,
     "metadata": {},
     "output_type": "execute_result"
    }
   ],
   "source": [
    "List1.count(\"ai\")"
   ]
  },
  {
   "cell_type": "code",
   "execution_count": null,
   "id": "4b752406-b487-4218-9b24-96a932477f12",
   "metadata": {},
   "outputs": [],
   "source": []
  },
  {
   "cell_type": "markdown",
   "id": "a242d2ab-df35-4475-8547-0a51d7d072ec",
   "metadata": {},
   "source": [
    "# sort()"
   ]
  },
  {
   "cell_type": "code",
   "execution_count": 31,
   "id": "c4e33a55-130a-4858-82ad-dce759a9640f",
   "metadata": {},
   "outputs": [
    {
     "data": {
      "text/plain": [
       "[2, 6, 7, 9, 10, 100]"
      ]
     },
     "execution_count": 31,
     "metadata": {},
     "output_type": "execute_result"
    }
   ],
   "source": [
    "lst2 = [10,2,6,7,9,100]\n",
    "lst2.sort()\n",
    "lst2"
   ]
  },
  {
   "cell_type": "code",
   "execution_count": null,
   "id": "25e06b35-5ffe-42cb-aa63-6ff034811720",
   "metadata": {},
   "outputs": [],
   "source": []
  },
  {
   "cell_type": "markdown",
   "id": "4d32cce4-3682-4c2e-82a5-c10fa7a8a467",
   "metadata": {},
   "source": [
    "# reverse()"
   ]
  },
  {
   "cell_type": "code",
   "execution_count": 32,
   "id": "c00b98e3-adb9-4bd6-86f2-f6915cc1c634",
   "metadata": {},
   "outputs": [
    {
     "data": {
      "text/plain": [
       "[100, 9, 7, 6, 2, 10]"
      ]
     },
     "execution_count": 32,
     "metadata": {},
     "output_type": "execute_result"
    }
   ],
   "source": [
    "lst2 = [10,2,6,7,9,100]\n",
    "lst2.reverse()\n",
    "lst2"
   ]
  },
  {
   "cell_type": "code",
   "execution_count": null,
   "id": "cf7f5616-9f3a-4af8-a8ff-e30a157079cf",
   "metadata": {},
   "outputs": [],
   "source": []
  },
  {
   "cell_type": "markdown",
   "id": "246c68ef-6684-45a4-9f01-554c15a109a9",
   "metadata": {},
   "source": [
    "# remove()"
   ]
  },
  {
   "cell_type": "code",
   "execution_count": 33,
   "id": "58840141-2715-45b6-921f-286524dc326c",
   "metadata": {},
   "outputs": [
    {
     "data": {
      "text/plain": [
       "['Data Science', 'ai', 'dS', 'CS', 150, 20, True, {1, 2, 3, 4}, [3, 4], (1, 2)]"
      ]
     },
     "execution_count": 33,
     "metadata": {},
     "output_type": "execute_result"
    }
   ],
   "source": [
    "List1 = ['Data Science', 'ai', 'ai', 'dS', 'CS', 150, 20, True, {1, 2, 3, 4}, [3, 4], (1, 2)]\n",
    "List1.remove(\"ai\")\n",
    "List1"
   ]
  },
  {
   "cell_type": "code",
   "execution_count": 34,
   "id": "42ffbfcf-402d-4e88-950c-5752b026ead9",
   "metadata": {},
   "outputs": [
    {
     "data": {
      "text/plain": [
       "['ai', 'dS', 'CS', 150, 20, True, {1, 2, 3, 4}, [3, 4], (1, 2)]"
      ]
     },
     "execution_count": 34,
     "metadata": {},
     "output_type": "execute_result"
    }
   ],
   "source": [
    "List1.remove(\"Data Science\")\n",
    "List1"
   ]
  },
  {
   "cell_type": "code",
   "execution_count": null,
   "id": "0d9c0c94-942c-421b-943c-0dd696b0971f",
   "metadata": {},
   "outputs": [],
   "source": []
  },
  {
   "cell_type": "markdown",
   "id": "d2ea6a61-8f47-4ec1-8cf9-9505ab2c2e20",
   "metadata": {},
   "source": [
    "# Pop()"
   ]
  },
  {
   "cell_type": "code",
   "execution_count": 35,
   "id": "0baa4bc3-7d09-4e39-8b4f-7dcc7bb0db17",
   "metadata": {},
   "outputs": [
    {
     "data": {
      "text/plain": [
       "['ai', 'dS', 'CS', 150, 20, True, {1, 2, 3, 4}, [3, 4], (1, 2)]"
      ]
     },
     "execution_count": 35,
     "metadata": {},
     "output_type": "execute_result"
    }
   ],
   "source": [
    "List1"
   ]
  },
  {
   "cell_type": "code",
   "execution_count": 36,
   "id": "ccb2affa-d264-4aba-b69a-bb6109073792",
   "metadata": {},
   "outputs": [
    {
     "data": {
      "text/plain": [
       "(1, 2)"
      ]
     },
     "execution_count": 36,
     "metadata": {},
     "output_type": "execute_result"
    }
   ],
   "source": [
    "List1.pop()"
   ]
  },
  {
   "cell_type": "code",
   "execution_count": 37,
   "id": "4d0de2ec-e6a0-4535-ad5e-9d3cb45c8709",
   "metadata": {},
   "outputs": [
    {
     "data": {
      "text/plain": [
       "['ai', 'dS', 'CS', 150, 20, True, {1, 2, 3, 4}, [3, 4]]"
      ]
     },
     "execution_count": 37,
     "metadata": {},
     "output_type": "execute_result"
    }
   ],
   "source": [
    "List1"
   ]
  },
  {
   "cell_type": "code",
   "execution_count": 38,
   "id": "4759348b-6581-45b5-b4df-a002eba79870",
   "metadata": {},
   "outputs": [
    {
     "data": {
      "text/plain": [
       "'dS'"
      ]
     },
     "execution_count": 38,
     "metadata": {},
     "output_type": "execute_result"
    }
   ],
   "source": [
    "List1.pop(1)"
   ]
  },
  {
   "cell_type": "code",
   "execution_count": 39,
   "id": "0b568355-3b11-47e9-be32-f0753bdbcb5f",
   "metadata": {},
   "outputs": [
    {
     "data": {
      "text/plain": [
       "['ai', 'CS', 150, 20, True, {1, 2, 3, 4}, [3, 4]]"
      ]
     },
     "execution_count": 39,
     "metadata": {},
     "output_type": "execute_result"
    }
   ],
   "source": [
    "List1"
   ]
  },
  {
   "cell_type": "code",
   "execution_count": null,
   "id": "6b0807ff-9282-424e-bde4-9dc12a4499f2",
   "metadata": {},
   "outputs": [],
   "source": []
  },
  {
   "cell_type": "markdown",
   "id": "f1398e0a-034c-429b-add3-fe9378486f00",
   "metadata": {},
   "source": [
    "# Del"
   ]
  },
  {
   "cell_type": "code",
   "execution_count": 40,
   "id": "5ff85fc7-ba91-435c-aa52-e32b55fb8cc7",
   "metadata": {},
   "outputs": [
    {
     "data": {
      "text/plain": [
       "['ai', 150, 20, True, {1, 2, 3, 4}, [3, 4]]"
      ]
     },
     "execution_count": 40,
     "metadata": {},
     "output_type": "execute_result"
    }
   ],
   "source": [
    "del List1[1]\n",
    "List1"
   ]
  },
  {
   "cell_type": "code",
   "execution_count": null,
   "id": "57f4aaec-bf06-495e-97db-dba7ed269f42",
   "metadata": {},
   "outputs": [],
   "source": []
  },
  {
   "cell_type": "code",
   "execution_count": null,
   "id": "8b9b3230-cb5d-4195-8aab-54575ad5adc9",
   "metadata": {},
   "outputs": [],
   "source": []
  },
  {
   "cell_type": "markdown",
   "id": "3e14e521-e9f7-4e6e-b86e-cba15c6a8297",
   "metadata": {},
   "source": [
    "# clear()"
   ]
  },
  {
   "cell_type": "code",
   "execution_count": 41,
   "id": "f05e26e9-ee62-438f-8ceb-24c724b5b5c8",
   "metadata": {},
   "outputs": [
    {
     "data": {
      "text/plain": [
       "[]"
      ]
     },
     "execution_count": 41,
     "metadata": {},
     "output_type": "execute_result"
    }
   ],
   "source": [
    "List1 = ['ai', 150, 20, True, {1, 2, 3, 4}, [3, 4]]\n",
    "List1.clear()\n",
    "List1"
   ]
  },
  {
   "cell_type": "code",
   "execution_count": 42,
   "id": "64c990ee-19c3-4335-ab6a-aed5e028c8c3",
   "metadata": {},
   "outputs": [
    {
     "data": {
      "text/plain": [
       "list"
      ]
     },
     "execution_count": 42,
     "metadata": {},
     "output_type": "execute_result"
    }
   ],
   "source": [
    "type(List1)"
   ]
  },
  {
   "cell_type": "code",
   "execution_count": null,
   "id": "37f21738-93ae-430b-aa0e-55ddd666d941",
   "metadata": {},
   "outputs": [],
   "source": []
  },
  {
   "cell_type": "raw",
   "id": "536ac21f-9ac2-4139-bd04-ceb3d4306d6c",
   "metadata": {},
   "source": [
    "Asif Antaj Robin\n",
    "+88 01312531960\n",
    "asifantajrobin@gmail.com\n",
    "https://www.facebook.com/profile.php?id=100082193912347"
   ]
  }
 ],
 "metadata": {
  "kernelspec": {
   "display_name": "Python 3 (ipykernel)",
   "language": "python",
   "name": "python3"
  },
  "language_info": {
   "codemirror_mode": {
    "name": "ipython",
    "version": 3
   },
   "file_extension": ".py",
   "mimetype": "text/x-python",
   "name": "python",
   "nbconvert_exporter": "python",
   "pygments_lexer": "ipython3",
   "version": "3.11.7"
  }
 },
 "nbformat": 4,
 "nbformat_minor": 5
}

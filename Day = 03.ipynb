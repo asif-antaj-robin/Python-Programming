{
 "cells": [
  {
   "cell_type": "markdown",
   "id": "c770f35c-3877-4ef0-a742-0f9659c2efc6",
   "metadata": {},
   "source": [
    "# All About Data Types in Python"
   ]
  },
  {
   "cell_type": "raw",
   "id": "3f98d01d-e1c3-421e-b26e-bbb3a45e43c0",
   "metadata": {},
   "source": [
    "1. Numeric Data\n",
    "2. Boolean Data\n",
    "3. Sequence Data\n",
    "4. set Data\n",
    "5. mapping Data\n",
    "6. Data Frame\n",
    "7. memory view"
   ]
  },
  {
   "cell_type": "markdown",
   "id": "1ac21fe0-2b11-493f-8758-e04cae32e21d",
   "metadata": {},
   "source": [
    "# Numeric Data "
   ]
  },
  {
   "cell_type": "raw",
   "id": "1443d639-d29d-4464-a3f8-c7fd9048ca7d",
   "metadata": {},
   "source": [
    "1. Integers\n",
    "2. Float\n",
    "3. Complex"
   ]
  },
  {
   "cell_type": "code",
   "execution_count": 1,
   "id": "e330df64-ccf2-4bcb-a2de-ddfb407d5f1a",
   "metadata": {},
   "outputs": [],
   "source": [
    "x = 10 #int\n",
    "y = 10.5 #float\n",
    "z = 10+5j #10 is real number and 5j is imaginary"
   ]
  },
  {
   "cell_type": "code",
   "execution_count": 2,
   "id": "28a5f02d-2a54-4703-a45a-1ac7705f4d36",
   "metadata": {},
   "outputs": [
    {
     "data": {
      "text/plain": [
       "complex"
      ]
     },
     "execution_count": 2,
     "metadata": {},
     "output_type": "execute_result"
    }
   ],
   "source": [
    "type(z)"
   ]
  },
  {
   "cell_type": "code",
   "execution_count": 3,
   "id": "254b7c83-a620-4e9a-aa08-5f841b2344ca",
   "metadata": {},
   "outputs": [
    {
     "data": {
      "text/plain": [
       "True"
      ]
     },
     "execution_count": 3,
     "metadata": {},
     "output_type": "execute_result"
    }
   ],
   "source": [
    "isinstance(z,complex)"
   ]
  },
  {
   "cell_type": "code",
   "execution_count": 4,
   "id": "5ea28ee7-725f-433b-baeb-3a8ffe18fcd0",
   "metadata": {},
   "outputs": [
    {
     "data": {
      "text/plain": [
       "True"
      ]
     },
     "execution_count": 4,
     "metadata": {},
     "output_type": "execute_result"
    }
   ],
   "source": [
    "isinstance(10.5,float)"
   ]
  },
  {
   "cell_type": "code",
   "execution_count": 5,
   "id": "9f197921-9d12-47e9-9bdb-78306aea9669",
   "metadata": {},
   "outputs": [
    {
     "data": {
      "text/plain": [
       "10.0"
      ]
     },
     "execution_count": 5,
     "metadata": {},
     "output_type": "execute_result"
    }
   ],
   "source": [
    "n = float(x) #int to float\n",
    "n"
   ]
  },
  {
   "cell_type": "code",
   "execution_count": 6,
   "id": "055d2d38-9280-4487-9ef7-37fbd5b35176",
   "metadata": {},
   "outputs": [
    {
     "data": {
      "text/plain": [
       "int"
      ]
     },
     "execution_count": 6,
     "metadata": {},
     "output_type": "execute_result"
    }
   ],
   "source": [
    "n = int(n) #float to int\n",
    "type(n)"
   ]
  },
  {
   "cell_type": "code",
   "execution_count": 7,
   "id": "b01e50eb-b909-4318-aa85-37dfd968c550",
   "metadata": {},
   "outputs": [
    {
     "data": {
      "text/plain": [
       "(10+0j)"
      ]
     },
     "execution_count": 7,
     "metadata": {},
     "output_type": "execute_result"
    }
   ],
   "source": [
    "n = complex(n) #int to complex\n",
    "n"
   ]
  },
  {
   "cell_type": "code",
   "execution_count": 8,
   "id": "876b5544-b975-4be9-869d-78437d6b78c5",
   "metadata": {},
   "outputs": [
    {
     "ename": "TypeError",
     "evalue": "int() argument must be a string, a bytes-like object or a real number, not 'complex'",
     "output_type": "error",
     "traceback": [
      "\u001b[1;31m---------------------------------------------------------------------------\u001b[0m",
      "\u001b[1;31mTypeError\u001b[0m                                 Traceback (most recent call last)",
      "Cell \u001b[1;32mIn[8], line 1\u001b[0m\n\u001b[1;32m----> 1\u001b[0m n \u001b[38;5;241m=\u001b[39m \u001b[38;5;28mint\u001b[39m(z)\n\u001b[0;32m      2\u001b[0m n\n",
      "\u001b[1;31mTypeError\u001b[0m: int() argument must be a string, a bytes-like object or a real number, not 'complex'"
     ]
    }
   ],
   "source": [
    "n = int(z)\n",
    "n"
   ]
  },
  {
   "cell_type": "code",
   "execution_count": null,
   "id": "8b7fbe1a-80f1-48ad-b680-fdf38229a8fb",
   "metadata": {},
   "outputs": [],
   "source": []
  },
  {
   "cell_type": "markdown",
   "id": "9e3a27f9-d57a-4cff-89bd-4cedba858d4d",
   "metadata": {},
   "source": [
    "# Boolean Data"
   ]
  },
  {
   "cell_type": "raw",
   "id": "95556a50-ad3d-48d4-aeb1-6276918c501c",
   "metadata": {},
   "source": [
    "1. True\n",
    "2. Flase"
   ]
  },
  {
   "cell_type": "code",
   "execution_count": 9,
   "id": "7e5de6d5-5427-497a-b8a8-f5c52f7a15e2",
   "metadata": {},
   "outputs": [
    {
     "data": {
      "text/plain": [
       "True"
      ]
     },
     "execution_count": 9,
     "metadata": {},
     "output_type": "execute_result"
    }
   ],
   "source": [
    "x = True\n",
    "y = False\n",
    "x"
   ]
  },
  {
   "cell_type": "code",
   "execution_count": null,
   "id": "53a3c549-7078-4651-9358-bb76ad113c0f",
   "metadata": {},
   "outputs": [],
   "source": []
  },
  {
   "cell_type": "markdown",
   "id": "ef635597-a034-425c-8c7b-91346b873f2b",
   "metadata": {},
   "source": [
    "# Sequence Data"
   ]
  },
  {
   "cell_type": "raw",
   "id": "d39fd856-e915-4830-9e4b-f73c1743f623",
   "metadata": {},
   "source": [
    "1. List\n",
    "2. Tuple\n",
    "3. Range\n",
    "4. Array\n",
    "5. String"
   ]
  },
  {
   "cell_type": "code",
   "execution_count": null,
   "id": "189da6f1-3648-402b-af19-8e036001092f",
   "metadata": {},
   "outputs": [],
   "source": []
  },
  {
   "cell_type": "code",
   "execution_count": 10,
   "id": "800c3dad-899a-4c6b-bd2d-e2628187142d",
   "metadata": {},
   "outputs": [
    {
     "data": {
      "text/plain": [
       "[1, 2, 3, 4, True, [1, 2], 'data', (1, 2, 3, 8)]"
      ]
     },
     "execution_count": 10,
     "metadata": {},
     "output_type": "execute_result"
    }
   ],
   "source": [
    "#List []\n",
    "lst = [1,2,3,4,True,[1,2],'data',(1,2,3,8)]\n",
    "lst"
   ]
  },
  {
   "cell_type": "code",
   "execution_count": 11,
   "id": "8e7b8b05-308c-4b24-8980-0b274a0907fc",
   "metadata": {},
   "outputs": [
    {
     "data": {
      "text/plain": [
       "1"
      ]
     },
     "execution_count": 11,
     "metadata": {},
     "output_type": "execute_result"
    }
   ],
   "source": [
    "lst[0]"
   ]
  },
  {
   "cell_type": "code",
   "execution_count": 12,
   "id": "70af6114-afc2-482f-8c22-5a35fca248a1",
   "metadata": {},
   "outputs": [
    {
     "data": {
      "text/plain": [
       "(1, 2, 3, 8)"
      ]
     },
     "execution_count": 12,
     "metadata": {},
     "output_type": "execute_result"
    }
   ],
   "source": [
    "lst[-1]"
   ]
  },
  {
   "cell_type": "code",
   "execution_count": 13,
   "id": "11650f85-cc0e-4ea5-9f00-a00dd3c53ca7",
   "metadata": {},
   "outputs": [
    {
     "data": {
      "text/plain": [
       "3"
      ]
     },
     "execution_count": 13,
     "metadata": {},
     "output_type": "execute_result"
    }
   ],
   "source": [
    "lst[-1][2]"
   ]
  },
  {
   "cell_type": "code",
   "execution_count": 14,
   "id": "e4649fef-d2a9-4c08-801e-9b3f43b199b0",
   "metadata": {},
   "outputs": [
    {
     "data": {
      "text/plain": [
       "list"
      ]
     },
     "execution_count": 14,
     "metadata": {},
     "output_type": "execute_result"
    }
   ],
   "source": [
    "type(lst)"
   ]
  },
  {
   "cell_type": "code",
   "execution_count": 15,
   "id": "4060875a-311b-45a2-9930-c9101a23d4c8",
   "metadata": {},
   "outputs": [
    {
     "data": {
      "text/plain": [
       "True"
      ]
     },
     "execution_count": 15,
     "metadata": {},
     "output_type": "execute_result"
    }
   ],
   "source": [
    "isinstance(lst,list)"
   ]
  },
  {
   "cell_type": "code",
   "execution_count": null,
   "id": "eb74aa13-4b39-4c6b-9a9d-d60792045660",
   "metadata": {},
   "outputs": [],
   "source": []
  },
  {
   "cell_type": "code",
   "execution_count": 16,
   "id": "c9e959c9-7426-4d63-a0dd-a3a8ac1f63e2",
   "metadata": {},
   "outputs": [
    {
     "data": {
      "text/plain": [
       "tuple"
      ]
     },
     "execution_count": 16,
     "metadata": {},
     "output_type": "execute_result"
    }
   ],
   "source": [
    "#Tupe ()\n",
    "tuple = (1,5,8,9,'Ai')\n",
    "type(tuple)"
   ]
  },
  {
   "cell_type": "code",
   "execution_count": 17,
   "id": "f9a497a3-b976-4ae5-8752-ccdac32fcc21",
   "metadata": {},
   "outputs": [
    {
     "data": {
      "text/plain": [
       "8"
      ]
     },
     "execution_count": 17,
     "metadata": {},
     "output_type": "execute_result"
    }
   ],
   "source": [
    "tuple[2]"
   ]
  },
  {
   "cell_type": "code",
   "execution_count": 18,
   "id": "6660ea02-2a46-42d1-a932-eaa58f3d6c9a",
   "metadata": {},
   "outputs": [
    {
     "data": {
      "text/plain": [
       "(1, 5, 8, 9)"
      ]
     },
     "execution_count": 18,
     "metadata": {},
     "output_type": "execute_result"
    }
   ],
   "source": [
    "tuple[0:4] # colon means to ; 0 to 4-1"
   ]
  },
  {
   "cell_type": "code",
   "execution_count": null,
   "id": "8b1a3c5e-661e-4fca-9266-cb8ebe48bece",
   "metadata": {},
   "outputs": [],
   "source": []
  },
  {
   "cell_type": "code",
   "execution_count": 19,
   "id": "2204c1ad-d98e-4b26-99f6-f92326cb47d1",
   "metadata": {},
   "outputs": [
    {
     "name": "stdout",
     "output_type": "stream",
     "text": [
      "0\n",
      "1\n",
      "2\n",
      "3\n",
      "4\n",
      "5\n",
      "6\n",
      "7\n",
      "8\n",
      "9\n"
     ]
    }
   ],
   "source": [
    "#Range()\n",
    "rng = range(10) #1st case\n",
    "\n",
    "for i in rng:\n",
    "    print(i)"
   ]
  },
  {
   "cell_type": "code",
   "execution_count": 20,
   "id": "84833786-1ce1-4ea0-b936-8e51ef9aa8d7",
   "metadata": {},
   "outputs": [
    {
     "name": "stdout",
     "output_type": "stream",
     "text": [
      "5\n",
      "6\n",
      "7\n",
      "8\n",
      "9\n",
      "10\n",
      "11\n",
      "12\n",
      "13\n",
      "14\n",
      "15\n",
      "16\n",
      "17\n",
      "18\n",
      "19\n"
     ]
    }
   ],
   "source": [
    "rng = range(5, 20) #2nd case\n",
    "\n",
    "for i in rng:\n",
    "    print(i)"
   ]
  },
  {
   "cell_type": "code",
   "execution_count": 21,
   "id": "765a8372-9ba0-47a3-90f9-e6e2e69e64db",
   "metadata": {},
   "outputs": [
    {
     "name": "stdout",
     "output_type": "stream",
     "text": [
      "5\n",
      "8\n",
      "11\n",
      "14\n",
      "17\n"
     ]
    }
   ],
   "source": [
    "rng = range(5,20,3) #3rd case\n",
    "for i in rng:\n",
    "    print(i)"
   ]
  },
  {
   "cell_type": "code",
   "execution_count": 22,
   "id": "eccf6ed9-57bc-4c7b-b240-eef1db7621ae",
   "metadata": {},
   "outputs": [
    {
     "name": "stdout",
     "output_type": "stream",
     "text": [
      "20\n",
      "17\n",
      "14\n",
      "11\n",
      "8\n"
     ]
    }
   ],
   "source": [
    "rng = range(20,5,-3) #4th case\n",
    "for i in rng:\n",
    "    print(i)"
   ]
  },
  {
   "cell_type": "code",
   "execution_count": null,
   "id": "91030b73-90bd-4937-b64a-246cd04964df",
   "metadata": {},
   "outputs": [],
   "source": []
  },
  {
   "cell_type": "code",
   "execution_count": 23,
   "id": "266d1006-ddba-4a88-bddd-95e83b029bae",
   "metadata": {},
   "outputs": [
    {
     "data": {
      "text/plain": [
       "array('i', [1, 2, 3, 4])"
      ]
     },
     "execution_count": 23,
     "metadata": {},
     "output_type": "execute_result"
    }
   ],
   "source": [
    "#array\n",
    "import array as ar\n",
    "\n",
    "ary = ar.array('i',[1,2,3,4])\n",
    "ary"
   ]
  },
  {
   "cell_type": "code",
   "execution_count": 24,
   "id": "f8aab58e-4ff3-49b4-9160-872d21965f00",
   "metadata": {},
   "outputs": [
    {
     "data": {
      "text/plain": [
       "array.array"
      ]
     },
     "execution_count": 24,
     "metadata": {},
     "output_type": "execute_result"
    }
   ],
   "source": [
    "type(ary)"
   ]
  },
  {
   "cell_type": "code",
   "execution_count": 25,
   "id": "532b45bf-4679-48b1-85bb-80341b927390",
   "metadata": {},
   "outputs": [
    {
     "data": {
      "text/plain": [
       "array('f', [1.0, 2.0, 3.0, 4.0, 5.5])"
      ]
     },
     "execution_count": 25,
     "metadata": {},
     "output_type": "execute_result"
    }
   ],
   "source": [
    "ary = ar.array('f',[1,2,3,4, 5.5])\n",
    "ary"
   ]
  },
  {
   "cell_type": "code",
   "execution_count": null,
   "id": "7ce2cca9-f879-49b7-9900-d9e04839a3a1",
   "metadata": {},
   "outputs": [],
   "source": []
  },
  {
   "cell_type": "code",
   "execution_count": 26,
   "id": "515c328c-9354-42d7-95fc-3fb0c97849ac",
   "metadata": {},
   "outputs": [
    {
     "data": {
      "text/plain": [
       "str"
      ]
     },
     "execution_count": 26,
     "metadata": {},
     "output_type": "execute_result"
    }
   ],
   "source": [
    "#string\n",
    "Data = \"Python Data Science and Machine Learning\"\n",
    "type(Data)"
   ]
  },
  {
   "cell_type": "code",
   "execution_count": 27,
   "id": "d18b9821-cd01-40e9-bad5-b44a06a7d91d",
   "metadata": {},
   "outputs": [
    {
     "data": {
      "text/plain": [
       "str"
      ]
     },
     "execution_count": 27,
     "metadata": {},
     "output_type": "execute_result"
    }
   ],
   "source": [
    "Data = '''\n",
    "I love\n",
    "Data Science\n",
    "and\n",
    "Machine Learning\n",
    "'''\n",
    "type(Data)"
   ]
  },
  {
   "cell_type": "code",
   "execution_count": null,
   "id": "8d0e1237-c5e5-40f1-a655-ed8fdd05984e",
   "metadata": {},
   "outputs": [],
   "source": []
  },
  {
   "cell_type": "code",
   "execution_count": 28,
   "id": "744d6da9-3e4c-401d-93f8-650fa638ee3b",
   "metadata": {},
   "outputs": [
    {
     "data": {
      "text/plain": [
       "set"
      ]
     },
     "execution_count": 28,
     "metadata": {},
     "output_type": "execute_result"
    }
   ],
   "source": [
    "#Set\n",
    "set = {1,2,3,5}\n",
    "type(set)"
   ]
  },
  {
   "cell_type": "code",
   "execution_count": null,
   "id": "3dde8bd9-08d5-44a9-9f45-e757c3b415bb",
   "metadata": {},
   "outputs": [],
   "source": []
  },
  {
   "cell_type": "code",
   "execution_count": 29,
   "id": "ec8cc7d2-9326-46c2-9b84-59d0036a3544",
   "metadata": {},
   "outputs": [
    {
     "data": {
      "text/plain": [
       "dict"
      ]
     },
     "execution_count": 29,
     "metadata": {},
     "output_type": "execute_result"
    }
   ],
   "source": [
    "#Dictionary\n",
    "\n",
    "dic={\n",
    "    'varsity': 'Cumilla polytechnic institute',\n",
    "    'Dept': 'Data Science'\n",
    "}\n",
    "\n",
    "type(dic)"
   ]
  },
  {
   "cell_type": "code",
   "execution_count": 30,
   "id": "9b929b3b-425b-4851-8b46-7bbdb5b283cc",
   "metadata": {},
   "outputs": [
    {
     "data": {
      "text/plain": [
       "{'varsity': 'Cumilla polytechnic institute', 'Dept': 'Data Science'}"
      ]
     },
     "execution_count": 30,
     "metadata": {},
     "output_type": "execute_result"
    }
   ],
   "source": [
    "dic"
   ]
  },
  {
   "cell_type": "code",
   "execution_count": 31,
   "id": "20826adc-a32f-4e78-b26e-19eca7489111",
   "metadata": {},
   "outputs": [
    {
     "data": {
      "text/plain": [
       "dict_keys(['varsity', 'Dept'])"
      ]
     },
     "execution_count": 31,
     "metadata": {},
     "output_type": "execute_result"
    }
   ],
   "source": [
    "dic.keys()"
   ]
  },
  {
   "cell_type": "code",
   "execution_count": 32,
   "id": "eb838cca-be4e-4f01-ba88-346b363f6d42",
   "metadata": {},
   "outputs": [
    {
     "data": {
      "text/plain": [
       "dict_values(['Cumilla polytechnic institute', 'Data Science'])"
      ]
     },
     "execution_count": 32,
     "metadata": {},
     "output_type": "execute_result"
    }
   ],
   "source": [
    "dic.values()"
   ]
  },
  {
   "cell_type": "code",
   "execution_count": null,
   "id": "8b1430ac-c021-4256-bcc1-5e6b22736971",
   "metadata": {},
   "outputs": [],
   "source": []
  },
  {
   "cell_type": "code",
   "execution_count": 33,
   "id": "a6de5878-95b3-4a52-88e5-ce96403122c2",
   "metadata": {},
   "outputs": [
    {
     "data": {
      "text/html": [
       "<div>\n",
       "<style scoped>\n",
       "    .dataframe tbody tr th:only-of-type {\n",
       "        vertical-align: middle;\n",
       "    }\n",
       "\n",
       "    .dataframe tbody tr th {\n",
       "        vertical-align: top;\n",
       "    }\n",
       "\n",
       "    .dataframe thead th {\n",
       "        text-align: right;\n",
       "    }\n",
       "</style>\n",
       "<table border=\"1\" class=\"dataframe\">\n",
       "  <thead>\n",
       "    <tr style=\"text-align: right;\">\n",
       "      <th></th>\n",
       "      <th>Name</th>\n",
       "      <th>Open</th>\n",
       "      <th>High</th>\n",
       "      <th>Low</th>\n",
       "      <th>Close</th>\n",
       "      <th>Volume</th>\n",
       "    </tr>\n",
       "    <tr>\n",
       "      <th>Date</th>\n",
       "      <th></th>\n",
       "      <th></th>\n",
       "      <th></th>\n",
       "      <th></th>\n",
       "      <th></th>\n",
       "      <th></th>\n",
       "    </tr>\n",
       "  </thead>\n",
       "  <tbody>\n",
       "    <tr>\n",
       "      <th>02-01-2022</th>\n",
       "      <td>01.Bank</td>\n",
       "      <td>22.83</td>\n",
       "      <td>23.20</td>\n",
       "      <td>22.59</td>\n",
       "      <td>22.93</td>\n",
       "      <td>1842350.41</td>\n",
       "    </tr>\n",
       "    <tr>\n",
       "      <th>03-01-2022</th>\n",
       "      <td>01.Bank</td>\n",
       "      <td>23.03</td>\n",
       "      <td>23.29</td>\n",
       "      <td>22.74</td>\n",
       "      <td>22.90</td>\n",
       "      <td>1664989.63</td>\n",
       "    </tr>\n",
       "    <tr>\n",
       "      <th>04-01-2022</th>\n",
       "      <td>01.Bank</td>\n",
       "      <td>22.85</td>\n",
       "      <td>23.13</td>\n",
       "      <td>22.64</td>\n",
       "      <td>22.84</td>\n",
       "      <td>1354510.97</td>\n",
       "    </tr>\n",
       "    <tr>\n",
       "      <th>05-01-2022</th>\n",
       "      <td>01.Bank</td>\n",
       "      <td>22.91</td>\n",
       "      <td>23.20</td>\n",
       "      <td>22.70</td>\n",
       "      <td>22.98</td>\n",
       "      <td>1564334.81</td>\n",
       "    </tr>\n",
       "    <tr>\n",
       "      <th>06-01-2022</th>\n",
       "      <td>01.Bank</td>\n",
       "      <td>23.12</td>\n",
       "      <td>23.65</td>\n",
       "      <td>23.00</td>\n",
       "      <td>23.37</td>\n",
       "      <td>2586344.19</td>\n",
       "    </tr>\n",
       "    <tr>\n",
       "      <th>...</th>\n",
       "      <td>...</td>\n",
       "      <td>...</td>\n",
       "      <td>...</td>\n",
       "      <td>...</td>\n",
       "      <td>...</td>\n",
       "      <td>...</td>\n",
       "    </tr>\n",
       "    <tr>\n",
       "      <th>26-06-2022</th>\n",
       "      <td>ZEALBANGLA</td>\n",
       "      <td>169.00</td>\n",
       "      <td>174.90</td>\n",
       "      <td>169.00</td>\n",
       "      <td>170.30</td>\n",
       "      <td>10480.00</td>\n",
       "    </tr>\n",
       "    <tr>\n",
       "      <th>27-06-2022</th>\n",
       "      <td>ZEALBANGLA</td>\n",
       "      <td>174.10</td>\n",
       "      <td>176.00</td>\n",
       "      <td>166.90</td>\n",
       "      <td>167.50</td>\n",
       "      <td>13817.00</td>\n",
       "    </tr>\n",
       "    <tr>\n",
       "      <th>28-06-2022</th>\n",
       "      <td>ZEALBANGLA</td>\n",
       "      <td>170.00</td>\n",
       "      <td>170.90</td>\n",
       "      <td>167.00</td>\n",
       "      <td>168.10</td>\n",
       "      <td>5214.00</td>\n",
       "    </tr>\n",
       "    <tr>\n",
       "      <th>29-06-2022</th>\n",
       "      <td>ZEALBANGLA</td>\n",
       "      <td>167.10</td>\n",
       "      <td>169.00</td>\n",
       "      <td>164.90</td>\n",
       "      <td>165.10</td>\n",
       "      <td>6678.00</td>\n",
       "    </tr>\n",
       "    <tr>\n",
       "      <th>30-06-2022</th>\n",
       "      <td>ZEALBANGLA</td>\n",
       "      <td>165.10</td>\n",
       "      <td>174.00</td>\n",
       "      <td>164.00</td>\n",
       "      <td>172.20</td>\n",
       "      <td>5883.00</td>\n",
       "    </tr>\n",
       "  </tbody>\n",
       "</table>\n",
       "<p>49158 rows × 6 columns</p>\n",
       "</div>"
      ],
      "text/plain": [
       "                  Name    Open    High     Low   Close      Volume\n",
       "Date                                                              \n",
       "02-01-2022     01.Bank   22.83   23.20   22.59   22.93  1842350.41\n",
       "03-01-2022     01.Bank   23.03   23.29   22.74   22.90  1664989.63\n",
       "04-01-2022     01.Bank   22.85   23.13   22.64   22.84  1354510.97\n",
       "05-01-2022     01.Bank   22.91   23.20   22.70   22.98  1564334.81\n",
       "06-01-2022     01.Bank   23.12   23.65   23.00   23.37  2586344.19\n",
       "...                ...     ...     ...     ...     ...         ...\n",
       "26-06-2022  ZEALBANGLA  169.00  174.90  169.00  170.30    10480.00\n",
       "27-06-2022  ZEALBANGLA  174.10  176.00  166.90  167.50    13817.00\n",
       "28-06-2022  ZEALBANGLA  170.00  170.90  167.00  168.10     5214.00\n",
       "29-06-2022  ZEALBANGLA  167.10  169.00  164.90  165.10     6678.00\n",
       "30-06-2022  ZEALBANGLA  165.10  174.00  164.00  172.20     5883.00\n",
       "\n",
       "[49158 rows x 6 columns]"
      ]
     },
     "execution_count": 33,
     "metadata": {},
     "output_type": "execute_result"
    }
   ],
   "source": [
    "#Data Frame (Pandas)\n",
    "\n",
    "import pandas as pd\n",
    "\n",
    "df = pd.read_csv(r'Stock_Market_Data.csv', index_col = 0)\n",
    "df"
   ]
  },
  {
   "cell_type": "code",
   "execution_count": 34,
   "id": "404db411-38ea-42da-bf87-c420f7e58737",
   "metadata": {},
   "outputs": [
    {
     "data": {
      "text/html": [
       "<div>\n",
       "<style scoped>\n",
       "    .dataframe tbody tr th:only-of-type {\n",
       "        vertical-align: middle;\n",
       "    }\n",
       "\n",
       "    .dataframe tbody tr th {\n",
       "        vertical-align: top;\n",
       "    }\n",
       "\n",
       "    .dataframe thead th {\n",
       "        text-align: right;\n",
       "    }\n",
       "</style>\n",
       "<table border=\"1\" class=\"dataframe\">\n",
       "  <thead>\n",
       "    <tr style=\"text-align: right;\">\n",
       "      <th></th>\n",
       "      <th>Name</th>\n",
       "      <th>Open</th>\n",
       "      <th>High</th>\n",
       "      <th>Low</th>\n",
       "      <th>Close</th>\n",
       "      <th>Volume</th>\n",
       "    </tr>\n",
       "    <tr>\n",
       "      <th>Date</th>\n",
       "      <th></th>\n",
       "      <th></th>\n",
       "      <th></th>\n",
       "      <th></th>\n",
       "      <th></th>\n",
       "      <th></th>\n",
       "    </tr>\n",
       "  </thead>\n",
       "  <tbody>\n",
       "    <tr>\n",
       "      <th>02-01-2022</th>\n",
       "      <td>01.Bank</td>\n",
       "      <td>22.83</td>\n",
       "      <td>23.20</td>\n",
       "      <td>22.59</td>\n",
       "      <td>22.93</td>\n",
       "      <td>1842350.41</td>\n",
       "    </tr>\n",
       "    <tr>\n",
       "      <th>03-01-2022</th>\n",
       "      <td>01.Bank</td>\n",
       "      <td>23.03</td>\n",
       "      <td>23.29</td>\n",
       "      <td>22.74</td>\n",
       "      <td>22.90</td>\n",
       "      <td>1664989.63</td>\n",
       "    </tr>\n",
       "    <tr>\n",
       "      <th>04-01-2022</th>\n",
       "      <td>01.Bank</td>\n",
       "      <td>22.85</td>\n",
       "      <td>23.13</td>\n",
       "      <td>22.64</td>\n",
       "      <td>22.84</td>\n",
       "      <td>1354510.97</td>\n",
       "    </tr>\n",
       "    <tr>\n",
       "      <th>05-01-2022</th>\n",
       "      <td>01.Bank</td>\n",
       "      <td>22.91</td>\n",
       "      <td>23.20</td>\n",
       "      <td>22.70</td>\n",
       "      <td>22.98</td>\n",
       "      <td>1564334.81</td>\n",
       "    </tr>\n",
       "    <tr>\n",
       "      <th>06-01-2022</th>\n",
       "      <td>01.Bank</td>\n",
       "      <td>23.12</td>\n",
       "      <td>23.65</td>\n",
       "      <td>23.00</td>\n",
       "      <td>23.37</td>\n",
       "      <td>2586344.19</td>\n",
       "    </tr>\n",
       "    <tr>\n",
       "      <th>09-01-2022</th>\n",
       "      <td>01.Bank</td>\n",
       "      <td>23.47</td>\n",
       "      <td>23.62</td>\n",
       "      <td>22.98</td>\n",
       "      <td>23.14</td>\n",
       "      <td>1813583.91</td>\n",
       "    </tr>\n",
       "    <tr>\n",
       "      <th>10-01-2022</th>\n",
       "      <td>01.Bank</td>\n",
       "      <td>23.16</td>\n",
       "      <td>23.43</td>\n",
       "      <td>22.85</td>\n",
       "      <td>23.10</td>\n",
       "      <td>1656683.94</td>\n",
       "    </tr>\n",
       "    <tr>\n",
       "      <th>11-01-2022</th>\n",
       "      <td>01.Bank</td>\n",
       "      <td>23.22</td>\n",
       "      <td>23.61</td>\n",
       "      <td>22.98</td>\n",
       "      <td>23.25</td>\n",
       "      <td>2224838.94</td>\n",
       "    </tr>\n",
       "    <tr>\n",
       "      <th>12-01-2022</th>\n",
       "      <td>01.Bank</td>\n",
       "      <td>23.39</td>\n",
       "      <td>23.55</td>\n",
       "      <td>22.98</td>\n",
       "      <td>23.17</td>\n",
       "      <td>1756813.34</td>\n",
       "    </tr>\n",
       "    <tr>\n",
       "      <th>13-01-2022</th>\n",
       "      <td>01.Bank</td>\n",
       "      <td>23.20</td>\n",
       "      <td>23.41</td>\n",
       "      <td>22.89</td>\n",
       "      <td>23.05</td>\n",
       "      <td>1107172.59</td>\n",
       "    </tr>\n",
       "  </tbody>\n",
       "</table>\n",
       "</div>"
      ],
      "text/plain": [
       "               Name   Open   High    Low  Close      Volume\n",
       "Date                                                       \n",
       "02-01-2022  01.Bank  22.83  23.20  22.59  22.93  1842350.41\n",
       "03-01-2022  01.Bank  23.03  23.29  22.74  22.90  1664989.63\n",
       "04-01-2022  01.Bank  22.85  23.13  22.64  22.84  1354510.97\n",
       "05-01-2022  01.Bank  22.91  23.20  22.70  22.98  1564334.81\n",
       "06-01-2022  01.Bank  23.12  23.65  23.00  23.37  2586344.19\n",
       "09-01-2022  01.Bank  23.47  23.62  22.98  23.14  1813583.91\n",
       "10-01-2022  01.Bank  23.16  23.43  22.85  23.10  1656683.94\n",
       "11-01-2022  01.Bank  23.22  23.61  22.98  23.25  2224838.94\n",
       "12-01-2022  01.Bank  23.39  23.55  22.98  23.17  1756813.34\n",
       "13-01-2022  01.Bank  23.20  23.41  22.89  23.05  1107172.59"
      ]
     },
     "execution_count": 34,
     "metadata": {},
     "output_type": "execute_result"
    }
   ],
   "source": [
    "df.head(10)"
   ]
  },
  {
   "cell_type": "code",
   "execution_count": 35,
   "id": "1f8c8821-a10f-49a4-a456-7e77fa2c14e8",
   "metadata": {},
   "outputs": [
    {
     "data": {
      "text/plain": [
       "(49158, 6)"
      ]
     },
     "execution_count": 35,
     "metadata": {},
     "output_type": "execute_result"
    }
   ],
   "source": [
    "df.shape"
   ]
  },
  {
   "cell_type": "code",
   "execution_count": 36,
   "id": "4c463ac9-5acd-44e6-8022-04a2b78ec7c5",
   "metadata": {},
   "outputs": [
    {
     "name": "stdout",
     "output_type": "stream",
     "text": [
      "<class 'pandas.core.frame.DataFrame'>\n",
      "Index: 49158 entries, 02-01-2022 to 30-06-2022\n",
      "Data columns (total 6 columns):\n",
      " #   Column  Non-Null Count  Dtype  \n",
      "---  ------  --------------  -----  \n",
      " 0   Name    49158 non-null  object \n",
      " 1   Open    49158 non-null  float64\n",
      " 2   High    49158 non-null  float64\n",
      " 3   Low     49158 non-null  float64\n",
      " 4   Close   49158 non-null  float64\n",
      " 5   Volume  49158 non-null  float64\n",
      "dtypes: float64(5), object(1)\n",
      "memory usage: 2.6+ MB\n"
     ]
    }
   ],
   "source": [
    "df.info()"
   ]
  },
  {
   "cell_type": "code",
   "execution_count": null,
   "id": "2bef0e28-9e9e-4db3-b40a-5fa644e78cb2",
   "metadata": {},
   "outputs": [],
   "source": []
  },
  {
   "cell_type": "code",
   "execution_count": 37,
   "id": "b76ef51d-2e3a-4f45-99ea-963bf6b0484a",
   "metadata": {},
   "outputs": [
    {
     "data": {
      "text/plain": [
       "bytearray"
      ]
     },
     "execution_count": 37,
     "metadata": {},
     "output_type": "execute_result"
    }
   ],
   "source": [
    "#Binary Types\n",
    "\n",
    "byte_arr = bytearray('ai Science','utf-8')\n",
    "type(byte_arr)"
   ]
  },
  {
   "cell_type": "code",
   "execution_count": 38,
   "id": "bece512b-c007-4cb4-9125-400f272d1cc4",
   "metadata": {},
   "outputs": [
    {
     "data": {
      "text/plain": [
       "bytearray(b'ai Science')"
      ]
     },
     "execution_count": 38,
     "metadata": {},
     "output_type": "execute_result"
    }
   ],
   "source": [
    "byte_arr"
   ]
  },
  {
   "cell_type": "code",
   "execution_count": 39,
   "id": "4f206d7c-ee66-4eb4-9296-01ac5f2437fd",
   "metadata": {},
   "outputs": [
    {
     "data": {
      "text/plain": [
       "<memory at 0x000001EB0F62CD00>"
      ]
     },
     "execution_count": 39,
     "metadata": {},
     "output_type": "execute_result"
    }
   ],
   "source": [
    "memoryview(byte_arr)"
   ]
  },
  {
   "cell_type": "code",
   "execution_count": 40,
   "id": "badef5da-9a1a-4b84-9f27-a0d25d3b124e",
   "metadata": {},
   "outputs": [
    {
     "data": {
      "text/plain": [
       "97"
      ]
     },
     "execution_count": 40,
     "metadata": {},
     "output_type": "execute_result"
    }
   ],
   "source": [
    "memoryview(byte_arr)[0]"
   ]
  },
  {
   "cell_type": "code",
   "execution_count": 41,
   "id": "9c768697-8abe-4f42-a3ba-be1ae847bae2",
   "metadata": {},
   "outputs": [],
   "source": [
    "mv = memoryview(byte_arr)\n",
    "mv[0] = 65"
   ]
  },
  {
   "cell_type": "code",
   "execution_count": 42,
   "id": "b736ebb7-584a-47cb-92ca-1f013df1c2fc",
   "metadata": {},
   "outputs": [],
   "source": [
    "mv = memoryview(byte_arr)\n",
    "mv[1] = 73"
   ]
  },
  {
   "cell_type": "code",
   "execution_count": 43,
   "id": "659cce9a-ba3e-4ec7-a829-b6b7cddca88e",
   "metadata": {},
   "outputs": [
    {
     "data": {
      "text/plain": [
       "bytearray(b'AI Science')"
      ]
     },
     "execution_count": 43,
     "metadata": {},
     "output_type": "execute_result"
    }
   ],
   "source": [
    "byte_arr"
   ]
  },
  {
   "cell_type": "code",
   "execution_count": null,
   "id": "b9284b59-3cef-468a-aeed-de51c106d20f",
   "metadata": {},
   "outputs": [],
   "source": []
  },
  {
   "cell_type": "raw",
   "id": "d5758788-c984-498c-b2c6-099862c33a49",
   "metadata": {},
   "source": [
    "Asif Antaj Robin\n",
    "+88 01312531960\n",
    "asifantajrobin@gmail.com\n",
    "https://www.facebook.com/profile.php?id=100082193912347"
   ]
  }
 ],
 "metadata": {
  "kernelspec": {
   "display_name": "Python 3 (ipykernel)",
   "language": "python",
   "name": "python3"
  },
  "language_info": {
   "codemirror_mode": {
    "name": "ipython",
    "version": 3
   },
   "file_extension": ".py",
   "mimetype": "text/x-python",
   "name": "python",
   "nbconvert_exporter": "python",
   "pygments_lexer": "ipython3",
   "version": "3.11.7"
  }
 },
 "nbformat": 4,
 "nbformat_minor": 5
}

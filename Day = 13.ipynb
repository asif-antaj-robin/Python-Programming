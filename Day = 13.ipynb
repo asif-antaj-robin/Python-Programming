{
 "cells": [
  {
   "cell_type": "markdown",
   "id": "0a03e328-4563-40eb-9f41-85a0e5f830d8",
   "metadata": {},
   "source": [
    "# Zip/Unzip"
   ]
  },
  {
   "cell_type": "code",
   "execution_count": 1,
   "id": "78e9aec3-8df6-4b9a-8bcf-85ba1e075405",
   "metadata": {},
   "outputs": [],
   "source": [
    "Name = [\"Robin\", \"Mehedi\", \"Imran\"]\n",
    "Deft = [\"CST\", \"CT\", \"ET\"]"
   ]
  },
  {
   "cell_type": "markdown",
   "id": "108144c2-e7cf-44ad-bdda-45c30f990b01",
   "metadata": {},
   "source": [
    "# Zip"
   ]
  },
  {
   "cell_type": "code",
   "execution_count": 2,
   "id": "44459ec6-294c-4be2-bec1-76b99586904c",
   "metadata": {},
   "outputs": [
    {
     "data": {
      "text/plain": [
       "<zip at 0x249078fdec0>"
      ]
     },
     "execution_count": 2,
     "metadata": {},
     "output_type": "execute_result"
    }
   ],
   "source": [
    "ziped = zip(Name, Deft)\n",
    "ziped"
   ]
  },
  {
   "cell_type": "code",
   "execution_count": 3,
   "id": "00947ee1-8bf5-47bf-9df2-d4498e49f65b",
   "metadata": {},
   "outputs": [
    {
     "data": {
      "text/plain": [
       "[('Robin', 'CST'), ('Mehedi', 'CT'), ('Imran', 'ET')]"
      ]
     },
     "execution_count": 3,
     "metadata": {},
     "output_type": "execute_result"
    }
   ],
   "source": [
    "ziped = list(zip(Name, Deft))\n",
    "ziped"
   ]
  },
  {
   "cell_type": "code",
   "execution_count": 4,
   "id": "e3009a93-e473-493f-956a-3dddf91643eb",
   "metadata": {},
   "outputs": [
    {
     "data": {
      "text/plain": [
       "(('Robin', 'CST'), ('Mehedi', 'CT'), ('Imran', 'ET'))"
      ]
     },
     "execution_count": 4,
     "metadata": {},
     "output_type": "execute_result"
    }
   ],
   "source": [
    "ziped = tuple(zip(Name, Deft))\n",
    "ziped"
   ]
  },
  {
   "cell_type": "code",
   "execution_count": 5,
   "id": "55c98fe1-a44c-4bde-9d60-fbe9d4987a53",
   "metadata": {},
   "outputs": [
    {
     "data": {
      "text/plain": [
       "{'Robin': 'CST', 'Mehedi': 'CT', 'Imran': 'ET'}"
      ]
     },
     "execution_count": 5,
     "metadata": {},
     "output_type": "execute_result"
    }
   ],
   "source": [
    "ziped = dict(zip(Name, Deft))\n",
    "ziped"
   ]
  },
  {
   "cell_type": "code",
   "execution_count": 6,
   "id": "41b3b57f-e500-41e3-a1e3-70ca3d3d1a43",
   "metadata": {},
   "outputs": [
    {
     "data": {
      "text/plain": [
       "dict_keys(['Robin', 'Mehedi', 'Imran'])"
      ]
     },
     "execution_count": 6,
     "metadata": {},
     "output_type": "execute_result"
    }
   ],
   "source": [
    "ziped.keys()"
   ]
  },
  {
   "cell_type": "code",
   "execution_count": 7,
   "id": "6797364f-51bd-4e22-b047-f30a03215fc9",
   "metadata": {},
   "outputs": [
    {
     "name": "stdout",
     "output_type": "stream",
     "text": [
      "Robin\n",
      "Mehedi\n",
      "Imran\n"
     ]
    }
   ],
   "source": [
    "for i in ziped:\n",
    "    print(i)"
   ]
  },
  {
   "cell_type": "code",
   "execution_count": 8,
   "id": "43797719-5fe3-43d8-ad92-077a687e8f6e",
   "metadata": {},
   "outputs": [
    {
     "name": "stdout",
     "output_type": "stream",
     "text": [
      "CST\n",
      "CT\n",
      "ET\n"
     ]
    }
   ],
   "source": [
    "for i in ziped:\n",
    "    print(ziped[i])"
   ]
  },
  {
   "cell_type": "code",
   "execution_count": 9,
   "id": "0f58bcb4-6415-4ac7-8d19-e00f165e697c",
   "metadata": {},
   "outputs": [
    {
     "data": {
      "text/plain": [
       "dict_values(['CST', 'CT', 'ET'])"
      ]
     },
     "execution_count": 9,
     "metadata": {},
     "output_type": "execute_result"
    }
   ],
   "source": [
    "ziped.values()"
   ]
  },
  {
   "cell_type": "code",
   "execution_count": null,
   "id": "5886e572-c826-49e2-a85d-fbf64e109b2f",
   "metadata": {},
   "outputs": [],
   "source": []
  },
  {
   "cell_type": "markdown",
   "id": "68fba0fa-fc26-47a4-809f-e981a12db4b4",
   "metadata": {},
   "source": [
    "# Unzip"
   ]
  },
  {
   "cell_type": "code",
   "execution_count": 10,
   "id": "3093287b-1a15-4a5b-98d8-b50a8445bf9a",
   "metadata": {},
   "outputs": [
    {
     "name": "stdout",
     "output_type": "stream",
     "text": [
      "[('Robin', 'CST'), ('Mehedi', 'CT'), ('Imran', 'ET')]\n"
     ]
    }
   ],
   "source": [
    "zipped = list(zip(Name, Deft))\n",
    "print(zipped) #zip"
   ]
  },
  {
   "cell_type": "markdown",
   "id": "76cee67e-319e-4d5f-8bfb-01e3d2c2e772",
   "metadata": {},
   "source": [
    "value1, value2 = zip(*zipped)"
   ]
  },
  {
   "cell_type": "code",
   "execution_count": 11,
   "id": "d9a32f6d-823f-4de6-ba36-2871d6ebb936",
   "metadata": {},
   "outputs": [
    {
     "ename": "NameError",
     "evalue": "name 'value1' is not defined",
     "output_type": "error",
     "traceback": [
      "\u001b[1;31m---------------------------------------------------------------------------\u001b[0m",
      "\u001b[1;31mNameError\u001b[0m                                 Traceback (most recent call last)",
      "Cell \u001b[1;32mIn[11], line 1\u001b[0m\n\u001b[1;32m----> 1\u001b[0m value1\n",
      "\u001b[1;31mNameError\u001b[0m: name 'value1' is not defined"
     ]
    }
   ],
   "source": [
    "value1"
   ]
  },
  {
   "cell_type": "code",
   "execution_count": 12,
   "id": "789cac8f-6a58-4562-b1bc-0a6ea61e61d0",
   "metadata": {},
   "outputs": [
    {
     "ename": "NameError",
     "evalue": "name 'value2' is not defined",
     "output_type": "error",
     "traceback": [
      "\u001b[1;31m---------------------------------------------------------------------------\u001b[0m",
      "\u001b[1;31mNameError\u001b[0m                                 Traceback (most recent call last)",
      "Cell \u001b[1;32mIn[12], line 1\u001b[0m\n\u001b[1;32m----> 1\u001b[0m value2\n",
      "\u001b[1;31mNameError\u001b[0m: name 'value2' is not defined"
     ]
    }
   ],
   "source": [
    "value2"
   ]
  },
  {
   "cell_type": "code",
   "execution_count": null,
   "id": "b6dcfb9c-3387-481c-8e6b-2bc23aad2abf",
   "metadata": {},
   "outputs": [],
   "source": []
  },
  {
   "cell_type": "markdown",
   "id": "252980c3-f772-45f2-9b62-f66c4373f536",
   "metadata": {},
   "source": [
    "# Zip File & Unzup File"
   ]
  },
  {
   "cell_type": "code",
   "execution_count": null,
   "id": "c883bba4-26c6-4c88-8c17-110013cde3ee",
   "metadata": {},
   "outputs": [],
   "source": []
  },
  {
   "cell_type": "code",
   "execution_count": 13,
   "id": "9129bd19-63cd-4e96-b88f-4433fc38295d",
   "metadata": {},
   "outputs": [],
   "source": [
    "#ZipFile\n",
    "import zipfile as zp\n",
    "\n",
    "zippfile = zp.ZipFile('My File.zip', 'w')\n",
    "\n",
    "zippfile.write('1.jpg')\n",
    "zippfile.write('2.jpg')\n",
    "\n",
    "zippfile.close()"
   ]
  },
  {
   "cell_type": "code",
   "execution_count": null,
   "id": "4324adad-d678-4e48-b075-0891cb7169ad",
   "metadata": {},
   "outputs": [],
   "source": []
  },
  {
   "cell_type": "code",
   "execution_count": 14,
   "id": "1d7d8770-c346-4001-aecc-6d9ada07bc4f",
   "metadata": {},
   "outputs": [],
   "source": [
    "#UnzipFile\n",
    "with zp.ZipFile('My File.zip','r') as myfile: # r stands for read\n",
    "    myfile.extractall('My Pic')"
   ]
  },
  {
   "cell_type": "code",
   "execution_count": null,
   "id": "458d89ca-1f92-4191-8aed-a2a08910f882",
   "metadata": {},
   "outputs": [],
   "source": []
  },
  {
   "cell_type": "markdown",
   "id": "d2ca2986-7cbf-456f-b025-00e02ccc1c54",
   "metadata": {},
   "source": [
    "# Unpacking Elements"
   ]
  },
  {
   "cell_type": "code",
   "execution_count": 15,
   "id": "b3046fc7-2aed-4765-bc7a-f97b91b35858",
   "metadata": {},
   "outputs": [],
   "source": [
    "ids = (1,2,3)\n",
    "name = ('Aaif','Khadija','Robin')"
   ]
  },
  {
   "cell_type": "code",
   "execution_count": 16,
   "id": "750e5636-86fb-48c6-9799-436cd0679450",
   "metadata": {},
   "outputs": [
    {
     "data": {
      "text/plain": [
       "[(1, 'Aaif'), (2, 'Khadija'), (3, 'Robin')]"
      ]
     },
     "execution_count": 16,
     "metadata": {},
     "output_type": "execute_result"
    }
   ],
   "source": [
    "zipped = list(zip(ids,name))\n",
    "zipped"
   ]
  },
  {
   "cell_type": "code",
   "execution_count": 17,
   "id": "5d00d9ca-279f-474a-b24a-57672deb4bc0",
   "metadata": {},
   "outputs": [
    {
     "data": {
      "text/plain": [
       "(1, 2, 3)"
      ]
     },
     "execution_count": 17,
     "metadata": {},
     "output_type": "execute_result"
    }
   ],
   "source": [
    "var1, var2 = zip(*zipped)\n",
    "var1"
   ]
  },
  {
   "cell_type": "code",
   "execution_count": 18,
   "id": "904a9c9c-1225-4aeb-a7bb-511a40f34922",
   "metadata": {},
   "outputs": [
    {
     "data": {
      "text/plain": [
       "('Aaif', 'Khadija', 'Robin')"
      ]
     },
     "execution_count": 18,
     "metadata": {},
     "output_type": "execute_result"
    }
   ],
   "source": [
    "var2"
   ]
  },
  {
   "cell_type": "code",
   "execution_count": 19,
   "id": "a975420f-f2f7-454a-b2cf-1944b71feeb2",
   "metadata": {},
   "outputs": [
    {
     "data": {
      "text/plain": [
       "[(1, 'Aaif'), (2, 'Khadija'), (3, 'Robin')]"
      ]
     },
     "execution_count": 19,
     "metadata": {},
     "output_type": "execute_result"
    }
   ],
   "source": [
    "zipped"
   ]
  },
  {
   "cell_type": "code",
   "execution_count": 20,
   "id": "e28078db-36b8-49b9-8641-99378718ef4b",
   "metadata": {},
   "outputs": [
    {
     "name": "stdout",
     "output_type": "stream",
     "text": [
      "(1, 2, 3)\n",
      "('Aaif', 'Khadija', 'Robin')\n",
      "(1, 2, 3)\n",
      "('Aaif', 'Khadija', 'Robin')\n",
      "(1, 2, 3)\n",
      "('Aaif', 'Khadija', 'Robin')\n"
     ]
    }
   ],
   "source": [
    "for i in zipped:\n",
    "    print(ids)\n",
    "    print(name)"
   ]
  },
  {
   "cell_type": "code",
   "execution_count": 21,
   "id": "2d4bd739-aea5-4a70-9811-9feaba11efaa",
   "metadata": {},
   "outputs": [
    {
     "name": "stdout",
     "output_type": "stream",
     "text": [
      "1 Aaif\n",
      "2 Khadija\n",
      "3 Robin\n"
     ]
    }
   ],
   "source": [
    "for ids, name in zipped:\n",
    "    print(ids, name)"
   ]
  },
  {
   "cell_type": "code",
   "execution_count": 22,
   "id": "f0ae544d-9379-483e-857e-1920c114b737",
   "metadata": {},
   "outputs": [
    {
     "name": "stdout",
     "output_type": "stream",
     "text": [
      "(0, (1, 'Aaif'))\n",
      "(1, (2, 'Khadija'))\n",
      "(2, (3, 'Robin'))\n"
     ]
    }
   ],
   "source": [
    "for Data in enumerate(zipped):\n",
    "    ids, name = Data\n",
    "    print(Data)"
   ]
  },
  {
   "cell_type": "code",
   "execution_count": 26,
   "id": "9651055f-e12b-4a79-970a-6c2647f99530",
   "metadata": {},
   "outputs": [
    {
     "name": "stdout",
     "output_type": "stream",
     "text": [
      "index0, id = 1, Name = Aaif\n",
      "index1, id = 2, Name = Khadija\n",
      "index2, id = 3, Name = Robin\n"
     ]
    }
   ],
   "source": [
    "for index, Data in enumerate(zipped):\n",
    "    ids, name = Data\n",
    "    print('index{}, id = {}, Name = {}'.format(index, ids, name))"
   ]
  },
  {
   "cell_type": "code",
   "execution_count": null,
   "id": "e8b19969-dfbd-494e-8be6-3a0b831ad329",
   "metadata": {},
   "outputs": [],
   "source": []
  },
  {
   "cell_type": "raw",
   "id": "8177c795-2c77-4d6b-9d87-150f440abf1f",
   "metadata": {},
   "source": [
    "Asif Antaj Robin\n",
    "+88 01312531960\n",
    "asifantajrobin@gmail.com\n",
    "https://www.facebook.com/profile.php?id=100082193912347"
   ]
  }
 ],
 "metadata": {
  "kernelspec": {
   "display_name": "Python 3 (ipykernel)",
   "language": "python",
   "name": "python3"
  },
  "language_info": {
   "codemirror_mode": {
    "name": "ipython",
    "version": 3
   },
   "file_extension": ".py",
   "mimetype": "text/x-python",
   "name": "python",
   "nbconvert_exporter": "python",
   "pygments_lexer": "ipython3",
   "version": "3.11.7"
  }
 },
 "nbformat": 4,
 "nbformat_minor": 5
}

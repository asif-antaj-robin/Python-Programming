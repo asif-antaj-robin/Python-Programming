{
 "cells": [
  {
   "cell_type": "markdown",
   "id": "bac1c613-8380-4ac7-bcf4-e9b2aa0ff9cc",
   "metadata": {},
   "source": [
    "# Operators"
   ]
  },
  {
   "cell_type": "raw",
   "id": "a56df8d4-911c-4234-b08f-1d3866c656e1",
   "metadata": {},
   "source": [
    "1. Arithmetic Operators   (+  - * / % ** //)\n",
    "2. Identity Operators     (is, is not)\n",
    "3. Bitwise Operators      (& | ^ ~ << >>)\n",
    "4. Comparison Operators   (== != > < >= <=)\n",
    "5. Logical Operators      (and, or, not)\n",
    "6. Assignment Operators   (= += -= *= /= %= //= **= &= |= ^= >>= <<=)\n",
    "7. Membership Operators   (in, not in)"
   ]
  },
  {
   "cell_type": "markdown",
   "id": "2117bd8f-470f-4a2d-921d-8a87012108fa",
   "metadata": {},
   "source": [
    "# Arithmetic Operators"
   ]
  },
  {
   "cell_type": "code",
   "execution_count": 1,
   "id": "f5170c46-8efd-437e-a3fd-a5dccbf95a96",
   "metadata": {},
   "outputs": [],
   "source": [
    "#Assinging the variables\n",
    "x = 15\n",
    "y = 4\n",
    "z = 3"
   ]
  },
  {
   "cell_type": "code",
   "execution_count": 2,
   "id": "24678f14-2960-40f9-b55a-15b2a0d59e38",
   "metadata": {},
   "outputs": [
    {
     "data": {
      "text/plain": [
       "19"
      ]
     },
     "execution_count": 2,
     "metadata": {},
     "output_type": "execute_result"
    }
   ],
   "source": [
    "x+y"
   ]
  },
  {
   "cell_type": "code",
   "execution_count": 3,
   "id": "7b88a601-a7c9-4902-88d3-9448f49d69ce",
   "metadata": {},
   "outputs": [
    {
     "data": {
      "text/plain": [
       "11"
      ]
     },
     "execution_count": 3,
     "metadata": {},
     "output_type": "execute_result"
    }
   ],
   "source": [
    "x-y"
   ]
  },
  {
   "cell_type": "code",
   "execution_count": 4,
   "id": "5a3938b7-840d-4ae0-aad0-f14e239aece2",
   "metadata": {},
   "outputs": [
    {
     "data": {
      "text/plain": [
       "60"
      ]
     },
     "execution_count": 4,
     "metadata": {},
     "output_type": "execute_result"
    }
   ],
   "source": [
    "x*y"
   ]
  },
  {
   "cell_type": "code",
   "execution_count": 5,
   "id": "77f7db92-6d57-4379-842b-09ff1e73a3ea",
   "metadata": {},
   "outputs": [
    {
     "data": {
      "text/plain": [
       "3.75"
      ]
     },
     "execution_count": 5,
     "metadata": {},
     "output_type": "execute_result"
    }
   ],
   "source": [
    "x/y"
   ]
  },
  {
   "cell_type": "code",
   "execution_count": 6,
   "id": "a0431e13-b329-420c-9b54-5c716a12b8c9",
   "metadata": {},
   "outputs": [
    {
     "data": {
      "text/plain": [
       "1"
      ]
     },
     "execution_count": 6,
     "metadata": {},
     "output_type": "execute_result"
    }
   ],
   "source": [
    "10%3"
   ]
  },
  {
   "cell_type": "code",
   "execution_count": 7,
   "id": "da8980f8-6195-4639-9c87-74cdaf129891",
   "metadata": {},
   "outputs": [
    {
     "data": {
      "text/plain": [
       "50625"
      ]
     },
     "execution_count": 7,
     "metadata": {},
     "output_type": "execute_result"
    }
   ],
   "source": [
    "x ** y #15*15*15*15"
   ]
  },
  {
   "cell_type": "code",
   "execution_count": 8,
   "id": "2076b7bd-6c7e-43a8-bd1c-5fe6f313dc2b",
   "metadata": {},
   "outputs": [
    {
     "data": {
      "text/plain": [
       "50625"
      ]
     },
     "execution_count": 8,
     "metadata": {},
     "output_type": "execute_result"
    }
   ],
   "source": [
    "15*15*15*15 #x**y"
   ]
  },
  {
   "cell_type": "code",
   "execution_count": 9,
   "id": "da7987d2-a047-4cc1-9cb4-68dea364d535",
   "metadata": {},
   "outputs": [
    {
     "data": {
      "text/plain": [
       "3"
      ]
     },
     "execution_count": 9,
     "metadata": {},
     "output_type": "execute_result"
    }
   ],
   "source": [
    "x // y"
   ]
  },
  {
   "cell_type": "code",
   "execution_count": 10,
   "id": "2a04bb1c-4b2b-4837-9e1c-69aa983a1173",
   "metadata": {},
   "outputs": [
    {
     "data": {
      "text/plain": [
       "3"
      ]
     },
     "execution_count": 10,
     "metadata": {},
     "output_type": "execute_result"
    }
   ],
   "source": [
    "import math\n",
    "math.floor(x/y)"
   ]
  },
  {
   "cell_type": "code",
   "execution_count": 11,
   "id": "ba7b6fde-e9fd-4bec-98a1-87a60f1f187e",
   "metadata": {},
   "outputs": [
    {
     "data": {
      "text/plain": [
       "3.75"
      ]
     },
     "execution_count": 11,
     "metadata": {},
     "output_type": "execute_result"
    }
   ],
   "source": [
    "x/y"
   ]
  },
  {
   "cell_type": "code",
   "execution_count": 12,
   "id": "af2d2102-d918-4f11-b1ac-6853b60e913d",
   "metadata": {},
   "outputs": [
    {
     "data": {
      "text/plain": [
       "4"
      ]
     },
     "execution_count": 12,
     "metadata": {},
     "output_type": "execute_result"
    }
   ],
   "source": [
    "math.ceil(x/y)"
   ]
  },
  {
   "cell_type": "code",
   "execution_count": null,
   "id": "f04fa947-26ee-471c-8b77-17063eae982c",
   "metadata": {},
   "outputs": [],
   "source": []
  },
  {
   "cell_type": "markdown",
   "id": "5be478bd-b4c2-489d-81b9-dafdff9702f2",
   "metadata": {},
   "source": [
    "# Identity Operators"
   ]
  },
  {
   "cell_type": "code",
   "execution_count": 13,
   "id": "1e7828e6-ac48-4eda-af07-d0262de9633f",
   "metadata": {},
   "outputs": [
    {
     "data": {
      "text/plain": [
       "False"
      ]
     },
     "execution_count": 13,
     "metadata": {},
     "output_type": "execute_result"
    }
   ],
   "source": [
    "x = 1020304050\n",
    "y = 5040302010\n",
    "\n",
    "x is y"
   ]
  },
  {
   "cell_type": "code",
   "execution_count": 14,
   "id": "95903bf0-9684-455e-9d65-d21683d9b21a",
   "metadata": {},
   "outputs": [
    {
     "data": {
      "text/plain": [
       "False"
      ]
     },
     "execution_count": 14,
     "metadata": {},
     "output_type": "execute_result"
    }
   ],
   "source": [
    "x == y"
   ]
  },
  {
   "cell_type": "code",
   "execution_count": 15,
   "id": "bdc2ed99-f7ee-4cdc-966a-e3a95457b8a2",
   "metadata": {},
   "outputs": [],
   "source": [
    "x = 1020304050\n",
    "y = 5040302010\n",
    "m = 1020304050\n",
    "\n",
    "z = x"
   ]
  },
  {
   "cell_type": "code",
   "execution_count": 16,
   "id": "9f232d8b-3cb9-4610-b7a9-3804fd9b686a",
   "metadata": {},
   "outputs": [
    {
     "data": {
      "text/plain": [
       "True"
      ]
     },
     "execution_count": 16,
     "metadata": {},
     "output_type": "execute_result"
    }
   ],
   "source": [
    "x is z"
   ]
  },
  {
   "cell_type": "code",
   "execution_count": 17,
   "id": "bdec8d88-ba39-4c7a-8f9e-156a9e039635",
   "metadata": {},
   "outputs": [
    {
     "data": {
      "text/plain": [
       "False"
      ]
     },
     "execution_count": 17,
     "metadata": {},
     "output_type": "execute_result"
    }
   ],
   "source": [
    "x is y"
   ]
  },
  {
   "cell_type": "code",
   "execution_count": 18,
   "id": "51a62270-4bd0-4e9c-8e32-806c18dd2dab",
   "metadata": {},
   "outputs": [
    {
     "data": {
      "text/plain": [
       "True"
      ]
     },
     "execution_count": 18,
     "metadata": {},
     "output_type": "execute_result"
    }
   ],
   "source": [
    "x == m"
   ]
  },
  {
   "cell_type": "code",
   "execution_count": 19,
   "id": "c0776288-ce51-4144-8872-870eef3b792e",
   "metadata": {},
   "outputs": [
    {
     "data": {
      "text/plain": [
       "False"
      ]
     },
     "execution_count": 19,
     "metadata": {},
     "output_type": "execute_result"
    }
   ],
   "source": [
    "x is m"
   ]
  },
  {
   "cell_type": "code",
   "execution_count": 20,
   "id": "88836765-400d-4531-9500-2df53959647b",
   "metadata": {},
   "outputs": [
    {
     "data": {
      "text/plain": [
       "1706230198992"
      ]
     },
     "execution_count": 20,
     "metadata": {},
     "output_type": "execute_result"
    }
   ],
   "source": [
    "id(x)"
   ]
  },
  {
   "cell_type": "code",
   "execution_count": 21,
   "id": "6ab21a94-63af-4caf-8d22-6f1142d0a416",
   "metadata": {},
   "outputs": [
    {
     "data": {
      "text/plain": [
       "1706230198768"
      ]
     },
     "execution_count": 21,
     "metadata": {},
     "output_type": "execute_result"
    }
   ],
   "source": [
    "id(m)"
   ]
  },
  {
   "cell_type": "code",
   "execution_count": 22,
   "id": "dfa69f89-3d8f-4c56-97af-9e97c6783073",
   "metadata": {},
   "outputs": [
    {
     "data": {
      "text/plain": [
       "1706230198992"
      ]
     },
     "execution_count": 22,
     "metadata": {},
     "output_type": "execute_result"
    }
   ],
   "source": [
    "id(z)"
   ]
  },
  {
   "cell_type": "code",
   "execution_count": null,
   "id": "874cfbff-d43b-4cd6-8070-864d3e29374c",
   "metadata": {},
   "outputs": [],
   "source": []
  },
  {
   "cell_type": "markdown",
   "id": "62510de3-4b1b-41f6-9b69-6c5d454718ca",
   "metadata": {},
   "source": [
    "# Bitwise Operators"
   ]
  },
  {
   "cell_type": "code",
   "execution_count": 24,
   "id": "44401947-a092-4e3b-b93a-48a82cfdfb78",
   "metadata": {},
   "outputs": [
    {
     "name": "stdout",
     "output_type": "stream",
     "text": [
      "x | y = 0b1111\n",
      "x & y = 0b0\n"
     ]
    }
   ],
   "source": [
    "#Python Bitwise Operators\n",
    "\n",
    "x = 0b1010  # 10 (binary for 10 in decimal)\n",
    "y = 0b0101  # 5 (binary for 5 in decimal)\n",
    "\n",
    "print(\"x | y =\", bin(x | y))  # Expected output: 0b1111\n",
    "print(\"x & y =\", bin(x & y))  # Expected output: 0b0000"
   ]
  },
  {
   "cell_type": "code",
   "execution_count": 25,
   "id": "0e8c6f47-001b-4c4f-b25f-4d1374a0abb2",
   "metadata": {},
   "outputs": [
    {
     "data": {
      "text/plain": [
       "15"
      ]
     },
     "execution_count": 25,
     "metadata": {},
     "output_type": "execute_result"
    }
   ],
   "source": [
    "x = 10\n",
    "y = 5\n",
    "\n",
    "x |y"
   ]
  },
  {
   "cell_type": "code",
   "execution_count": 26,
   "id": "8a405a2b-b452-4a0d-b8f7-4c7c31f77592",
   "metadata": {},
   "outputs": [
    {
     "data": {
      "text/plain": [
       "0"
      ]
     },
     "execution_count": 26,
     "metadata": {},
     "output_type": "execute_result"
    }
   ],
   "source": [
    "x & y"
   ]
  },
  {
   "cell_type": "code",
   "execution_count": null,
   "id": "97f85137-0a75-4291-a52a-e5af4f8911dd",
   "metadata": {},
   "outputs": [],
   "source": []
  },
  {
   "cell_type": "markdown",
   "id": "649758c2-9e96-4171-a18b-1f1ad78448ce",
   "metadata": {},
   "source": [
    "# Comparasion Operators"
   ]
  },
  {
   "cell_type": "code",
   "execution_count": 27,
   "id": "0cb5d5fc-3f89-47e5-a22b-90055449ead0",
   "metadata": {},
   "outputs": [
    {
     "data": {
      "text/plain": [
       "True"
      ]
     },
     "execution_count": 27,
     "metadata": {},
     "output_type": "execute_result"
    }
   ],
   "source": [
    "10 == 10"
   ]
  },
  {
   "cell_type": "code",
   "execution_count": 28,
   "id": "d2c9f022-e029-41fe-b921-e1b99299c265",
   "metadata": {},
   "outputs": [
    {
     "data": {
      "text/plain": [
       "False"
      ]
     },
     "execution_count": 28,
     "metadata": {},
     "output_type": "execute_result"
    }
   ],
   "source": [
    "10>10"
   ]
  },
  {
   "cell_type": "code",
   "execution_count": 29,
   "id": "460d2d73-baec-48d4-bbf4-42a110723db5",
   "metadata": {},
   "outputs": [
    {
     "data": {
      "text/plain": [
       "True"
      ]
     },
     "execution_count": 29,
     "metadata": {},
     "output_type": "execute_result"
    }
   ],
   "source": [
    "10 >= 10"
   ]
  },
  {
   "cell_type": "code",
   "execution_count": null,
   "id": "e20c6530-5b4e-4784-8ba5-070606ab0787",
   "metadata": {},
   "outputs": [],
   "source": []
  },
  {
   "cell_type": "markdown",
   "id": "e2abb82c-8340-42de-a235-befe164b8c66",
   "metadata": {},
   "source": [
    "# Logical operators"
   ]
  },
  {
   "cell_type": "code",
   "execution_count": 30,
   "id": "7a52260c-f12b-4bfe-b3ed-263510124e63",
   "metadata": {},
   "outputs": [
    {
     "data": {
      "text/plain": [
       "False"
      ]
     },
     "execution_count": 30,
     "metadata": {},
     "output_type": "execute_result"
    }
   ],
   "source": [
    "10>4 and 10<3"
   ]
  },
  {
   "cell_type": "code",
   "execution_count": 31,
   "id": "b235db9a-44c2-4c0d-b6e9-35a3ec7750c5",
   "metadata": {},
   "outputs": [
    {
     "data": {
      "text/plain": [
       "True"
      ]
     },
     "execution_count": 31,
     "metadata": {},
     "output_type": "execute_result"
    }
   ],
   "source": [
    "10>9 and 4<5"
   ]
  },
  {
   "cell_type": "code",
   "execution_count": 32,
   "id": "57a66a86-583b-4dfc-ac42-9362c60a5ba8",
   "metadata": {},
   "outputs": [
    {
     "data": {
      "text/plain": [
       "True"
      ]
     },
     "execution_count": 32,
     "metadata": {},
     "output_type": "execute_result"
    }
   ],
   "source": [
    "10>4 or 10<3"
   ]
  },
  {
   "cell_type": "code",
   "execution_count": 33,
   "id": "2fb4b1da-3117-45d4-9bce-3d86437abee4",
   "metadata": {},
   "outputs": [
    {
     "data": {
      "text/plain": [
       "False"
      ]
     },
     "execution_count": 33,
     "metadata": {},
     "output_type": "execute_result"
    }
   ],
   "source": [
    "not(10>4 or 10<3)"
   ]
  },
  {
   "cell_type": "code",
   "execution_count": null,
   "id": "3654069c-5077-4ad8-9a35-700f73c99cc9",
   "metadata": {},
   "outputs": [],
   "source": []
  },
  {
   "cell_type": "markdown",
   "id": "e59adfe9-ba37-4ebb-8495-46ef80d3776b",
   "metadata": {},
   "source": [
    "# Assignment Operators"
   ]
  },
  {
   "cell_type": "code",
   "execution_count": 34,
   "id": "bf833290-2b81-4bc7-8374-d082292d1dbb",
   "metadata": {},
   "outputs": [
    {
     "data": {
      "text/plain": [
       "14"
      ]
     },
     "execution_count": 34,
     "metadata": {},
     "output_type": "execute_result"
    }
   ],
   "source": [
    "x = 10\n",
    "x += 4\n",
    "x"
   ]
  },
  {
   "cell_type": "code",
   "execution_count": 35,
   "id": "d3435f16-d6c0-4681-a1c4-a121253d1d94",
   "metadata": {},
   "outputs": [
    {
     "data": {
      "text/plain": [
       "18"
      ]
     },
     "execution_count": 35,
     "metadata": {},
     "output_type": "execute_result"
    }
   ],
   "source": [
    "x = x+4\n",
    "x"
   ]
  },
  {
   "cell_type": "code",
   "execution_count": null,
   "id": "13195402-1693-4dc0-8f33-ca3e175ca874",
   "metadata": {},
   "outputs": [],
   "source": []
  },
  {
   "cell_type": "raw",
   "id": "bba575a0-c8a2-44b7-9358-9663785c4783",
   "metadata": {},
   "source": [
    "Asif Antaj Robin\n",
    "+88 01312531960\n",
    "asifantajrobin@gmail.com\n",
    "https://www.facebook.com/profile.php?id=100082193912347"
   ]
  }
 ],
 "metadata": {
  "kernelspec": {
   "display_name": "Python 3 (ipykernel)",
   "language": "python",
   "name": "python3"
  },
  "language_info": {
   "codemirror_mode": {
    "name": "ipython",
    "version": 3
   },
   "file_extension": ".py",
   "mimetype": "text/x-python",
   "name": "python",
   "nbconvert_exporter": "python",
   "pygments_lexer": "ipython3",
   "version": "3.11.7"
  }
 },
 "nbformat": 4,
 "nbformat_minor": 5
}

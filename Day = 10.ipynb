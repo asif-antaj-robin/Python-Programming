{
 "cells": [
  {
   "cell_type": "markdown",
   "id": "31b950eb-c2a9-47bf-b15e-1987373f6de6",
   "metadata": {},
   "source": [
    "# Set Methods"
   ]
  },
  {
   "cell_type": "raw",
   "id": "5e3c7f78-1b2a-4013-b7f5-90f0a80a4405",
   "metadata": {},
   "source": [
    "# add()\n",
    "# clear()\n",
    "# copy()\n",
    "# difference()\n",
    "# difference_update()\n",
    "# discard()\n",
    "# intersection()\n",
    "# intersection_update()\n",
    "# isdisjoint()\n",
    "# issubset()\n",
    "# issuperset()\n",
    "# pop()\n",
    "# remove()\n",
    "# symmetric_difference()\n",
    "# symmetric_difference_update()\n",
    "# union()\n",
    "# update()"
   ]
  },
  {
   "cell_type": "markdown",
   "id": "d79cfca5-520b-4703-aab9-5df510d371f9",
   "metadata": {},
   "source": [
    "# Set in Python"
   ]
  },
  {
   "cell_type": "code",
   "execution_count": 1,
   "id": "3cdc82e4-8aed-4637-a610-52e5d9fac282",
   "metadata": {},
   "outputs": [
    {
     "data": {
      "text/plain": [
       "dict"
      ]
     },
     "execution_count": 1,
     "metadata": {},
     "output_type": "execute_result"
    }
   ],
   "source": [
    "set1 = {}\n",
    "type(set1)"
   ]
  },
  {
   "cell_type": "code",
   "execution_count": 2,
   "id": "8c66de4e-4f10-4519-9c79-f470202f57ef",
   "metadata": {},
   "outputs": [
    {
     "data": {
      "text/plain": [
       "set"
      ]
     },
     "execution_count": 2,
     "metadata": {},
     "output_type": "execute_result"
    }
   ],
   "source": [
    "set1 = set()\n",
    "type(set1)"
   ]
  },
  {
   "cell_type": "code",
   "execution_count": 3,
   "id": "28e610a8-6b72-4d0c-b819-2e7fb34b2f9f",
   "metadata": {},
   "outputs": [
    {
     "data": {
      "text/plain": [
       "set"
      ]
     },
     "execution_count": 3,
     "metadata": {},
     "output_type": "execute_result"
    }
   ],
   "source": [
    "set1 = {1,2,3,4,'ai',(1,7,10)}\n",
    "type(set1)"
   ]
  },
  {
   "cell_type": "code",
   "execution_count": 4,
   "id": "f654d260-8e30-4c3e-9052-adfd46f68a52",
   "metadata": {},
   "outputs": [
    {
     "data": {
      "text/plain": [
       "{(1, 7, 10), 1, 2, 3, 4, 'ai'}"
      ]
     },
     "execution_count": 4,
     "metadata": {},
     "output_type": "execute_result"
    }
   ],
   "source": [
    "set1"
   ]
  },
  {
   "cell_type": "code",
   "execution_count": 5,
   "id": "e0730c19-9bdc-49fc-8263-227bd5cabb06",
   "metadata": {},
   "outputs": [
    {
     "data": {
      "text/plain": [
       "set[0]"
      ]
     },
     "execution_count": 5,
     "metadata": {},
     "output_type": "execute_result"
    }
   ],
   "source": [
    "set[0]"
   ]
  },
  {
   "cell_type": "code",
   "execution_count": null,
   "id": "946b7fac-ff66-4212-b668-944e01ff75f6",
   "metadata": {},
   "outputs": [],
   "source": []
  },
  {
   "cell_type": "markdown",
   "id": "173f3d91-ecc6-4e94-b242-d57abf10da0a",
   "metadata": {},
   "source": [
    "# FrozenSet in Python"
   ]
  },
  {
   "cell_type": "code",
   "execution_count": 6,
   "id": "0e821308-2321-492b-8135-85d5494b293b",
   "metadata": {},
   "outputs": [],
   "source": [
    "set1 = {1, 2, 3, 4, 5, 10, 20, 30, 40, 50, 100}\n",
    "set2 = {1, 2, 3, 4, 5, 15, 25, 35, 45, 55, 150}"
   ]
  },
  {
   "cell_type": "code",
   "execution_count": 7,
   "id": "e709181c-b797-4d30-8a0d-6f85f07f0fd2",
   "metadata": {},
   "outputs": [
    {
     "data": {
      "text/plain": [
       "frozenset({1, 2, 3, 4, 5, 10, 20, 30, 40, 50, 100})"
      ]
     },
     "execution_count": 7,
     "metadata": {},
     "output_type": "execute_result"
    }
   ],
   "source": [
    "set3 = frozenset(set1)\n",
    "set4 = frozenset(set2)\n",
    "\n",
    "set3"
   ]
  },
  {
   "cell_type": "code",
   "execution_count": 8,
   "id": "0644094d-5bf9-424b-8c41-b5198fecd3bb",
   "metadata": {},
   "outputs": [
    {
     "data": {
      "text/plain": [
       "frozenset({1, 2, 3, 4, 5, 15, 25, 35, 45, 55, 150})"
      ]
     },
     "execution_count": 8,
     "metadata": {},
     "output_type": "execute_result"
    }
   ],
   "source": [
    "set4"
   ]
  },
  {
   "cell_type": "code",
   "execution_count": null,
   "id": "9a87dd60-d505-41f8-83a8-a02ce61162f0",
   "metadata": {},
   "outputs": [],
   "source": []
  },
  {
   "cell_type": "markdown",
   "id": "d2580858-55c0-446b-b924-a8836be6fb13",
   "metadata": {},
   "source": [
    "# add()"
   ]
  },
  {
   "cell_type": "code",
   "execution_count": 9,
   "id": "c4365707-6699-474e-b02b-e4462fd9b5da",
   "metadata": {},
   "outputs": [
    {
     "data": {
      "text/plain": [
       "{1, 2, 3, 4, 5, 10, 20, 30, 40, 50, 100, 1000}"
      ]
     },
     "execution_count": 9,
     "metadata": {},
     "output_type": "execute_result"
    }
   ],
   "source": [
    "set1.add(1000)\n",
    "set1"
   ]
  },
  {
   "cell_type": "code",
   "execution_count": null,
   "id": "ddc84e57-f010-4419-8ec9-8b4111d715bc",
   "metadata": {},
   "outputs": [],
   "source": []
  },
  {
   "cell_type": "markdown",
   "id": "9bdfe039-664e-4102-ac64-9cf875e42986",
   "metadata": {},
   "source": [
    "# clear()"
   ]
  },
  {
   "cell_type": "code",
   "execution_count": 10,
   "id": "2e20d8ed-7d4e-4b82-aae6-0ee4aed2152b",
   "metadata": {},
   "outputs": [
    {
     "data": {
      "text/plain": [
       "{1, 2, 3, 4, 5, 20, 50, 100, 200, 500}"
      ]
     },
     "execution_count": 10,
     "metadata": {},
     "output_type": "execute_result"
    }
   ],
   "source": [
    "s1 = {1,2,3,4,5, 20, 50, 100, 200, 500}\n",
    "s1"
   ]
  },
  {
   "cell_type": "code",
   "execution_count": 11,
   "id": "293530b7-cb10-4bff-a4a3-5da4d841614a",
   "metadata": {},
   "outputs": [
    {
     "data": {
      "text/plain": [
       "set()"
      ]
     },
     "execution_count": 11,
     "metadata": {},
     "output_type": "execute_result"
    }
   ],
   "source": [
    "s1.clear()\n",
    "s1"
   ]
  },
  {
   "cell_type": "code",
   "execution_count": null,
   "id": "7532d8fc-cdb3-407c-9e2f-8698e3d99029",
   "metadata": {},
   "outputs": [],
   "source": []
  },
  {
   "cell_type": "markdown",
   "id": "6638cb02-a5d3-4ffb-a963-be6d25e4e5b9",
   "metadata": {},
   "source": [
    "# copy()"
   ]
  },
  {
   "cell_type": "code",
   "execution_count": 12,
   "id": "5c6c6471-81c8-4c93-b607-b1680f49b551",
   "metadata": {},
   "outputs": [
    {
     "data": {
      "text/plain": [
       "{1, 2, 3, 4, 5, 10, 20, 30, 40, 50, 100, 1000}"
      ]
     },
     "execution_count": 12,
     "metadata": {},
     "output_type": "execute_result"
    }
   ],
   "source": [
    "set5 = set1.copy()\n",
    "set5"
   ]
  },
  {
   "cell_type": "code",
   "execution_count": 13,
   "id": "e665c95c-e05c-4d2e-a320-636c49303f16",
   "metadata": {},
   "outputs": [
    {
     "ename": "TypeError",
     "evalue": "'set' object is not subscriptable",
     "output_type": "error",
     "traceback": [
      "\u001b[1;31m---------------------------------------------------------------------------\u001b[0m",
      "\u001b[1;31mTypeError\u001b[0m                                 Traceback (most recent call last)",
      "Cell \u001b[1;32mIn[13], line 1\u001b[0m\n\u001b[1;32m----> 1\u001b[0m set5[\u001b[38;5;241m0\u001b[39m]\n",
      "\u001b[1;31mTypeError\u001b[0m: 'set' object is not subscriptable"
     ]
    }
   ],
   "source": [
    "set5[0]"
   ]
  },
  {
   "cell_type": "code",
   "execution_count": null,
   "id": "76509edb-206a-40bd-9b7f-90b23852d850",
   "metadata": {},
   "outputs": [],
   "source": []
  },
  {
   "cell_type": "markdown",
   "id": "479f795c-cf4b-491d-bc96-00f8cfd91848",
   "metadata": {},
   "source": [
    "# difference()"
   ]
  },
  {
   "cell_type": "code",
   "execution_count": 14,
   "id": "b2d235be-1e20-401a-ab6f-f982d05c913d",
   "metadata": {},
   "outputs": [
    {
     "data": {
      "text/plain": [
       "{10, 20, 30, 40, 50, 100, 1000}"
      ]
     },
     "execution_count": 14,
     "metadata": {},
     "output_type": "execute_result"
    }
   ],
   "source": [
    "set1.difference(set2)"
   ]
  },
  {
   "cell_type": "code",
   "execution_count": 15,
   "id": "9df5273f-d0bd-4167-8702-62189c20bbf5",
   "metadata": {},
   "outputs": [
    {
     "data": {
      "text/plain": [
       "{15, 25, 35, 45, 55, 150}"
      ]
     },
     "execution_count": 15,
     "metadata": {},
     "output_type": "execute_result"
    }
   ],
   "source": [
    "set2.difference(set1)"
   ]
  },
  {
   "cell_type": "code",
   "execution_count": null,
   "id": "f756cb31-59d4-405a-90cb-1a819617d3ba",
   "metadata": {},
   "outputs": [],
   "source": []
  },
  {
   "cell_type": "markdown",
   "id": "40d1fa4e-6928-4b39-93f4-9eba7fa877d3",
   "metadata": {},
   "source": [
    "# difference_update"
   ]
  },
  {
   "cell_type": "code",
   "execution_count": 16,
   "id": "a5216ea6-8a1f-4338-b1c6-1d1b2bc20c22",
   "metadata": {},
   "outputs": [
    {
     "data": {
      "text/plain": [
       "{1, 2, 3, 4, 5, 10, 20, 30, 40, 50, 100, 1000}"
      ]
     },
     "execution_count": 16,
     "metadata": {},
     "output_type": "execute_result"
    }
   ],
   "source": [
    "set1"
   ]
  },
  {
   "cell_type": "code",
   "execution_count": 17,
   "id": "8014bf9c-506b-44f4-b179-42f6e2b85f5f",
   "metadata": {},
   "outputs": [
    {
     "data": {
      "text/plain": [
       "{1, 2, 3, 4, 5, 15, 25, 35, 45, 55, 150}"
      ]
     },
     "execution_count": 17,
     "metadata": {},
     "output_type": "execute_result"
    }
   ],
   "source": [
    "set2"
   ]
  },
  {
   "cell_type": "code",
   "execution_count": 18,
   "id": "72e7fcef-1d3a-46a1-b394-d6ebb73d565b",
   "metadata": {},
   "outputs": [],
   "source": [
    "set1.difference_update(set2)"
   ]
  },
  {
   "cell_type": "code",
   "execution_count": 19,
   "id": "0d3b1d37-a8a6-4610-9149-1677632861a9",
   "metadata": {},
   "outputs": [
    {
     "data": {
      "text/plain": [
       "{10, 20, 30, 40, 50, 100, 1000}"
      ]
     },
     "execution_count": 19,
     "metadata": {},
     "output_type": "execute_result"
    }
   ],
   "source": [
    "set1"
   ]
  },
  {
   "cell_type": "code",
   "execution_count": 20,
   "id": "fbbbdefa-cd8d-4001-a25f-ad1b64dd96d0",
   "metadata": {},
   "outputs": [],
   "source": [
    "set2.difference_update(set1)"
   ]
  },
  {
   "cell_type": "code",
   "execution_count": 21,
   "id": "2c6261ce-822a-4092-ac79-109d8942de8a",
   "metadata": {},
   "outputs": [
    {
     "data": {
      "text/plain": [
       "{1, 2, 3, 4, 5, 15, 25, 35, 45, 55, 150}"
      ]
     },
     "execution_count": 21,
     "metadata": {},
     "output_type": "execute_result"
    }
   ],
   "source": [
    "set2"
   ]
  },
  {
   "cell_type": "code",
   "execution_count": null,
   "id": "25599313-20e9-4de7-b283-d0af75278259",
   "metadata": {},
   "outputs": [],
   "source": []
  },
  {
   "cell_type": "markdown",
   "id": "045c6f1c-5656-4706-835c-74ac405f27a4",
   "metadata": {},
   "source": [
    "# discard()"
   ]
  },
  {
   "cell_type": "code",
   "execution_count": 23,
   "id": "f6211cd4-d815-451e-a0d8-c2b2abff060d",
   "metadata": {},
   "outputs": [
    {
     "data": {
      "text/plain": [
       "{2, 3, 4, 5, 15, 25, 35, 45, 55, 150}"
      ]
     },
     "execution_count": 23,
     "metadata": {},
     "output_type": "execute_result"
    }
   ],
   "source": [
    "set2.discard(1)\n",
    "set2"
   ]
  },
  {
   "cell_type": "code",
   "execution_count": 25,
   "id": "b8e71bf0-682d-4d45-a707-8184301a8f49",
   "metadata": {},
   "outputs": [
    {
     "data": {
      "text/plain": [
       "{2, 3, 4, 5, 15, 25, 35, 45, 150}"
      ]
     },
     "execution_count": 25,
     "metadata": {},
     "output_type": "execute_result"
    }
   ],
   "source": [
    "set2.discard(55)\n",
    "set2"
   ]
  },
  {
   "cell_type": "code",
   "execution_count": null,
   "id": "f7414880-3476-44ca-a0dc-4a2af34a5334",
   "metadata": {},
   "outputs": [],
   "source": []
  },
  {
   "cell_type": "markdown",
   "id": "f3c35dc7-08d6-4b8a-9603-ed6b5c32c76e",
   "metadata": {},
   "source": [
    "# intersection()"
   ]
  },
  {
   "cell_type": "code",
   "execution_count": 26,
   "id": "a9cd1534-34ea-4e6f-aa08-0da59ac73253",
   "metadata": {},
   "outputs": [
    {
     "data": {
      "text/plain": [
       "frozenset({1, 2, 3, 4, 5})"
      ]
     },
     "execution_count": 26,
     "metadata": {},
     "output_type": "execute_result"
    }
   ],
   "source": [
    "set3.intersection(set4)"
   ]
  },
  {
   "cell_type": "code",
   "execution_count": 27,
   "id": "f48e9265-d723-4be5-95e1-4be8a13d906d",
   "metadata": {},
   "outputs": [
    {
     "data": {
      "text/plain": [
       "frozenset({1, 2, 3, 4, 5})"
      ]
     },
     "execution_count": 27,
     "metadata": {},
     "output_type": "execute_result"
    }
   ],
   "source": [
    "set4.intersection(set3)"
   ]
  },
  {
   "cell_type": "code",
   "execution_count": null,
   "id": "e0cd4f9f-fdf4-4643-a939-836d189ef6a6",
   "metadata": {},
   "outputs": [],
   "source": []
  },
  {
   "cell_type": "markdown",
   "id": "119508e1-4424-4c54-9aa6-b4c4f7d67269",
   "metadata": {},
   "source": [
    "# intersection update()"
   ]
  },
  {
   "cell_type": "code",
   "execution_count": 34,
   "id": "63226968-e00a-4327-9181-82b0ea0f7cf9",
   "metadata": {},
   "outputs": [],
   "source": [
    "set1.intersection_update(set2)"
   ]
  },
  {
   "cell_type": "code",
   "execution_count": 35,
   "id": "0eb86b46-e649-4231-b175-e40755f30fe9",
   "metadata": {},
   "outputs": [
    {
     "data": {
      "text/plain": [
       "set()"
      ]
     },
     "execution_count": 35,
     "metadata": {},
     "output_type": "execute_result"
    }
   ],
   "source": [
    "set1"
   ]
  },
  {
   "cell_type": "code",
   "execution_count": 37,
   "id": "a596e085-7d5a-4b4b-8461-7ef5de5bcd18",
   "metadata": {},
   "outputs": [],
   "source": [
    "set2.intersection_update(set1)"
   ]
  },
  {
   "cell_type": "code",
   "execution_count": 38,
   "id": "6884e413-e01d-4d01-8ca0-29c9fa22a42b",
   "metadata": {},
   "outputs": [
    {
     "data": {
      "text/plain": [
       "set()"
      ]
     },
     "execution_count": 38,
     "metadata": {},
     "output_type": "execute_result"
    }
   ],
   "source": [
    "set2"
   ]
  },
  {
   "cell_type": "code",
   "execution_count": null,
   "id": "f6e048bd-5de2-4264-9a2e-fe20eed12552",
   "metadata": {},
   "outputs": [],
   "source": []
  },
  {
   "cell_type": "code",
   "execution_count": 42,
   "id": "6cc0b8ae-ff89-4658-8806-236ed6e5844f",
   "metadata": {},
   "outputs": [],
   "source": [
    "set1 = {1, 2, 3, 4, 5, 10, 20, 30, 40, 50, 100}\n",
    "set2 = {1, 2, 3, 4, 5, 15, 25, 35, 45, 55, 150}\n",
    "\n",
    "set3 = frozenset(set1)\n",
    "set4 = frozenset(set2)"
   ]
  },
  {
   "cell_type": "code",
   "execution_count": 41,
   "id": "5e04731a-6887-4441-a8d9-58651460f885",
   "metadata": {},
   "outputs": [],
   "source": []
  },
  {
   "cell_type": "markdown",
   "id": "fb9a83cc-5acb-4104-80f9-40e1365b6eea",
   "metadata": {},
   "source": [
    "# isdisjoint()"
   ]
  },
  {
   "cell_type": "code",
   "execution_count": 43,
   "id": "7bd364cf-73c8-4780-9fff-7f74b2e61875",
   "metadata": {},
   "outputs": [
    {
     "data": {
      "text/plain": [
       "False"
      ]
     },
     "execution_count": 43,
     "metadata": {},
     "output_type": "execute_result"
    }
   ],
   "source": [
    "set1.isdisjoint(set2)"
   ]
  },
  {
   "cell_type": "code",
   "execution_count": 45,
   "id": "0ca07f93-5f72-4445-afc3-a26369693ef2",
   "metadata": {},
   "outputs": [
    {
     "data": {
      "text/plain": [
       "False"
      ]
     },
     "execution_count": 45,
     "metadata": {},
     "output_type": "execute_result"
    }
   ],
   "source": [
    "set1.isdisjoint(set1)"
   ]
  },
  {
   "cell_type": "code",
   "execution_count": 46,
   "id": "8f052dbb-bb4b-491e-9b2f-236fa194d74a",
   "metadata": {},
   "outputs": [],
   "source": [
    "s1 = {1, 2, 3, 4, 5}\n",
    "s2 = {6, 7, 8, 9, 10}"
   ]
  },
  {
   "cell_type": "code",
   "execution_count": 47,
   "id": "311c3fb5-028f-44d9-8070-1d93d604c875",
   "metadata": {},
   "outputs": [
    {
     "data": {
      "text/plain": [
       "True"
      ]
     },
     "execution_count": 47,
     "metadata": {},
     "output_type": "execute_result"
    }
   ],
   "source": [
    "s1.isdisjoint(s2)"
   ]
  },
  {
   "cell_type": "code",
   "execution_count": null,
   "id": "15cccbd9-0989-4eff-b4c6-70b492574b9b",
   "metadata": {},
   "outputs": [],
   "source": []
  },
  {
   "cell_type": "markdown",
   "id": "9fe05df6-01a3-4248-a451-09935d0b9ec7",
   "metadata": {},
   "source": [
    "# issubset()"
   ]
  },
  {
   "cell_type": "code",
   "execution_count": 48,
   "id": "47ddb273-c387-4984-b0b0-383ac6e08f2d",
   "metadata": {},
   "outputs": [
    {
     "data": {
      "text/plain": [
       "False"
      ]
     },
     "execution_count": 48,
     "metadata": {},
     "output_type": "execute_result"
    }
   ],
   "source": [
    "s1.issubset(s2)"
   ]
  },
  {
   "cell_type": "code",
   "execution_count": 52,
   "id": "f28e7e96-05bc-4dee-be41-8d2620c0a346",
   "metadata": {},
   "outputs": [],
   "source": [
    "s1 = {1, 2, 3, 4, 5}\n",
    "s2 = {1, 2, 3, 4, 5, 6, 7, 8, 9, 10}"
   ]
  },
  {
   "cell_type": "code",
   "execution_count": 53,
   "id": "5960ab36-f78e-4ae8-a815-d87cd05ede5a",
   "metadata": {},
   "outputs": [
    {
     "data": {
      "text/plain": [
       "True"
      ]
     },
     "execution_count": 53,
     "metadata": {},
     "output_type": "execute_result"
    }
   ],
   "source": [
    "s1.issubset(s2)"
   ]
  },
  {
   "cell_type": "code",
   "execution_count": 54,
   "id": "092e828b-77dd-4a95-97b9-445077148e76",
   "metadata": {},
   "outputs": [
    {
     "data": {
      "text/plain": [
       "False"
      ]
     },
     "execution_count": 54,
     "metadata": {},
     "output_type": "execute_result"
    }
   ],
   "source": [
    "s2.issubset(s1)"
   ]
  },
  {
   "cell_type": "code",
   "execution_count": null,
   "id": "723a099c-6549-4ca6-8a1a-be697da496f1",
   "metadata": {},
   "outputs": [],
   "source": []
  },
  {
   "cell_type": "markdown",
   "id": "24ceefae-783d-42c1-a533-094c19b255f8",
   "metadata": {},
   "source": [
    "# issuperset()"
   ]
  },
  {
   "cell_type": "code",
   "execution_count": 57,
   "id": "9dc6cb50-0360-4e20-b667-8bc3c5972e0d",
   "metadata": {},
   "outputs": [],
   "source": [
    "set_a = {1, 2, 3, 4, 5}\n",
    "set_b = {1, 2, 3}\n",
    "set_c = {1,6}"
   ]
  },
  {
   "cell_type": "code",
   "execution_count": 56,
   "id": "b781648c-91ad-4196-8087-b9ec4dbb51c3",
   "metadata": {},
   "outputs": [
    {
     "data": {
      "text/plain": [
       "True"
      ]
     },
     "execution_count": 56,
     "metadata": {},
     "output_type": "execute_result"
    }
   ],
   "source": [
    "set_a.issuperset(set_b)"
   ]
  },
  {
   "cell_type": "code",
   "execution_count": 58,
   "id": "ad9777d0-5448-445b-a674-0034071ca55c",
   "metadata": {},
   "outputs": [
    {
     "data": {
      "text/plain": [
       "False"
      ]
     },
     "execution_count": 58,
     "metadata": {},
     "output_type": "execute_result"
    }
   ],
   "source": [
    "set_a.issuperset(set_c)"
   ]
  },
  {
   "cell_type": "code",
   "execution_count": null,
   "id": "d5d4c038-fcdc-44b2-bd73-ba09a1befc4c",
   "metadata": {},
   "outputs": [],
   "source": []
  },
  {
   "cell_type": "markdown",
   "id": "0141d51d-db93-456b-a4e2-4f7f2829da90",
   "metadata": {},
   "source": [
    "# pop()"
   ]
  },
  {
   "cell_type": "code",
   "execution_count": 59,
   "id": "8ad9bdda-1516-4f6c-a642-9c60f4fc458a",
   "metadata": {},
   "outputs": [
    {
     "data": {
      "text/plain": [
       "1"
      ]
     },
     "execution_count": 59,
     "metadata": {},
     "output_type": "execute_result"
    }
   ],
   "source": [
    "set_a = {1, 2, 3, 4, 5}\n",
    "set_a.pop()"
   ]
  },
  {
   "cell_type": "code",
   "execution_count": 62,
   "id": "78ad4329-e707-4da8-b0b1-a8a339519ae6",
   "metadata": {},
   "outputs": [
    {
     "data": {
      "text/plain": [
       "2"
      ]
     },
     "execution_count": 62,
     "metadata": {},
     "output_type": "execute_result"
    }
   ],
   "source": [
    "set_a.pop()"
   ]
  },
  {
   "cell_type": "code",
   "execution_count": null,
   "id": "f1f373c0-b97e-4618-b564-288ceedf9a87",
   "metadata": {},
   "outputs": [],
   "source": []
  },
  {
   "cell_type": "markdown",
   "id": "3e5f5e13-3b78-4297-9005-51080f0369f2",
   "metadata": {},
   "source": [
    "# remove()"
   ]
  },
  {
   "cell_type": "code",
   "execution_count": 64,
   "id": "16e88452-cda1-4ec9-9346-faede1679549",
   "metadata": {},
   "outputs": [
    {
     "data": {
      "text/plain": [
       "{1, 2, 4, 5}"
      ]
     },
     "execution_count": 64,
     "metadata": {},
     "output_type": "execute_result"
    }
   ],
   "source": [
    "set_a = {1, 2, 3, 4, 5}\n",
    "set_a.remove(3)\n",
    "set_a"
   ]
  },
  {
   "cell_type": "code",
   "execution_count": 66,
   "id": "3c61270c-276c-4036-9ff7-2f428f649dbe",
   "metadata": {},
   "outputs": [
    {
     "ename": "KeyError",
     "evalue": "5",
     "output_type": "error",
     "traceback": [
      "\u001b[1;31m---------------------------------------------------------------------------\u001b[0m",
      "\u001b[1;31mKeyError\u001b[0m                                  Traceback (most recent call last)",
      "Cell \u001b[1;32mIn[66], line 1\u001b[0m\n\u001b[1;32m----> 1\u001b[0m set_a\u001b[38;5;241m.\u001b[39mremove(\u001b[38;5;241m5\u001b[39m)\n\u001b[0;32m      2\u001b[0m set_a\n",
      "\u001b[1;31mKeyError\u001b[0m: 5"
     ]
    }
   ],
   "source": [
    "set_a.remove(5)\n",
    "set_a"
   ]
  },
  {
   "cell_type": "code",
   "execution_count": null,
   "id": "f849605d-4479-4a6e-9319-c3736d4abc34",
   "metadata": {},
   "outputs": [],
   "source": []
  },
  {
   "cell_type": "markdown",
   "id": "3aba8428-00b7-455d-bd43-d4c48b515907",
   "metadata": {},
   "source": [
    "# symmetric_difference()"
   ]
  },
  {
   "cell_type": "code",
   "execution_count": 3,
   "id": "18f1c729-8d4b-40fd-a141-fa6b1c953e99",
   "metadata": {},
   "outputs": [],
   "source": [
    "set_a = {1, 2, 3, 4}\n",
    "set_b = {3, 4, 5, 6}"
   ]
  },
  {
   "cell_type": "code",
   "execution_count": 4,
   "id": "e9dfa603-61b7-4f0d-8d87-a7464a8c81c6",
   "metadata": {},
   "outputs": [
    {
     "data": {
      "text/plain": [
       "{1, 2, 5, 6}"
      ]
     },
     "execution_count": 4,
     "metadata": {},
     "output_type": "execute_result"
    }
   ],
   "source": [
    "set_a.symmetric_difference(set_b)"
   ]
  },
  {
   "cell_type": "code",
   "execution_count": 5,
   "id": "5a24c748-b6fb-4c4c-ba48-560431f387fe",
   "metadata": {},
   "outputs": [],
   "source": [
    "set1 = {1, 2, 3, 4, 5, 10, 20, 30, 40, 50, 100}\n",
    "set2 = {1, 2, 3, 4, 5, 15, 25, 35, 45, 55, 150}"
   ]
  },
  {
   "cell_type": "code",
   "execution_count": 6,
   "id": "fe9dd0b0-9c26-491a-a7e3-2d5cb460db5a",
   "metadata": {},
   "outputs": [
    {
     "data": {
      "text/plain": [
       "{10, 15, 20, 25, 30, 35, 40, 45, 50, 55, 100, 150}"
      ]
     },
     "execution_count": 6,
     "metadata": {},
     "output_type": "execute_result"
    }
   ],
   "source": [
    "set1.symmetric_difference(set2)"
   ]
  },
  {
   "cell_type": "code",
   "execution_count": 7,
   "id": "6f589735-ede1-47fb-b7b4-29b9e405860b",
   "metadata": {},
   "outputs": [
    {
     "data": {
      "text/plain": [
       "{10, 15, 20, 25, 30, 35, 40, 45, 50, 55, 100, 150}"
      ]
     },
     "execution_count": 7,
     "metadata": {},
     "output_type": "execute_result"
    }
   ],
   "source": [
    "set2.symmetric_difference(set1)"
   ]
  },
  {
   "cell_type": "code",
   "execution_count": null,
   "id": "911743bf-26a4-4586-992b-6b5c86cf99d5",
   "metadata": {},
   "outputs": [],
   "source": []
  },
  {
   "cell_type": "markdown",
   "id": "13f32249-0509-480c-b5a9-1a1be78d42a3",
   "metadata": {},
   "source": [
    "# symmetric_difference update()"
   ]
  },
  {
   "cell_type": "code",
   "execution_count": 8,
   "id": "fe9bc2f0-a046-451b-ade8-bb2b319629cd",
   "metadata": {},
   "outputs": [
    {
     "data": {
      "text/plain": [
       "{1, 2, 3, 4, 5, 10, 20, 30, 40, 50, 100}"
      ]
     },
     "execution_count": 8,
     "metadata": {},
     "output_type": "execute_result"
    }
   ],
   "source": [
    "set1"
   ]
  },
  {
   "cell_type": "code",
   "execution_count": 10,
   "id": "01a0de82-977e-43ed-a921-84f22621174f",
   "metadata": {},
   "outputs": [],
   "source": [
    "set1.symmetric_difference_update(set2)"
   ]
  },
  {
   "cell_type": "code",
   "execution_count": 11,
   "id": "f98d74ed-4c5f-48d8-a039-563be18ea2a7",
   "metadata": {},
   "outputs": [
    {
     "data": {
      "text/plain": [
       "{10, 15, 20, 25, 30, 35, 40, 45, 50, 55, 100, 150}"
      ]
     },
     "execution_count": 11,
     "metadata": {},
     "output_type": "execute_result"
    }
   ],
   "source": [
    "set1"
   ]
  },
  {
   "cell_type": "code",
   "execution_count": null,
   "id": "12d8cedd-09b6-4f86-aecf-9cfe0a1b52dc",
   "metadata": {},
   "outputs": [],
   "source": []
  },
  {
   "cell_type": "markdown",
   "id": "a10a2130-a068-4df4-9cfd-46c7899dcccc",
   "metadata": {},
   "source": [
    "# union()"
   ]
  },
  {
   "cell_type": "code",
   "execution_count": 12,
   "id": "2cb78e02-cec7-4814-893d-7eceb1da1d4c",
   "metadata": {},
   "outputs": [],
   "source": [
    "set1 = {1, 2, 3, 4, 5, 10, 20, 30, 40, 50, 100}\n",
    "set2 = {1, 2, 3, 4, 5, 15, 25, 35, 45, 55, 150}"
   ]
  },
  {
   "cell_type": "code",
   "execution_count": 13,
   "id": "83eb1e7b-bd85-418c-a913-26954d51c757",
   "metadata": {},
   "outputs": [
    {
     "data": {
      "text/plain": [
       "{1, 2, 3, 4, 5, 10, 15, 20, 25, 30, 35, 40, 45, 50, 55, 100, 150}"
      ]
     },
     "execution_count": 13,
     "metadata": {},
     "output_type": "execute_result"
    }
   ],
   "source": [
    "set1.union(set2)"
   ]
  },
  {
   "cell_type": "code",
   "execution_count": 14,
   "id": "b0f4a57f-f52c-4066-b5db-1688440e1683",
   "metadata": {},
   "outputs": [
    {
     "data": {
      "text/plain": [
       "{1, 2, 3, 4, 5, 6}"
      ]
     },
     "execution_count": 14,
     "metadata": {},
     "output_type": "execute_result"
    }
   ],
   "source": [
    "set_a = {1, 2, 3, 4}\n",
    "set_b = {3, 4, 5, 6}\n",
    "\n",
    "set_a.union(set_b)"
   ]
  },
  {
   "cell_type": "code",
   "execution_count": null,
   "id": "69b8a220-195f-4b9b-91bc-ae9fb851fef5",
   "metadata": {},
   "outputs": [],
   "source": []
  },
  {
   "cell_type": "markdown",
   "id": "9ac961cb-9f70-4f8b-b555-2446a2b478dc",
   "metadata": {},
   "source": [
    "# update()"
   ]
  },
  {
   "cell_type": "code",
   "execution_count": 19,
   "id": "fb7ae88c-94aa-4a96-95f4-acab3666cba9",
   "metadata": {},
   "outputs": [
    {
     "data": {
      "text/plain": [
       "{1, 2, 3, 4, 10, 20, 30}"
      ]
     },
     "execution_count": 19,
     "metadata": {},
     "output_type": "execute_result"
    }
   ],
   "source": [
    "set_a.update([10,20,30])\n",
    "set_a"
   ]
  },
  {
   "cell_type": "code",
   "execution_count": null,
   "id": "942255cf-3ac5-4a22-a31b-90f1c728f9f9",
   "metadata": {},
   "outputs": [],
   "source": []
  },
  {
   "cell_type": "raw",
   "id": "aeec0707-bf55-4622-b76d-628b828d5e5c",
   "metadata": {},
   "source": [
    "Asif Antaj Robin\n",
    "+88 01312531960\n",
    "asifantajrobin@gmail.com\n",
    "https://www.facebook.com/profile.php?id=100082193912347"
   ]
  }
 ],
 "metadata": {
  "kernelspec": {
   "display_name": "Python 3 (ipykernel)",
   "language": "python",
   "name": "python3"
  },
  "language_info": {
   "codemirror_mode": {
    "name": "ipython",
    "version": 3
   },
   "file_extension": ".py",
   "mimetype": "text/x-python",
   "name": "python",
   "nbconvert_exporter": "python",
   "pygments_lexer": "ipython3",
   "version": "3.11.7"
  }
 },
 "nbformat": 4,
 "nbformat_minor": 5
}

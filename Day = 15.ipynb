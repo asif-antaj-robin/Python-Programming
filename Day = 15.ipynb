{
 "cells": [
  {
   "cell_type": "markdown",
   "id": "5302f758-e9d7-40cb-9833-689f2d23c89d",
   "metadata": {},
   "source": [
    "# Commonly used built-in functions in Python"
   ]
  },
  {
   "cell_type": "raw",
   "id": "148d5817-eeed-4a5c-8f35-15f821dc8e06",
   "metadata": {},
   "source": [
    "print()\n",
    "len()\n",
    "input()\n",
    "type()\n",
    "int()\n",
    "float()\n",
    "str()\n",
    "range()\n",
    "sum()\n",
    "max()\n",
    "min()\n",
    "abs() #absolute_value\n",
    "round()\n",
    "sorted()\n",
    "any()\n",
    "all()\n",
    "join()\n",
    "upper()\n",
    "lower()\n",
    "list()\n",
    "tuple()\n",
    "dict()\n",
    "set()\n",
    "enumerate()\n",
    "zip()\n",
    "reversed()\n",
    "slice()\n",
    "chr()\n",
    "ord()\n"
   ]
  },
  {
   "cell_type": "code",
   "execution_count": 1,
   "id": "a2647e10-c871-4dfa-85d5-3142c55ee792",
   "metadata": {},
   "outputs": [],
   "source": [
    "#1. print(): Outputs text or variables to the| console."
   ]
  },
  {
   "cell_type": "code",
   "execution_count": 2,
   "id": "8c15f955-19c8-4c8c-8099-0910dd129a59",
   "metadata": {},
   "outputs": [
    {
     "name": "stdout",
     "output_type": "stream",
     "text": [
      "Data Science!\n"
     ]
    }
   ],
   "source": [
    "print(\"Data Science!\")"
   ]
  },
  {
   "cell_type": "code",
   "execution_count": 3,
   "id": "a55fe38c-6d44-48c5-9852-22b8b1d774d4",
   "metadata": {},
   "outputs": [],
   "source": [
    "#2. len(): Returns the length of an object."
   ]
  },
  {
   "cell_type": "code",
   "execution_count": 4,
   "id": "3edc8735-a3eb-4ca2-a098-a4b5ed848ba5",
   "metadata": {},
   "outputs": [
    {
     "data": {
      "text/plain": [
       "5"
      ]
     },
     "execution_count": 4,
     "metadata": {},
     "output_type": "execute_result"
    }
   ],
   "source": [
    "my_list = [1, 2, 3, 4, 5]\n",
    "length = len(my_list)\n",
    "length"
   ]
  },
  {
   "cell_type": "code",
   "execution_count": 5,
   "id": "20cb67a1-240a-48a5-a081-9c86a4dbaedf",
   "metadata": {},
   "outputs": [],
   "source": [
    "# 3. input(): Reads input from the user."
   ]
  },
  {
   "cell_type": "code",
   "execution_count": 6,
   "id": "a35d762f-7710-4eca-89de-bc5badce698b",
   "metadata": {},
   "outputs": [
    {
     "name": "stdin",
     "output_type": "stream",
     "text": [
      "Enter something:  Asif Antaj Robin\n"
     ]
    }
   ],
   "source": [
    "user_input = input(\"Enter something: \")"
   ]
  },
  {
   "cell_type": "code",
   "execution_count": 7,
   "id": "9251687f-edcc-49b7-ad04-ddac9c1cfb58",
   "metadata": {},
   "outputs": [
    {
     "data": {
      "text/plain": [
       "'Asif Antaj Robin'"
      ]
     },
     "execution_count": 7,
     "metadata": {},
     "output_type": "execute_result"
    }
   ],
   "source": [
    "user_input"
   ]
  },
  {
   "cell_type": "code",
   "execution_count": 8,
   "id": "c203bdf4-275d-4e9f-b16b-ebc1ad05fd9b",
   "metadata": {},
   "outputs": [],
   "source": [
    "# 4. type(): Returns the type of an object."
   ]
  },
  {
   "cell_type": "code",
   "execution_count": 9,
   "id": "0d54e409-6321-426c-8043-83e415b0feeb",
   "metadata": {},
   "outputs": [
    {
     "data": {
      "text/plain": [
       "str"
      ]
     },
     "execution_count": 9,
     "metadata": {},
     "output_type": "execute_result"
    }
   ],
   "source": [
    "Name = \"Asif Antaj Robin\"\n",
    "type(Name)"
   ]
  },
  {
   "cell_type": "code",
   "execution_count": 10,
   "id": "c76e4735-d235-4c4c-82ff-ae60b3be57b4",
   "metadata": {},
   "outputs": [],
   "source": [
    "# 5. int(), float(), str(): Converts values to integers, floats, or strings."
   ]
  },
  {
   "cell_type": "code",
   "execution_count": 11,
   "id": "eff6c13d-da19-46bb-a5dd-51facd598d0c",
   "metadata": {},
   "outputs": [],
   "source": [
    "x = 50.5\n",
    "y = 10\n",
    "z = 100"
   ]
  },
  {
   "cell_type": "code",
   "execution_count": 12,
   "id": "0032895f-4238-415c-9a81-783152a23e8a",
   "metadata": {},
   "outputs": [
    {
     "data": {
      "text/plain": [
       "50"
      ]
     },
     "execution_count": 12,
     "metadata": {},
     "output_type": "execute_result"
    }
   ],
   "source": [
    "x = int(x)\n",
    "x"
   ]
  },
  {
   "cell_type": "code",
   "execution_count": 13,
   "id": "7873e416-a90f-4747-bf3f-8746f356df3a",
   "metadata": {},
   "outputs": [
    {
     "data": {
      "text/plain": [
       "10.0"
      ]
     },
     "execution_count": 13,
     "metadata": {},
     "output_type": "execute_result"
    }
   ],
   "source": [
    "y = float(y)\n",
    "y"
   ]
  },
  {
   "cell_type": "code",
   "execution_count": 14,
   "id": "8e6d78d8-bf53-43ba-9387-c003dc30cc5d",
   "metadata": {},
   "outputs": [
    {
     "data": {
      "text/plain": [
       "'100'"
      ]
     },
     "execution_count": 14,
     "metadata": {},
     "output_type": "execute_result"
    }
   ],
   "source": [
    "z = str(z)\n",
    "z"
   ]
  },
  {
   "cell_type": "code",
   "execution_count": 15,
   "id": "86158f02-7e85-4129-9ef8-9c2087331ed5",
   "metadata": {},
   "outputs": [],
   "source": [
    "# 6. range(): Generates a sequence of numbers."
   ]
  },
  {
   "cell_type": "code",
   "execution_count": 17,
   "id": "6755c69c-9da4-4c95-be63-0eaf7fca3058",
   "metadata": {},
   "outputs": [
    {
     "data": {
      "text/plain": [
       "[0, 1, 2, 3, 4, 5, 6, 7, 8, 9]"
      ]
     },
     "execution_count": 17,
     "metadata": {},
     "output_type": "execute_result"
    }
   ],
   "source": [
    "numbers = range(10)\n",
    "numbers = list(numbers)\n",
    "numbers"
   ]
  },
  {
   "cell_type": "code",
   "execution_count": 18,
   "id": "c3238590-fb7c-42e3-b408-0ea1d5b19bce",
   "metadata": {},
   "outputs": [
    {
     "name": "stdout",
     "output_type": "stream",
     "text": [
      "0\n",
      "1\n",
      "2\n",
      "3\n",
      "4\n",
      "5\n",
      "6\n",
      "7\n",
      "8\n",
      "9\n"
     ]
    }
   ],
   "source": [
    "for i in numbers:\n",
    "    print(i)"
   ]
  },
  {
   "cell_type": "code",
   "execution_count": null,
   "id": "3f5e89a9-bcee-4fb1-8267-af78e4d3e843",
   "metadata": {},
   "outputs": [],
   "source": [
    "# 7. sum(): Returns the sum of all elements in an iterable."
   ]
  },
  {
   "cell_type": "code",
   "execution_count": 19,
   "id": "0c177ad3-892a-4d38-9279-5c39f683824d",
   "metadata": {},
   "outputs": [
    {
     "data": {
      "text/plain": [
       "15"
      ]
     },
     "execution_count": 19,
     "metadata": {},
     "output_type": "execute_result"
    }
   ],
   "source": [
    "my_list = [1, 2, 3, 4, 5]\n",
    "total = sum(my_list)\n",
    "total"
   ]
  },
  {
   "cell_type": "code",
   "execution_count": null,
   "id": "5bee88c6-e2ae-446c-889c-c0cfcd2644b4",
   "metadata": {},
   "outputs": [],
   "source": [
    "# 8. max(), min(): Returns the maximum or minimum value from an iterable."
   ]
  },
  {
   "cell_type": "code",
   "execution_count": 20,
   "id": "2128cfec-9863-4d64-bfbc-62dc852f7b00",
   "metadata": {},
   "outputs": [],
   "source": [
    "numbers = [3, 1, 4, 1, 5, 9, 2]\n",
    "max_val = max(numbers)\n",
    "min_val = min(numbers)"
   ]
  },
  {
   "cell_type": "code",
   "execution_count": 21,
   "id": "3f433c39-bc6e-4446-a73b-6682abc8a21a",
   "metadata": {},
   "outputs": [
    {
     "name": "stdout",
     "output_type": "stream",
     "text": [
      "9\n",
      "1\n"
     ]
    }
   ],
   "source": [
    "print(max_val)\n",
    "print(min_val)"
   ]
  },
  {
   "cell_type": "code",
   "execution_count": null,
   "id": "a07bdd92-e12b-44c6-8e12-015a893ef372",
   "metadata": {},
   "outputs": [],
   "source": [
    "# 9. abs(): Returns the absolute value of a number."
   ]
  },
  {
   "cell_type": "code",
   "execution_count": 22,
   "id": "29bd67c5-6f8e-4b98-8609-58b0d7edf302",
   "metadata": {},
   "outputs": [
    {
     "data": {
      "text/plain": [
       "10"
      ]
     },
     "execution_count": 22,
     "metadata": {},
     "output_type": "execute_result"
    }
   ],
   "source": [
    "absolute_value = abs(-10)\n",
    "absolute_value"
   ]
  },
  {
   "cell_type": "code",
   "execution_count": 23,
   "id": "d0a25f37-e143-427c-9f9e-6d8a653571b4",
   "metadata": {},
   "outputs": [
    {
     "data": {
      "text/plain": [
       "50"
      ]
     },
     "execution_count": 23,
     "metadata": {},
     "output_type": "execute_result"
    }
   ],
   "source": [
    "abs(-50)"
   ]
  },
  {
   "cell_type": "code",
   "execution_count": null,
   "id": "2186c610-aaab-4eb4-8fcf-0d1d13aba7fd",
   "metadata": {},
   "outputs": [],
   "source": [
    "# 10. round(): Rounds a floating-point number to a specified number of decimals."
   ]
  },
  {
   "cell_type": "code",
   "execution_count": 24,
   "id": "1d44a252-92bc-404d-a377-ca8f5d5a6caf",
   "metadata": {},
   "outputs": [
    {
     "data": {
      "text/plain": [
       "3.14"
      ]
     },
     "execution_count": 24,
     "metadata": {},
     "output_type": "execute_result"
    }
   ],
   "source": [
    "rounded_num = round(3.14159, 2)  # rounds to 2 decimal places\n",
    "rounded_num"
   ]
  },
  {
   "cell_type": "code",
   "execution_count": null,
   "id": "37ae2e5f-464c-4da5-89f8-408ff4e09851",
   "metadata": {},
   "outputs": [],
   "source": [
    "# 11. sorted(): Returns a new sorted list from the elements of an iterable."
   ]
  },
  {
   "cell_type": "code",
   "execution_count": 25,
   "id": "63b67bb6-e92b-451b-bc57-c798b4047a83",
   "metadata": {},
   "outputs": [
    {
     "data": {
      "text/plain": [
       "[1, 1, 2, 3, 4, 5, 9]"
      ]
     },
     "execution_count": 25,
     "metadata": {},
     "output_type": "execute_result"
    }
   ],
   "source": [
    "numbers = [3, 1, 4, 1, 5, 9, 2]\n",
    "sorted_numbers = sorted(numbers)\n",
    "sorted_numbers"
   ]
  },
  {
   "cell_type": "code",
   "execution_count": null,
   "id": "71c253d7-b4ef-4abb-9baf-64c5175e231b",
   "metadata": {},
   "outputs": [],
   "source": [
    "# 12. any(), all(): Returns True if any or all elements in an iterable are true."
   ]
  },
  {
   "cell_type": "code",
   "execution_count": 26,
   "id": "ed077a25-3aff-463b-a750-75a4755d792c",
   "metadata": {},
   "outputs": [],
   "source": [
    "bool_list = [True, False, True, True, False]\n",
    "any_true = any(bool_list)\n",
    "all_true = all(bool_list)"
   ]
  },
  {
   "cell_type": "code",
   "execution_count": 27,
   "id": "f65b7ef7-bdf7-4277-86f7-95c9cd214209",
   "metadata": {},
   "outputs": [
    {
     "name": "stdout",
     "output_type": "stream",
     "text": [
      "True\n",
      "False\n"
     ]
    }
   ],
   "source": [
    "print(any_true)\n",
    "print(all_true)"
   ]
  },
  {
   "cell_type": "code",
   "execution_count": 29,
   "id": "03444b28-6288-4c75-8be5-4ceb4b02d228",
   "metadata": {},
   "outputs": [],
   "source": [
    "list1 = [10,20,30,40,50,10,20,30,40,50]\n",
    "list2 = [5,5,5,5,5]\n",
    "any_true = any(list1)\n",
    "all_true = all(list2)"
   ]
  },
  {
   "cell_type": "code",
   "execution_count": 31,
   "id": "2c56bdab-c897-4428-9471-a416a421836d",
   "metadata": {},
   "outputs": [
    {
     "name": "stdout",
     "output_type": "stream",
     "text": [
      "True\n",
      "True\n"
     ]
    }
   ],
   "source": [
    "print(any_true)\n",
    "print(all_true)"
   ]
  },
  {
   "cell_type": "code",
   "execution_count": null,
   "id": "ba51edd4-8563-4f50-99f8-980bf45bc8d8",
   "metadata": {},
   "outputs": [],
   "source": [
    "# 13. str.join(): Joins elements of an iterable with a string as a separator."
   ]
  },
  {
   "cell_type": "code",
   "execution_count": 33,
   "id": "46e7dbf8-3ce3-4977-9548-44bcee6f19e8",
   "metadata": {},
   "outputs": [
    {
     "data": {
      "text/plain": [
       "'apple banana orange'"
      ]
     },
     "execution_count": 33,
     "metadata": {},
     "output_type": "execute_result"
    }
   ],
   "source": [
    "my_list = [\"apple\", \"banana\", \"orange\"]\n",
    "joined_str = \" \".join(my_list)\n",
    "joined_str"
   ]
  },
  {
   "cell_type": "code",
   "execution_count": null,
   "id": "0a453652-965f-44dc-9885-ceece90f82e2",
   "metadata": {},
   "outputs": [],
   "source": [
    "# 14. str.lower(), str.upper(): Converts a string to lowercase or uppercase."
   ]
  },
  {
   "cell_type": "code",
   "execution_count": 34,
   "id": "7f785e37-3318-433f-babb-46431d52ca0e",
   "metadata": {},
   "outputs": [],
   "source": [
    "my_string = \"Hello, World!\"\n",
    "lower_case = my_string.lower()\n",
    "upper_case = my_string.upper()"
   ]
  },
  {
   "cell_type": "code",
   "execution_count": 35,
   "id": "3257b31f-4c78-41fb-8692-8f34695ffdab",
   "metadata": {},
   "outputs": [
    {
     "name": "stdout",
     "output_type": "stream",
     "text": [
      "hello, world!\n",
      "HELLO, WORLD!\n"
     ]
    }
   ],
   "source": [
    "print(lower_case)\n",
    "print(upper_case)"
   ]
  },
  {
   "cell_type": "code",
   "execution_count": null,
   "id": "0f9ebe1e-37a5-4eac-a5e0-9b9c67a3833b",
   "metadata": {},
   "outputs": [],
   "source": [
    "# 15. list(), tuple(): Converts an iterable to a list or tuple."
   ]
  },
  {
   "cell_type": "code",
   "execution_count": 36,
   "id": "a6227671-f0e9-41c2-bfa8-dd6c2c4fa2b0",
   "metadata": {},
   "outputs": [
    {
     "data": {
      "text/plain": [
       "[1, 2, 3]"
      ]
     },
     "execution_count": 36,
     "metadata": {},
     "output_type": "execute_result"
    }
   ],
   "source": [
    "my_tuple = (1, 2, 3)\n",
    "tuple_to_list = list(my_tuple)\n",
    "tuple_to_list"
   ]
  },
  {
   "cell_type": "code",
   "execution_count": null,
   "id": "1cb2e11c-3c25-4dd0-ad9b-e17934f083f7",
   "metadata": {},
   "outputs": [],
   "source": [
    "# 16. dict(): Creates a dictionary."
   ]
  },
  {
   "cell_type": "code",
   "execution_count": 37,
   "id": "72437855-3615-4075-83a7-dc07be7ce14f",
   "metadata": {},
   "outputs": [
    {
     "data": {
      "text/plain": [
       "{'name': 'Robin', 'age': 18}"
      ]
     },
     "execution_count": 37,
     "metadata": {},
     "output_type": "execute_result"
    }
   ],
   "source": [
    "my_dict = dict(name=\"Robin\", age=18)\n",
    "my_dict"
   ]
  },
  {
   "cell_type": "code",
   "execution_count": 38,
   "id": "d69d8bcb-4e89-400b-938d-0ec2a4092b3b",
   "metadata": {},
   "outputs": [
    {
     "data": {
      "text/plain": [
       "dict_keys(['name', 'age'])"
      ]
     },
     "execution_count": 38,
     "metadata": {},
     "output_type": "execute_result"
    }
   ],
   "source": [
    "my_dict.keys()"
   ]
  },
  {
   "cell_type": "code",
   "execution_count": 39,
   "id": "8bba8a87-9987-4aa1-af9f-c1427659f094",
   "metadata": {},
   "outputs": [
    {
     "data": {
      "text/plain": [
       "dict_values(['Robin', 18])"
      ]
     },
     "execution_count": 39,
     "metadata": {},
     "output_type": "execute_result"
    }
   ],
   "source": [
    "my_dict.values()"
   ]
  },
  {
   "cell_type": "code",
   "execution_count": 40,
   "id": "89036818-b233-4d51-9292-59a76a959bcd",
   "metadata": {},
   "outputs": [],
   "source": [
    "# 17. set(): Creates a set."
   ]
  },
  {
   "cell_type": "code",
   "execution_count": 41,
   "id": "8f9ce12b-829c-4763-b18c-eb3bb0ed6169",
   "metadata": {},
   "outputs": [
    {
     "data": {
      "text/plain": [
       "{1, 2, 3, 4}"
      ]
     },
     "execution_count": 41,
     "metadata": {},
     "output_type": "execute_result"
    }
   ],
   "source": [
    "my_set = set([1, 2, 3, 3, 4])\n",
    "my_set"
   ]
  },
  {
   "cell_type": "code",
   "execution_count": null,
   "id": "040a0ba1-8246-492d-99fa-35e64f135a5f",
   "metadata": {},
   "outputs": [],
   "source": [
    "# 18. enumerate(): Returns tuples with the index and corresponding element."
   ]
  },
  {
   "cell_type": "code",
   "execution_count": 42,
   "id": "30d13a21-bc0a-4765-a270-21b12cc6ad1c",
   "metadata": {},
   "outputs": [
    {
     "name": "stdout",
     "output_type": "stream",
     "text": [
      "(0, 'a')\n",
      "(1, 'b')\n",
      "(2, 'c')\n"
     ]
    }
   ],
   "source": [
    "my_list = [\"a\", \"b\", \"c\"]\n",
    "for value in enumerate(my_list):\n",
    "    print(value)"
   ]
  },
  {
   "cell_type": "code",
   "execution_count": 43,
   "id": "08482a27-0ee1-49c0-92dd-ebe4fe63fc6f",
   "metadata": {},
   "outputs": [
    {
     "name": "stdout",
     "output_type": "stream",
     "text": [
      "0 a\n",
      "1 b\n",
      "2 c\n"
     ]
    }
   ],
   "source": [
    "my_list = [\"a\", \"b\", \"c\"]\n",
    "for index, value in enumerate(my_list):\n",
    "    print(index, value)"
   ]
  },
  {
   "cell_type": "code",
   "execution_count": null,
   "id": "23627f72-585c-4537-83fe-186d07ceb82b",
   "metadata": {},
   "outputs": [],
   "source": [
    "# 19. zip(): Combines two or more iterables element-wise."
   ]
  },
  {
   "cell_type": "code",
   "execution_count": 44,
   "id": "df3ffb4d-dfb0-4553-b578-342fe1a4f2c5",
   "metadata": {},
   "outputs": [],
   "source": [
    "names = [\"Alice\", \"Bob\", \"Charlie\"]\n",
    "ages = [25, 30, 22]\n",
    "zipped_data = zip(names, ages)"
   ]
  },
  {
   "cell_type": "code",
   "execution_count": 45,
   "id": "4c95bfc3-de0a-49e1-ac21-b57ec941f466",
   "metadata": {},
   "outputs": [
    {
     "data": {
      "text/plain": [
       "zip"
      ]
     },
     "execution_count": 45,
     "metadata": {},
     "output_type": "execute_result"
    }
   ],
   "source": [
    "type(zipped_data)"
   ]
  },
  {
   "cell_type": "code",
   "execution_count": null,
   "id": "f2543a14-b6aa-47b5-8cc9-14bd34c82aa8",
   "metadata": {},
   "outputs": [],
   "source": [
    "# 21. reversed(): Returns a reverse iterator of a sequence."
   ]
  },
  {
   "cell_type": "code",
   "execution_count": 46,
   "id": "7927b143-6b6b-42ae-926a-3372cd25e052",
   "metadata": {},
   "outputs": [
    {
     "data": {
      "text/plain": [
       "[3, 2, 1]"
      ]
     },
     "execution_count": 46,
     "metadata": {},
     "output_type": "execute_result"
    }
   ],
   "source": [
    "my_list = [1, 2, 3]\n",
    "reversed_list = list(reversed(my_list))\n",
    "reversed_list"
   ]
  },
  {
   "cell_type": "code",
   "execution_count": null,
   "id": "3034b126-a4f5-4dd2-ad77-9a4ab6cc0345",
   "metadata": {},
   "outputs": [],
   "source": [
    "# 22. sum() (with start argument): Returns the sum of an iterable with an optional starting value."
   ]
  },
  {
   "cell_type": "code",
   "execution_count": 48,
   "id": "d02a55c6-e4e4-40bd-808c-f462cecc34dc",
   "metadata": {},
   "outputs": [
    {
     "data": {
      "text/plain": [
       "106"
      ]
     },
     "execution_count": 48,
     "metadata": {},
     "output_type": "execute_result"
    }
   ],
   "source": [
    "numbers = [1, 2, 3]\n",
    "total = sum(numbers, 100)  # sum starting from 10\n",
    "total"
   ]
  },
  {
   "cell_type": "code",
   "execution_count": null,
   "id": "e55cdb39-3dbb-49e5-836c-3fc746b429c2",
   "metadata": {},
   "outputs": [],
   "source": [
    "# 23. abs() (for complex numbers): Returns the magnitude of a complex number."
   ]
  },
  {
   "cell_type": "code",
   "execution_count": 49,
   "id": "5c242f2a-bfe6-4508-9538-07b3c1f781e5",
   "metadata": {},
   "outputs": [
    {
     "data": {
      "text/plain": [
       "5.0"
      ]
     },
     "execution_count": 49,
     "metadata": {},
     "output_type": "execute_result"
    }
   ],
   "source": [
    "complex_num = 3 + 4j\n",
    "magnitude = abs(complex_num)\n",
    "magnitude"
   ]
  },
  {
   "cell_type": "code",
   "execution_count": null,
   "id": "181d4530-7b41-4a9b-b635-a8a6fc8ab458",
   "metadata": {},
   "outputs": [],
   "source": [
    "# 24. slice(): Creates a slice object that can be used to slice sequences like lists and strings."
   ]
  },
  {
   "cell_type": "code",
   "execution_count": 50,
   "id": "98a7ec14-dcc6-483a-a758-bbf51b03eda6",
   "metadata": {},
   "outputs": [
    {
     "data": {
      "text/plain": [
       "[2, 3, 4]"
      ]
     },
     "execution_count": 50,
     "metadata": {},
     "output_type": "execute_result"
    }
   ],
   "source": [
    "my_list = [1, 2, 3, 4, 5]\n",
    "my_slice = slice(1, 4)\n",
    "sliced_list = my_list[my_slice]\n",
    "sliced_list"
   ]
  },
  {
   "cell_type": "code",
   "execution_count": null,
   "id": "4c7b6644-8004-4ca7-b778-73cdf5fe29e8",
   "metadata": {},
   "outputs": [],
   "source": [
    "# 25. chr(), ord() (extended usage): Handling Unicode characters and code points."
   ]
  },
  {
   "cell_type": "markdown",
   "id": "20d8297b-2435-4255-845c-16907be0193c",
   "metadata": {},
   "source": [
    "asicc code"
   ]
  },
  {
   "cell_type": "code",
   "execution_count": 52,
   "id": "d5acc302-2783-4b2f-9a6d-d6e15baaf946",
   "metadata": {},
   "outputs": [],
   "source": [
    "euro_symbol = chr(8364)  # returns '€'\n",
    "code_point = ord('€')  # returns 8364"
   ]
  },
  {
   "cell_type": "code",
   "execution_count": 53,
   "id": "e494efe0-7f0f-4938-80ac-032442263704",
   "metadata": {},
   "outputs": [
    {
     "name": "stdout",
     "output_type": "stream",
     "text": [
      "€\n",
      "8364\n"
     ]
    }
   ],
   "source": [
    "print(euro_symbol)\n",
    "print(code_point)"
   ]
  },
  {
   "cell_type": "code",
   "execution_count": 54,
   "id": "bbd79cb2-147f-44d2-bc03-67fbb667bbab",
   "metadata": {},
   "outputs": [
    {
     "name": "stdout",
     "output_type": "stream",
     "text": [
      "A\n"
     ]
    }
   ],
   "source": [
    "char = chr(65)\n",
    "print(char)  # Output: 'A'"
   ]
  },
  {
   "cell_type": "code",
   "execution_count": 55,
   "id": "14653309-91bc-4a19-8566-6eabee9ac83b",
   "metadata": {},
   "outputs": [
    {
     "name": "stdout",
     "output_type": "stream",
     "text": [
      "65\n"
     ]
    }
   ],
   "source": [
    "code_point = ord('A')\n",
    "print(code_point)  # Output: 65"
   ]
  },
  {
   "cell_type": "code",
   "execution_count": null,
   "id": "7d55c95b-00af-4862-8690-2e1eb1b457fd",
   "metadata": {},
   "outputs": [],
   "source": []
  }
 ],
 "metadata": {
  "kernelspec": {
   "display_name": "Python 3 (ipykernel)",
   "language": "python",
   "name": "python3"
  },
  "language_info": {
   "codemirror_mode": {
    "name": "ipython",
    "version": 3
   },
   "file_extension": ".py",
   "mimetype": "text/x-python",
   "name": "python",
   "nbconvert_exporter": "python",
   "pygments_lexer": "ipython3",
   "version": "3.11.7"
  }
 },
 "nbformat": 4,
 "nbformat_minor": 5
}
